{
  "nbformat": 4,
  "nbformat_minor": 0,
  "metadata": {
    "colab": {
      "provenance": [],
      "authorship_tag": "ABX9TyP3V6uFofg5cHGynCvknGl3",
      "include_colab_link": true
    },
    "kernelspec": {
      "name": "python3",
      "display_name": "Python 3"
    },
    "language_info": {
      "name": "python"
    }
  },
  "cells": [
    {
      "cell_type": "markdown",
      "metadata": {
        "id": "view-in-github",
        "colab_type": "text"
      },
      "source": [
        "<a href=\"https://colab.research.google.com/github/zharfanw/fd_zharram/blob/main/FDProject_MinimizePower.ipynb\" target=\"_parent\"><img src=\"https://colab.research.google.com/assets/colab-badge.svg\" alt=\"Open In Colab\"/></a>"
      ]
    },
    {
      "cell_type": "markdown",
      "source": [
        "# **Fullduplex Project : Transmit Power Minimization for Double-RIS-Enabled ISAC System**"
      ],
      "metadata": {
        "id": "kVvUwt7N2RKe"
      }
    },
    {
      "cell_type": "markdown",
      "source": [
        "This notebook referenced by this paper [Transmit Power Minimization for Double-RIS-Enabled ISAC System](https://ieeexplore.ieee.org/document/10681845)\n"
      ],
      "metadata": {
        "id": "ijneyxBu3v1l"
      }
    },
    {
      "cell_type": "code",
      "execution_count": null,
      "metadata": {
        "id": "9S94SzWn1x9Y",
        "colab": {
          "base_uri": "https://localhost:8080/"
        },
        "outputId": "3ce58e5d-6c15-4fe3-e78a-bd02b0871128"
      },
      "outputs": [
        {
          "output_type": "stream",
          "name": "stdout",
          "text": [
            "Requirement already satisfied: cvxpy in /usr/local/lib/python3.11/dist-packages (1.6.5)\n",
            "Requirement already satisfied: osqp>=0.6.2 in /usr/local/lib/python3.11/dist-packages (from cvxpy) (1.0.4)\n",
            "Requirement already satisfied: clarabel>=0.5.0 in /usr/local/lib/python3.11/dist-packages (from cvxpy) (0.10.0)\n",
            "Requirement already satisfied: scs>=3.2.4.post1 in /usr/local/lib/python3.11/dist-packages (from cvxpy) (3.2.7.post2)\n",
            "Requirement already satisfied: numpy>=1.21.6 in /usr/local/lib/python3.11/dist-packages (from cvxpy) (2.0.2)\n",
            "Requirement already satisfied: scipy>=1.11.0 in /usr/local/lib/python3.11/dist-packages (from cvxpy) (1.15.3)\n",
            "Requirement already satisfied: jinja2 in /usr/local/lib/python3.11/dist-packages (from osqp>=0.6.2->cvxpy) (3.1.6)\n",
            "Requirement already satisfied: setuptools in /usr/local/lib/python3.11/dist-packages (from osqp>=0.6.2->cvxpy) (75.2.0)\n",
            "Requirement already satisfied: joblib in /usr/local/lib/python3.11/dist-packages (from osqp>=0.6.2->cvxpy) (1.5.0)\n",
            "Requirement already satisfied: MarkupSafe>=2.0 in /usr/local/lib/python3.11/dist-packages (from jinja2->osqp>=0.6.2->cvxpy) (3.0.2)\n"
          ]
        }
      ],
      "source": [
        "!pip install cvxpy\n",
        "# !pip install jupyter_contrib_nbextensions\n",
        "# !jupyter contrib nbextension install --user\n",
        "# !jupyter nbextension enable varInspector/main"
      ]
    },
    {
      "cell_type": "markdown",
      "source": [
        "# Symbol List\n"
      ],
      "metadata": {
        "id": "61HcJ4614Q4-"
      }
    },
    {
      "cell_type": "code",
      "source": [
        "import numpy as np\n",
        "import cvxpy as cp"
      ],
      "metadata": {
        "id": "iG9SC1HM40K1"
      },
      "execution_count": null,
      "outputs": []
    },
    {
      "cell_type": "markdown",
      "source": [
        "## Function : Initial Parameters\n"
      ],
      "metadata": {
        "id": "WAxYlfU64pp1"
      }
    },
    {
      "cell_type": "markdown",
      "source": [
        "Initialize the values of $ \\{ \\mathbf{w}_{c,k}, \\mathbf{w}_{r,m}, \\mathbf{v}_1, \\mathbf{v}_2 \\}$ to $\n",
        " \\{ \\mathbf{w}_{c,k}^0, \\mathbf{w}_{r,m}^0, \\mathbf{v}_1^0, \\mathbf{v}_2^0 \\}, $ respectively\n",
        "\n",
        " where\n",
        "\n",
        " $\\mathbf{v}_1 \\in \\mathbb{C}^{N_1 \\times 1}$ is the phase shift vector for RIS1, defined as:\n",
        "\n",
        "$$\n",
        "\\mathbf{v}_1 = [\\psi_1, \\ldots, \\psi_{N_1}]^H\n",
        "$$\n",
        "\n",
        "With the constraint:\n",
        "\n",
        "$$\n",
        "|\\mathbf{v}_1[j]| = 1, \\quad \\forall j = 1, \\ldots, N_1\n",
        "$$\n",
        "\n",
        "This means that each element of $\\mathbf{v}_1$ has unit modulus (magnitude 1), i.e., it only adjusts the phase of the reflected signal without changing its amplitude.\n",
        "\n",
        "Similarly, $\\mathbf{v}_2$ is the phase shift vector for RIS2 (if applicable), also with:\n",
        "\n",
        "$$\n",
        "|\\mathbf{v}_2[j]| = 1, \\quad \\forall j\n",
        "$$\n",
        "\n"
      ],
      "metadata": {
        "id": "m5VCN4xm5L39"
      }
    },
    {
      "cell_type": "code",
      "source": [
        "def initialize_parameters(K, M, N1, N2):\n",
        "  # K, num of user,\n",
        "  # M, num of transmit antenna\n",
        "  # N1 and N2, num of elements in RIS1 and RIS2\n",
        "  # bener\n",
        "    \"\"\" Initialize beamforming vectors and phase shifts \"\"\"\n",
        "    wc = [np.random.randn(M, 1) + 1j * np.random.randn(M, 1) for _ in range(K)] # K jumlah user\n",
        "    wr = [np.random.randn(M, 1) + 1j * np.random.randn(M, 1) for _ in range(M)]\n",
        "    v1 = np.exp(1j * 2 * np.pi * np.random.rand(N1, 1))\n",
        "    v2 = np.exp(1j * 2 * np.pi * np.random.rand(N2, 1))\n",
        "    return wc, wr, v1, v2"
      ],
      "metadata": {
        "id": "rvLo7uid4xgF"
      },
      "execution_count": null,
      "outputs": []
    },
    {
      "cell_type": "markdown",
      "source": [
        "##  Function : Total Transmit Power"
      ],
      "metadata": {
        "id": "f8p-LwFg7RPl"
      }
    },
    {
      "cell_type": "markdown",
      "source": [
        "Calculate the total transmit power $P_b^\\nu$:\n",
        "\n",
        "$$\n",
        "\\color{green}{P_b^\\nu} \\triangleq \\sum_{k \\in \\mathcal{K}} \\|\\mathbf{w}_{c,k}\\|^2 + \\sum_{m \\in \\mathcal{M}} \\|\\mathbf{w}_{r,m}\\|^2\n",
        "$$\n",
        "based on equation (2):\n",
        "$$\n",
        "\\color{green}{\\mathbb{E}\\{\\mathbf{x}^H \\mathbf{x}\\}} = \\sum_{k \\in \\mathcal{K}} \\|\\mathbf{w}_{c,k}\\|^2 + \\sum_{m \\in \\mathcal{M}} \\|\\mathbf{w}_{r,m}\\|^2.\n",
        "$$"
      ],
      "metadata": {
        "id": "jOyLIyQ38VjE"
      }
    },
    {
      "cell_type": "code",
      "source": [
        "def total_transmit_power(wc, wr):\n",
        "    \"\"\" Calculate the total transmit power \"\"\"\n",
        "    # l2norm wc\n",
        "    l2norm_wc = [np.linalg.norm(w) for w in wc]\n",
        "    l2norm_wr = [np.linalg.norm(w) for w in wr]\n",
        "    Pb_nu = sum(l2norm_wc) + sum(l2norm_wr)\n",
        "    return Pb_nu"
      ],
      "metadata": {
        "id": "KNUiTKUS7bVM"
      },
      "execution_count": null,
      "outputs": []
    },
    {
      "cell_type": "markdown",
      "source": [
        "## Function : Update Beamformer $\\{\\mathbf{w}_{c,k}\\}^{\\nu+1}$ and $\\{\\mathbf{w}_{r,m}\\}^{\\nu+1}$ with given $\\mathbf{v}_1^\\nu$ and $\\mathbf{v}_2^\\nu$\n",
        "\n",
        "\\begin{aligned}\n",
        "\\min_{\\{\\mathbf{w}_{c,k}\\}, \\{\\mathbf{w}_{r,m}\\}} \\quad & \\sum_{k \\in \\mathcal{K}} \\|\\mathbf{w}_{c,k}\\|^2 + \\sum_{m \\in \\mathcal{M}} \\|\\mathbf{w}_{r,m}\\|^2 \\quad \\text{(17)}\\\\\n",
        "\\text{s.t.}\n",
        "\\quad & \\Upsilon_R \\sigma_R^2 \\leq \\sum_{k \\in \\mathcal{K}} F_A(\\mathbf{w}_{c,k}, \\tilde{\\mathbf{w}}_{c,k}) + \\sum_{m \\in \\mathcal{M}} F_A(\\mathbf{w}_{r,m}, \\tilde{\\mathbf{w}}_{r,m}) \\quad \\text{(15)} \\\\\n",
        "&\n",
        "(2^{\\Gamma_k- 1} ) \\left( \\sum_{m \\in \\mathcal{M}} \\mathbf{w}_{r,m}^H \\mathbf{B} \\mathbf{w}_{r,m} + \\sum_{i \\neq k, i \\in \\mathcal{K}} \\mathbf{w}_{c,i}^H \\mathbf{B} \\mathbf{w}_{c,i} + \\sigma_k^2 \\right) \\leq F_B(\\mathbf{w}_{c,k}, \\widetilde{\\mathbf{w}}_{c,k}) \\quad \\text{(16)}\n",
        "\\end{aligned}\n",
        "\n",
        "Where equation (15) and (16) are result of first approximation of equation (12) and (13).\n",
        "\n",
        "\n",
        "$\n",
        "\\color{green}{\\Upsilon_R \\sigma_R^2 \\leq \\sum_{k \\in \\mathcal{K}} \\mathbf{w}_{c,k}^H \\mathbf{A} \\mathbf{w}_{c,k} + \\sum_{m \\in \\mathcal{M}} \\mathbf{w}_{r,m}^H \\mathbf{A} \\mathbf{w}_{r,m} \\tag{12}\n",
        "}\n",
        "$\n",
        "$\n",
        "(2^{\\Gamma_k- 1}) \\left( \\sum_{m \\in \\mathcal{M}} \\mathbf{w}_{r,m}^H \\mathbf{B} \\mathbf{w}_{r,m} + \\sum_{i \\neq k, i \\in \\mathcal{K}} \\mathbf{w}_{c,i}^H \\mathbf{B} \\mathbf{w}_{c,i} + \\sigma_k^2 \\right) \\leq \\mathbf{w}_{c,k}^H \\mathbf{B} \\mathbf{w}_{c,k} \\tag{13}\n",
        "$\n",
        "\n",
        "First-order Approximation technique solved by\n",
        "$\n",
        "\\color{green}{\n",
        "z^H Q z \\geq 2 \\Re\\left\\{ \\tilde{z}^H Q z \\right\\} - \\tilde{z}^H Q \\tilde{z} \\triangleq F_Q(z, \\tilde{z}) \\tag{14}\n",
        "}\n",
        "$\n"
      ],
      "metadata": {
        "id": "iZa091XB9LNk"
      }
    },
    {
      "cell_type": "code",
      "source": [
        "# Fungsi first-order approximation\n",
        "def F_Q(Q, z, z_tilde):\n",
        "    return 2 * cp.real(z_tilde.conj().T @ Q @ z) - np.real(z_tilde.conj().T @ Q @ z_tilde)\n",
        "\n",
        "def radar_snr_constraint(w_c, w_r, w_c_tilde, w_r_tilde, H_R, alpha, Upsilon_R, sigma_R2):\n",
        "    \"\"\"\n",
        "    Membuat constraint radar SNR (constraint 15) menggunakan first-order approximation.\n",
        "\n",
        "    Parameters:\n",
        "    - w_c: list of cp.Variable (beamformer komunikasi)\n",
        "    - w_r: list of cp.Variable (beamformer radar)\n",
        "    - w_c_tilde: list of np.ndarray (nilai sebelumnya untuk w_c)\n",
        "    - w_r_tilde: list of np.ndarray (nilai sebelumnya untuk w_r)\n",
        "    - H_R: radar channel matrix (numpy array)\n",
        "    - alpha: kompleks scalar (refleksi target)\n",
        "    - Upsilon_R: radar SNR threshold\n",
        "    - sigma_R2: noise power\n",
        "\n",
        "    Returns:\n",
        "    - constraint (cvxpy expression)\n",
        "    \"\"\"\n",
        "\n",
        "    # Buat matriks A = |alpha|^2 * H_R^H * H_R\n",
        "    A = (np.abs(alpha) ** 2) * (H_R.conj().T @ H_R)\n",
        "\n",
        "    # Jumlahkan kontribusi dari semua beamformer\n",
        "    total_FA = sum(\n",
        "        F_Q(A, w_c[k], w_c_tilde[k]) for k in range(len(w_c))\n",
        "    ) + sum(\n",
        "        F_Q(A, w_r[m], w_r_tilde[m]) for m in range(len(w_r))\n",
        "    )\n",
        "\n",
        "    # Bentuk constraint-nya\n",
        "    constraint = Upsilon_R * sigma_R2 <= total_FA\n",
        "\n",
        "    return constraint\n",
        "def comm_sinr_constraints(w_c, w_r, w_c_tilde, B, Gamma_k, sigma_k2):\n",
        "    \"\"\"\n",
        "    Membuat list constraint SINR komunikasi (constraint 16) untuk semua user k.\n",
        "\n",
        "    Parameters:\n",
        "    - w_c: list of cp.Variable (beamformer komunikasi)\n",
        "    - w_r: list of cp.Variable (beamformer radar)\n",
        "    - w_c_tilde: list of np.ndarray (nilai sebelumnya untuk w_c)\n",
        "    - B: channel matrix B (Hermitian, PSD)\n",
        "    - Gamma_k: communication SINR threshold (scalar)\n",
        "    - sigma_k2: noise power (scalar)\n",
        "\n",
        "    Returns:\n",
        "    - constraints: list of cvxpy expressions\n",
        "    \"\"\"\n",
        "\n",
        "    K = len(w_c)\n",
        "    M = len(w_r)\n",
        "\n",
        "    constraints = []\n",
        "    # Interferensi dari radar dan user lain\n",
        "    interference = sum(cp.quad_form(w_r[m], B) for m in range(M)) + \\\n",
        "                    sum(cp.quad_form(w_c[i], B) for i in range(K) if i != k)\n",
        "    lhs = 2**(Gamma_k - 1) * (interference + sigma_k2)\n",
        "    for k in range(K):\n",
        "        rhs = F_Q(B, w_c[k], w_c_tilde[k])\n",
        "\n",
        "        # SINR constraint: left-hand side ≤ right-hand side\n",
        "        constraints.append(lhs <= rhs)\n",
        "\n",
        "    return constraints"
      ],
      "metadata": {
        "id": "DQYH6H9axSkZ"
      },
      "execution_count": null,
      "outputs": []
    },
    {
      "cell_type": "markdown",
      "source": [
        "\n",
        "\n",
        "\n",
        "where $\n",
        " \\quad \\mathbf{A} \\triangleq |\\alpha|^2 \\mathbf{H}_R^H \\mathbf{H}_R \\succeq 0, \\quad \\mathbf{B} \\triangleq \\mathbf{h}_k \\mathbf{h}_k^H \\succeq 0.\n",
        "$\n",
        "\n",
        "$\n",
        "\\color{green}{\\mathbf{H}_R} = \\left( \\mathbf{a}(\\theta_b) + \\mathbf{H}_1^H \\operatorname{diag}(\\mathbf{v}_1) \\mathbf{a}(\\theta_r) \\right) \\left( \\mathbf{a}^H(\\theta_b) + \\mathbf{a}^H(\\theta_r) \\operatorname{diag}(\\mathbf{v}_1) \\mathbf{H}_1 \\right)\n",
        "\\tag{based on 3}\n",
        "$\n",
        "\n",
        "$\\color{green}{\\mathbf{a}(\\theta_r)} = \\left[1, e^{j2\\pi \\frac{d}{\\lambda} \\sin(\\theta_r)}, \\cdots, e^{j2\\pi \\frac{(M-1)d}{\\lambda} \\sin(\\theta_r)} \\right]^T$ and $\\color{green}{\\mathbf{a}(\\theta_b)} = \\left[1, e^{j2\\pi \\frac{d}{\\lambda} \\sin(\\theta_b)}, \\cdots, e^{j2\\pi \\frac{(M-1)d}{\\lambda} \\sin(\\theta_b)} \\right]^T$ is channel steering factor betweeen BS and the sensing target. $\\{\\theta_b,\\theta_r\\}$ stands for the angles of the target relative to the BS and RIS, and respectivelt, and $\\Delta$ is the interval between 2 adjecent antennas at the BS.\n",
        "\n",
        "\n"
      ],
      "metadata": {
        "id": "Ep8w-m3bbRwF"
      }
    },
    {
      "cell_type": "code",
      "source": [
        "def steering_vector(theta, M, d=0.5, wavelength=1):\n",
        "    \"\"\" Generate steering vector a(theta) for ULA \"\"\"\n",
        "    k = 2 * np.pi / wavelength\n",
        "    m = np.arange(M)\n",
        "    return np.exp(1j * k * d * m * np.sin(theta))\n",
        "\n",
        "def compute_H_R(theta_b, theta_r, H1, v1, M, N1, d=0.5, wavelength=1):\n",
        "    \"\"\"\n",
        "    Compute the radar channel matrix H_R based on the double-RIS-enabled ISAC system.\n",
        "\n",
        "    Parameters:\n",
        "        theta_b: angle from BS to target (in radians)\n",
        "        theta_r: angle from RIS1 to target (in radians)\n",
        "        H1: channel matrix from BS to RIS1 (N1 x M)\n",
        "        v1: reflection coefficients of RIS1 (N1 x 1), unit modulus\n",
        "        M: number of antennas at BS\n",
        "        N1: number of elements at RIS1\n",
        "        d: antenna spacing (default 0.5λ)\n",
        "        wavelength: signal wavelength (default 1)\n",
        "\n",
        "    Returns:\n",
        "        H_R: effective radar channel matrix (M x M)\n",
        "    \"\"\"\n",
        "    # Generate steering vectors\n",
        "    a_theta_b = steering_vector(theta_b, M, d, wavelength).reshape((M, 1))  # (M x 1)\n",
        "    a_theta_r = steering_vector(theta_r, N1, d, wavelength).reshape((N1, 1))  # (N1 x 1)\n",
        "\n",
        "    # Make diagonal matrix from RIS1 phase vector\n",
        "    V1 = np.diag(v1.flatten())  # (N1 x N1)\n",
        "\n",
        "    # First term\n",
        "    term1 = a_theta_b + H1.conj().T @ V1 @ a_theta_r  # (M x 1)\n",
        "\n",
        "    # Second term (Hermitian transpose)\n",
        "    term2 = a_theta_b.conj().T + a_theta_r.conj().T @ V1.conj().T @ H1  # (1 x M)\n",
        "\n",
        "    # Final radar channel\n",
        "    H_R = term1 @ term2  # (M x M)\n",
        "    return H_R"
      ],
      "metadata": {
        "id": "2xlqrX8cbCj8"
      },
      "execution_count": null,
      "outputs": []
    },
    {
      "cell_type": "markdown",
      "source": [
        "\n",
        "$\n",
        "\\color{Green}{\\mathbf{H}_1} = \\sqrt{\\frac{\\epsilon_1}{1 + \\epsilon_1}} \\mathbf{H}_1^{\\mathrm{LOS}} + \\sqrt{\\frac{1}{1 + \\epsilon_1}} \\mathbf{H}_1^{\\mathrm{NLOS}} \\tag{4}\n",
        "$\n",
        "\n",
        "$H_1$ is assumed to be Rician fading channgel matrix between the BS and RIS1. $H_1^{LOS}$ is Channel MIMO Line-of-Sight. Referenced by Tse and Viswanath: Fundamentals of Wireless Communication pages 352 Eq. 7.29. $H_1^{NLOS}$ represent Reyleight fading non-LOS Component, which has i.i.d circularly symmetric complex Gaussioan entries with zero-mean and unit variance\n",
        "\n",
        "$$\n",
        "\\mathbf{H^{LOS}} = a \\cdot \\sqrt{n_t n_r} \\cdot \\exp\\left( -j \\frac{2\\pi d}{\\lambda_c} \\right) \\cdot \\mathbf{e}_r(\\Omega_r) \\cdot \\mathbf{e}_t^*(\\Omega_t)\n",
        "$$\n",
        "where $a = \\sqrt{P_t \\cdot G_t \\cdot G_r} \\cdot \\left( \\frac{\\lambda}{4\\pi d} \\right)$ as Friis Free Space Transmission Equation. $n_t n_r$ is the power gain of the MIMO Channel, or simply $n_t$ is num of transmit antenna, $n_r$ is num of receive antenna. $\\lambda_c$ is length of cerrier wave in meter. And $d$ is distance between BS and RIS1\n",
        "\n",
        "Explain more on formula."
      ],
      "metadata": {
        "id": "MrOzjEKlbM8e"
      }
    },
    {
      "cell_type": "code",
      "source": [
        "def rician_channel(ch_size, rician_factor, dist, path_loss_ref, dist_ref, path_loss_exp, freq, phi):\n",
        "    \"\"\"\n",
        "    Generate a Rician MIMO channel matrix.\n",
        "\n",
        "    Parameters:\n",
        "    - ch_size: tuple (N_ar, N_at), number of RX and TX antennas\n",
        "    - rician_factor: K-factor (linear scale)\n",
        "    - dist: distance between TX and RX [m]\n",
        "    - path_loss_ref: reference path loss (linear)\n",
        "    - dist_ref: reference distance [m]\n",
        "    - path_loss_exp: path loss exponent\n",
        "    - freq: frequency [Hz]\n",
        "    - phi: angle of arrival [radian]\n",
        "\n",
        "    Returns:\n",
        "    - H: complex-valued MIMO channel matrix\n",
        "    \"\"\"\n",
        "\n",
        "    # Validate inputs\n",
        "    if not (isinstance(ch_size, (tuple, list)) and len(ch_size) == 2):\n",
        "        raise ValueError(\"ch_size must be a tuple/list of length 2\")\n",
        "\n",
        "    N_ar, N_at = ch_size\n",
        "    if any(x <= 0 for x in [rician_factor, dist, path_loss_ref, dist_ref, path_loss_exp, freq]):\n",
        "        raise ValueError(\"All physical parameters must be positive scalars\")\n",
        "\n",
        "    # Path loss\n",
        "    L_d = path_loss_ref * (dist / dist_ref) ** (-path_loss_exp)\n",
        "\n",
        "    # Wave-related constants\n",
        "    c = 3e8  # speed of light [m/s]\n",
        "    wavelength = c / freq\n",
        "    k = 2 * np.pi / wavelength\n",
        "    d_a = wavelength / 2\n",
        "\n",
        "    # Steering vectors\n",
        "    row_idx = np.arange(N_ar).reshape(-1, 1)\n",
        "    col_idx = np.arange(N_at).reshape(-1, 1)\n",
        "    er = (1 / np.sqrt(N_ar)) * np.exp(1j * k * d_a * row_idx * np.sin(phi))\n",
        "    et = (1 / np.sqrt(N_at)) * np.exp(1j * k * d_a * col_idx * np.sin(phi))\n",
        "\n",
        "    # NLOS component\n",
        "    H_NLOS = np.random.randn(N_ar, N_at) + 1j * np.random.randn(N_ar, N_at)\n",
        "\n",
        "    # Rician channel\n",
        "    H = np.sqrt(L_d) * (\n",
        "        np.sqrt(rician_factor / (1 + rician_factor)) * er @ et.T +\n",
        "        np.sqrt(1 / (1 + rician_factor)) * H_NLOS\n",
        "    )\n",
        "\n",
        "    return H\n",
        "\n",
        "# TEST Example\n",
        "H = rician_channel(\n",
        "    ch_size=(4, 4),\n",
        "    rician_factor=10,\n",
        "    dist=1,\n",
        "    path_loss_ref=1,\n",
        "    dist_ref=1,\n",
        "    path_loss_exp=2,\n",
        "    freq=2.4e9,\n",
        "    phi=np.pi / 10\n",
        ")\n",
        "\n",
        "print(\"Channel matrix H:\\n\", H)\n",
        "\n"
      ],
      "metadata": {
        "id": "fTDl6kIkrF5N",
        "outputId": "7db964ce-0d01-4e80-f07f-dc6a98d9df57",
        "colab": {
          "base_uri": "https://localhost:8080/"
        }
      },
      "execution_count": null,
      "outputs": [
        {
          "output_type": "stream",
          "name": "stdout",
          "text": [
            "Channel matrix H:\n",
            " [[-0.33193791-0.05100997j  0.10816551-0.21652444j -0.3220281 -0.13273682j\n",
            "  -0.58056312+0.35715862j]\n",
            " [ 0.78280006-0.35415558j -0.32470645-0.10631605j  0.30125988-0.41340909j\n",
            "  -0.04840917+0.01842286j]\n",
            " [ 0.29666384+0.26237316j -0.31475367+0.16591554j  0.04439769-0.2972348j\n",
            "  -0.1816911 -0.53526296j]\n",
            " [ 0.41150939-0.23946529j -0.48630303-0.30908263j -0.12492909-0.2967642j\n",
            "  -0.28174402+0.77798179j]]\n"
          ]
        }
      ]
    },
    {
      "cell_type": "code",
      "source": [
        "def update_beamformers(wc, wr, v1, v2):\n",
        "    \"\"\" Placeholder for beamforming update step (solve problem 17) \"\"\"\n",
        "    # This needs to be implemented based on specific optimization requirements\n",
        "    return wc, wr"
      ],
      "metadata": {
        "id": "5UzTxTPmITt6"
      },
      "execution_count": null,
      "outputs": []
    },
    {
      "cell_type": "code",
      "source": [],
      "metadata": {
        "id": "Cz76D64Oq9IW"
      },
      "execution_count": null,
      "outputs": []
    },
    {
      "cell_type": "code",
      "source": [
        "\n",
        "\n",
        "def transform_subproblem(wc, wr, v1, v2):\n",
        "    \"\"\" Transform subproblem (18) into (32) \"\"\"\n",
        "    # Placeholder for transformation step\n",
        "    U1 = np.random.rand(len(v1), len(v1))\n",
        "    return U1\n",
        "\n",
        "def solve_sdr(U1):\n",
        "    \"\"\" Solve SDR for given matrix U1 \"\"\"\n",
        "    n = U1.shape[0]\n",
        "    u1 = cp.Variable((n, n), complex=True)\n",
        "    constraints = [u1 >> 0, cp.trace(u1) == 1]\n",
        "    prob = cp.Problem(cp.Minimize(cp.real(cp.trace(U1 @ u1))), constraints)\n",
        "    prob.solve()\n",
        "    return u1.value\n",
        "\n",
        "def gaussian_randomization(U1):\n",
        "    \"\"\" Obtain phase shifts v1 from U1 using Gaussian randomization \"\"\"\n",
        "    eig_vals, eig_vecs = np.linalg.eig(U1)\n",
        "    max_eig_vec = eig_vecs[:, np.argmax(eig_vals)]\n",
        "    v1 = np.exp(1j * np.angle(max_eig_vec))\n",
        "    return v1\n",
        "\n",
        "K = 3  # Number of users\n",
        "M = 8  # Number of antennas at BS\n",
        "N1, N2 = 10, 10  # Number of elements in RIS1 and RIS2\n",
        "epsilon = 1e-2  # Convergence threshold 0.01\n",
        "\n",
        "\n",
        "wc, wr, v1, v2 = initialize_parameters(K, M, N1, N2)\n",
        "Pb_nu = total_transmit_power(wc, wr)\n",
        "nu = 0 # nu in greek\n",
        "\n",
        "\n",
        "\n",
        "# while True:\n",
        "#     wc, wr = update_beamformers(wc, wr, v1, v2)\n",
        "#     U1 = transform_subproblem(wc, wr, v1, v2)\n",
        "#     U1_solved = solve_sdr(U1)\n",
        "#     # v1 = gaussian_randomization(U1_solved)\n",
        "#     # Pb_nu_plus1 = total_transmit_power(wc, wr)\n",
        "\n",
        "#     # if abs(Pb_nu_plus1 - Pb_nu) < epsilon:\n",
        "#     #     break\n",
        "\n",
        "#     # Pb_nu = Pb_nu_plus1\n",
        "#     # nu += 1\n",
        "#     # print(f\"Nu {nu}: Transmit Power = {Pb_nu_plus1}\")"
      ],
      "metadata": {
        "id": "XWovYG7f3hPF"
      },
      "execution_count": null,
      "outputs": []
    }
  ]
}