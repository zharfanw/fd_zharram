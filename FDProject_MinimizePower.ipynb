{
  "nbformat": 4,
  "nbformat_minor": 0,
  "metadata": {
    "colab": {
      "provenance": [],
      "authorship_tag": "ABX9TyOPPLYcf8tkYs8yeSjD4BeG",
      "include_colab_link": true
    },
    "kernelspec": {
      "name": "python3",
      "display_name": "Python 3"
    },
    "language_info": {
      "name": "python"
    }
  },
  "cells": [
    {
      "cell_type": "markdown",
      "metadata": {
        "id": "view-in-github",
        "colab_type": "text"
      },
      "source": [
        "<a href=\"https://colab.research.google.com/github/zharfanw/fd_zharram/blob/main/FDProject_MinimizePower.ipynb\" target=\"_parent\"><img src=\"https://colab.research.google.com/assets/colab-badge.svg\" alt=\"Open In Colab\"/></a>"
      ]
    },
    {
      "cell_type": "markdown",
      "source": [
        "# **Fullduplex Project : Transmit Power Minimization for Double-RIS-Enabled ISAC System**"
      ],
      "metadata": {
        "id": "kVvUwt7N2RKe"
      }
    },
    {
      "cell_type": "markdown",
      "source": [
        "This notebook referenced by this paper [Transmit Power Minimization for Double-RIS-Enabled ISAC System](https://ieeexplore.ieee.org/document/10681845)\n"
      ],
      "metadata": {
        "id": "ijneyxBu3v1l"
      }
    },
    {
      "cell_type": "code",
      "execution_count": null,
      "metadata": {
        "id": "9S94SzWn1x9Y",
        "colab": {
          "base_uri": "https://localhost:8080/"
        },
        "outputId": "c18b1cc8-7022-49d1-ff98-c2d29994ed7c"
      },
      "outputs": [
        {
          "output_type": "stream",
          "name": "stdout",
          "text": [
            "Requirement already satisfied: cvxpy in /usr/local/lib/python3.11/dist-packages (1.6.5)\n",
            "Requirement already satisfied: osqp>=0.6.2 in /usr/local/lib/python3.11/dist-packages (from cvxpy) (1.0.4)\n",
            "Requirement already satisfied: clarabel>=0.5.0 in /usr/local/lib/python3.11/dist-packages (from cvxpy) (0.10.0)\n",
            "Requirement already satisfied: scs>=3.2.4.post1 in /usr/local/lib/python3.11/dist-packages (from cvxpy) (3.2.7.post2)\n",
            "Requirement already satisfied: numpy>=1.21.6 in /usr/local/lib/python3.11/dist-packages (from cvxpy) (2.0.2)\n",
            "Requirement already satisfied: scipy>=1.11.0 in /usr/local/lib/python3.11/dist-packages (from cvxpy) (1.15.3)\n",
            "Requirement already satisfied: jinja2 in /usr/local/lib/python3.11/dist-packages (from osqp>=0.6.2->cvxpy) (3.1.6)\n",
            "Requirement already satisfied: setuptools in /usr/local/lib/python3.11/dist-packages (from osqp>=0.6.2->cvxpy) (75.2.0)\n",
            "Requirement already satisfied: joblib in /usr/local/lib/python3.11/dist-packages (from osqp>=0.6.2->cvxpy) (1.5.0)\n",
            "Requirement already satisfied: MarkupSafe>=2.0 in /usr/local/lib/python3.11/dist-packages (from jinja2->osqp>=0.6.2->cvxpy) (3.0.2)\n"
          ]
        }
      ],
      "source": [
        "!pip install cvxpy\n",
        "# !pip install jupyter_contrib_nbextensions\n",
        "# !jupyter contrib nbextension install --user\n",
        "# !jupyter nbextension enable varInspector/main"
      ]
    },
    {
      "cell_type": "markdown",
      "source": [
        "# Symbol List\n"
      ],
      "metadata": {
        "id": "61HcJ4614Q4-"
      }
    },
    {
      "cell_type": "code",
      "source": [
        "import numpy as np\n",
        "import cvxpy as cp"
      ],
      "metadata": {
        "id": "iG9SC1HM40K1"
      },
      "execution_count": null,
      "outputs": []
    },
    {
      "cell_type": "markdown",
      "source": [
        "## Function : Initial Parameters\n"
      ],
      "metadata": {
        "id": "WAxYlfU64pp1"
      }
    },
    {
      "cell_type": "markdown",
      "source": [
        "Initialize the values of $ \\{ \\mathbf{w}_{c,k}, \\mathbf{w}_{r,m}, \\mathbf{v}_1, \\mathbf{v}_2 \\}$ to $\n",
        " \\{ \\mathbf{w}_{c,k}^0, \\mathbf{w}_{r,m}^0, \\mathbf{v}_1^0, \\mathbf{v}_2^0 \\}, $ respectively\n",
        "\n",
        " where\n",
        "\n",
        " $\\mathbf{v}_1 \\in \\mathbb{C}^{N_1 \\times 1}$ is the phase shift vector for RIS1, defined as:\n",
        "\n",
        "$$\n",
        "\\mathbf{v}_1 = [\\psi_1, \\ldots, \\psi_{N_1}]^H\n",
        "$$\n",
        "\n",
        "With the constraint:\n",
        "\n",
        "$$\n",
        "|\\mathbf{v}_1[j]| = 1, \\quad \\forall j = 1, \\ldots, N_1\n",
        "$$\n",
        "\n",
        "This means that each element of $\\mathbf{v}_1$ has unit modulus (magnitude 1), i.e., it only adjusts the phase of the reflected signal without changing its amplitude.\n",
        "\n",
        "Similarly, $\\mathbf{v}_2$ is the phase shift vector for RIS2 (if applicable), also with:\n",
        "\n",
        "$$\n",
        "|\\mathbf{v}_2[j]| = 1, \\quad \\forall j\n",
        "$$\n",
        "\n"
      ],
      "metadata": {
        "id": "m5VCN4xm5L39"
      }
    },
    {
      "cell_type": "code",
      "source": [
        "def initialize_parameters(K, M, N1, N2):\n",
        "  # K, num of user,\n",
        "  # M, num of transmit antenna\n",
        "  # N1 and N2, num of elements in RIS1 and RIS2\n",
        "  # bener\n",
        "    \"\"\" Initialize beamforming vectors and phase shifts \"\"\"\n",
        "    wc = [np.random.randn(M, 1) + 1j * np.random.randn(M, 1) for _ in range(K)] # K jumlah user\n",
        "    wr = [np.random.randn(M, 1) + 1j * np.random.randn(M, 1) for _ in range(M)]\n",
        "    v1 = np.exp(1j * 2 * np.pi * np.random.rand(N1, 1))\n",
        "    v2 = np.exp(1j * 2 * np.pi * np.random.rand(N2, 1))\n",
        "    return wc, wr, v1, v2"
      ],
      "metadata": {
        "id": "rvLo7uid4xgF"
      },
      "execution_count": null,
      "outputs": []
    },
    {
      "cell_type": "markdown",
      "source": [
        "##  Function : Total Transmit Power"
      ],
      "metadata": {
        "id": "f8p-LwFg7RPl"
      }
    },
    {
      "cell_type": "markdown",
      "source": [
        "Calculate the total transmit power $P_b^\\nu$:\n",
        "\n",
        "$$\n",
        "P_b^\\nu \\triangleq \\sum_{k \\in \\mathcal{K}} \\|\\mathbf{w}_{c,k}\\|^2 + \\sum_{m \\in \\mathcal{M}} \\|\\mathbf{w}_{r,m}\\|^2\n",
        "$$\n",
        "based on equation (2):\n",
        "$$\n",
        "\\mathbb{E}\\{\\mathbf{x}^H \\mathbf{x}\\} = \\sum_{k \\in \\mathcal{K}} \\|\\mathbf{w}_{c,k}\\|^2 + \\sum_{m \\in \\mathcal{M}} \\|\\mathbf{w}_{r,m}\\|^2.\n",
        "$$"
      ],
      "metadata": {
        "id": "jOyLIyQ38VjE"
      }
    },
    {
      "cell_type": "code",
      "source": [
        "def total_transmit_power(wc, wr):\n",
        "    \"\"\" Calculate the total transmit power \"\"\"\n",
        "    # l2norm wc\n",
        "    l2norm_wc = [np.linalg.norm(w) for w in wc]\n",
        "    l2norm_wr = [np.linalg.norm(w) for w in wr]\n",
        "    Pb_nu = sum(l2norm_wc) + sum(l2norm_wr)\n",
        "    return Pb_nu"
      ],
      "metadata": {
        "id": "KNUiTKUS7bVM"
      },
      "execution_count": null,
      "outputs": []
    },
    {
      "cell_type": "markdown",
      "source": [
        "## Function : Update Beamformer $\\{\\mathbf{w}_{c,k}\\}^{\\nu+1}$ and $\\{\\mathbf{w}_{r,m}\\}^{\\nu+1}$ with given $\\mathbf{v}_1^\\nu$ and $\\mathbf{v}_2^\\nu$\n",
        "\n",
        "\\begin{aligned}\n",
        "\\min_{\\{\\mathbf{w}_{c,k}\\}, \\{\\mathbf{w}_{r,m}\\}} \\quad & \\sum_{k \\in \\mathcal{K}} \\|\\mathbf{w}_{c,k}\\|^2 + \\sum_{m \\in \\mathcal{M}} \\|\\mathbf{w}_{r,m}\\|^2 \\quad \\text{(17)}\\\\\n",
        "\\text{s.t.}\n",
        "\\quad & \\Upsilon_R \\sigma_R^2 \\leq \\sum_{k \\in \\mathcal{K}} F_A(\\mathbf{w}_{c,k}, \\widetilde{\\mathbf{w}}_{c,k}) + \\sum_{m \\in \\mathcal{M}} F_A(\\mathbf{w}_{r,m}, \\widetilde{\\mathbf{w}}_{r,m}) \\quad \\text{(15)} \\\\\n",
        "&\n",
        "(2^{\\Gamma_k} - 1) \\left( \\sum_{m \\in \\mathcal{M}} \\mathbf{w}_{r,m}^H \\mathbf{B} \\mathbf{w}_{r,m} + \\sum_{i \\neq k, i \\in \\mathcal{K}} \\mathbf{w}_{c,i}^H \\mathbf{B} \\mathbf{w}_{c,i} + \\sigma_k^2 \\right) \\leq F_B(\\mathbf{w}_{c,k}, \\widetilde{\\mathbf{w}}_{c,k}) \\quad \\text{(16)}\n",
        "\\end{aligned}\n",
        "\n",
        "Where equation (15) and (16) are result of first approximation of equation below\n",
        "\n",
        "$\n",
        "\\Upsilon_R \\sigma_R^2 \\leq \\sum_{k \\in \\mathcal{K}} \\mathbf{w}_{c,k}^H \\mathbf{A} \\mathbf{w}_{c,k} + \\sum_{m \\in \\mathcal{M}} \\mathbf{w}_{r,m}^H \\mathbf{A} \\mathbf{w}_{r,m} \\tag{12}\n",
        "$\n",
        "\n",
        "$\n",
        "(2^{\\Gamma_k} - 1) \\left( \\sum_{m \\in \\mathcal{M}} \\mathbf{w}_{r,m}^H \\mathbf{B} \\mathbf{w}_{r,m} + \\sum_{i \\neq k, i \\in \\mathcal{K}} \\mathbf{w}_{c,i}^H \\mathbf{B} \\mathbf{w}_{c,i} + \\sigma_k^2 \\right) \\leq \\mathbf{w}_{c,k}^H \\mathbf{B} \\mathbf{w}_{c,k} \\tag{13}\n",
        "$\n",
        "\n",
        "where $\n",
        " \\quad \\mathbf{A} \\triangleq |\\alpha|^2 \\mathbf{H}_R^H \\mathbf{H}_R \\succeq 0, \\quad \\mathbf{B} \\triangleq \\mathbf{h}_k \\mathbf{h}_k^H \\succeq 0.\n",
        "$\n",
        "\n",
        "$\n",
        "\\mathbf{H}_R = \\left( \\mathbf{a}(\\theta_b) + \\mathbf{H}_1^H \\operatorname{diag}(\\mathbf{v}_1) \\mathbf{a}(\\theta_r) \\right) \\left( \\mathbf{a}^H(\\theta_b) + \\mathbf{a}^H(\\theta_r) \\operatorname{diag}(\\mathbf{v}_1) \\mathbf{H}_1 \\right)\n",
        "\\tag{based on 3}\n",
        "$\n",
        "\n",
        "$\n",
        "\\mathbf{H}_1 = \\sqrt{\\frac{\\epsilon_1}{1 + \\epsilon_1}} \\mathbf{H}_1^{\\mathrm{LOS}} + \\sqrt{\\frac{1}{1 + \\epsilon_1}} \\mathbf{H}_1^{\\mathrm{NLOS}} \\tag{4}\n",
        "$\n",
        "\n",
        "$H_1^{LOS}$ is Channel MIMO Line-of-Sight. Referenced by Tse and Viswanath: Fundamentals of Wireless Communication pages 352 Eq. 7.29,\n",
        "\n",
        "$$\n",
        "\\mathbf{H^{LOS}} = a \\cdot \\sqrt{n_t n_r} \\cdot \\exp\\left( -j \\frac{2\\pi d}{\\lambda_c} \\right) \\cdot \\mathbf{e}_r(\\Omega_r) \\cdot \\mathbf{e}_t^*(\\Omega_t)\n",
        "$$\n",
        "where $a = \\sqrt{P_t \\cdot G_t \\cdot G_r} \\cdot \\left( \\frac{\\lambda}{4\\pi d} \\right)$ as Friis Free Space Transmission Equation. $n_t n_r$ is the power gain of the MIMO Channel, or simply $n_t$ is num of transmit antenna, $n_r$ is num of receive antenna. $\\lambda_c$ is length of cerrier wave in meter. And $d$ is distance between BS and RIS1\n",
        "\n",
        "and $H_1^{NLOS}$ represent Reyleight fading non-LOS Component, which has i.i.d circularly symmetruc complex Gaussioan entries with zero-mean and unit variance"
      ],
      "metadata": {
        "id": "iZa091XB9LNk"
      }
    },
    {
      "cell_type": "code",
      "source": [
        "def array_response_ULA(N, theta, d=0.5):\n",
        "    \"\"\"\n",
        "    Menghitung array response untuk Uniform Linear Array (ULA)\n",
        "\n",
        "    N     : Jumlah antena\n",
        "    theta : Sudut datang (radian)\n",
        "    d     : Spasi antar elemen (dalam satuan lambda, default lambda/2)\n",
        "    \"\"\"\n",
        "    n = np.arange(N)\n",
        "    return np.exp(1j * 2 * np.pi * d * n * np.sin(theta))\n",
        "\n",
        "def H1_LOS_Exact(N_r, N_t, theta_r, theta_t, d_prop=10, d_ant=0.5, fc=3e9, PL0_dB=-30, tau=2.2, d0=1):\n",
        "    \"\"\"\n",
        "    Menghitung kanal H1^LOS sesuai persamaan:\n",
        "    H = |a| * exp(-j*2*pi*d/lambda_c) * sqrt(N_t * N_r) * e_r(Ω_r) * e_t^H(Ω_t)\n",
        "\n",
        "    N_r     : Jumlah elemen RIS1 (receiver)\n",
        "    N_t     : Jumlah antena BS (transmitter)\n",
        "    theta_r : Sudut AoA di RIS1 (radian)\n",
        "    theta_t : Sudut AoD dari BS (radian)\n",
        "    d_prop  : Jarak propagasi (meter)\n",
        "    d_ant   : Spasi antar elemen array (default 0.5 lambda)\n",
        "    fc      : Frekuensi carrier (Hz)\n",
        "    PL0_dB  : Path loss pada d0 (default -30 dB)\n",
        "    tau     : Path loss exponent\n",
        "    d0      : Referensi jarak (default 1 meter)\n",
        "    \"\"\"\n",
        "    c = 3e8  # kecepatan cahaya (m/s)\n",
        "    lambda_c = c / fc\n",
        "\n",
        "    # Steering vectors\n",
        "    e_r = array_response_ULA(N_r, theta_r, d_ant)\n",
        "    e_t = array_response_ULA(N_t, theta_t, d_ant)\n",
        "\n",
        "    # Path loss in dB\n",
        "    PL_dB = PL0_dB - 10 * tau * np.log10(d_prop / d0)\n",
        "\n",
        "    # Gain a = |a| * exp(-j 2pi d / lambda)\n",
        "    a_abs = 10**(PL_dB / 20)  # amplitudo\n",
        "    a_phase = np.exp(-1j * 2 * np.pi * d_prop / lambda_c)\n",
        "    a = a_abs * a_phase\n",
        "\n",
        "    # H1^LOS\n",
        "    H_los = a * np.sqrt(N_t * N_r) * np.outer(e_r, np.conj(e_t))\n",
        "\n",
        "    return H_los\n",
        "\n",
        "# # Contoh penggunaan:\n",
        "# N_r = 30  # RIS1\n",
        "# N_t = 8   # BS\n",
        "# fc = 28e9  # 28 GHz\n",
        "# d_prop = 2  # meter, sesuai skenario paper\n",
        "# tau = 2.2\n",
        "\n",
        "# theta_r = np.deg2rad(45)  # AoA di RIS1\n",
        "# theta_t = np.deg2rad(30)  # AoD dari BS\n",
        "\n",
        "# H1_los = H1_LOS_Exact(N_r, N_t, theta_r, theta_t, d_prop=d_prop, fc=fc, tau=tau)\n",
        "# print(\"H1^LOS shape:\", H1_los.shape)\n"
      ],
      "metadata": {
        "id": "fTDl6kIkrF5N"
      },
      "execution_count": null,
      "outputs": []
    },
    {
      "cell_type": "code",
      "source": [
        "def update_beamformers(wc, wr, v1, v2):\n",
        "    \"\"\" Placeholder for beamforming update step (solve problem 17) \"\"\"\n",
        "    # This needs to be implemented based on specific optimization requirements\n",
        "    return wc, wr"
      ],
      "metadata": {
        "id": "5UzTxTPmITt6"
      },
      "execution_count": null,
      "outputs": []
    },
    {
      "cell_type": "code",
      "source": [
        "\n",
        "\n"
      ],
      "metadata": {
        "id": "Cz76D64Oq9IW"
      },
      "execution_count": null,
      "outputs": []
    },
    {
      "cell_type": "code",
      "source": [
        "\n",
        "\n",
        "def transform_subproblem(wc, wr, v1, v2):\n",
        "    \"\"\" Transform subproblem (18) into (32) \"\"\"\n",
        "    # Placeholder for transformation step\n",
        "    U1 = np.random.rand(len(v1), len(v1))\n",
        "    return U1\n",
        "\n",
        "def solve_sdr(U1):\n",
        "    \"\"\" Solve SDR for given matrix U1 \"\"\"\n",
        "    n = U1.shape[0]\n",
        "    u1 = cp.Variable((n, n), complex=True)\n",
        "    constraints = [u1 >> 0, cp.trace(u1) == 1]\n",
        "    prob = cp.Problem(cp.Minimize(cp.real(cp.trace(U1 @ u1))), constraints)\n",
        "    prob.solve()\n",
        "    return u1.value\n",
        "\n",
        "def gaussian_randomization(U1):\n",
        "    \"\"\" Obtain phase shifts v1 from U1 using Gaussian randomization \"\"\"\n",
        "    eig_vals, eig_vecs = np.linalg.eig(U1)\n",
        "    max_eig_vec = eig_vecs[:, np.argmax(eig_vals)]\n",
        "    v1 = np.exp(1j * np.angle(max_eig_vec))\n",
        "    return v1\n",
        "\n",
        "K = 3  # Number of users\n",
        "M = 8  # Number of antennas at BS\n",
        "N1, N2 = 10, 10  # Number of elements in RIS1 and RIS2\n",
        "epsilon = 1e-2  # Convergence threshold 0.01\n",
        "\n",
        "\n",
        "wc, wr, v1, v2 = initialize_parameters(K, M, N1, N2)\n",
        "Pb_nu = total_transmit_power(wc, wr)\n",
        "nu = 0 # nu in greek\n",
        "\n",
        "\n",
        "\n",
        "# while True:\n",
        "#     wc, wr = update_beamformers(wc, wr, v1, v2)\n",
        "#     U1 = transform_subproblem(wc, wr, v1, v2)\n",
        "#     U1_solved = solve_sdr(U1)\n",
        "#     # v1 = gaussian_randomization(U1_solved)\n",
        "#     # Pb_nu_plus1 = total_transmit_power(wc, wr)\n",
        "\n",
        "#     # if abs(Pb_nu_plus1 - Pb_nu) < epsilon:\n",
        "#     #     break\n",
        "\n",
        "#     # Pb_nu = Pb_nu_plus1\n",
        "#     # nu += 1\n",
        "#     # print(f\"Nu {nu}: Transmit Power = {Pb_nu_plus1}\")"
      ],
      "metadata": {
        "id": "XWovYG7f3hPF"
      },
      "execution_count": null,
      "outputs": []
    }
  ]
}