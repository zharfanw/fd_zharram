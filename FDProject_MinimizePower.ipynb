{
  "nbformat": 4,
  "nbformat_minor": 0,
  "metadata": {
    "colab": {
      "provenance": [],
      "toc_visible": true,
      "include_colab_link": true
    },
    "kernelspec": {
      "name": "python3",
      "display_name": "Python 3"
    },
    "language_info": {
      "name": "python"
    }
  },
  "cells": [
    {
      "cell_type": "markdown",
      "metadata": {
        "id": "view-in-github",
        "colab_type": "text"
      },
      "source": [
        "<a href=\"https://colab.research.google.com/github/zharfanw/fd_zharram/blob/main/FDProject_MinimizePower.ipynb\" target=\"_parent\"><img src=\"https://colab.research.google.com/assets/colab-badge.svg\" alt=\"Open In Colab\"/></a>"
      ]
    },
    {
      "cell_type": "markdown",
      "source": [
        "# **Fullduplex Project : Transmit Power Minimization for Double-RIS-Enabled ISAC System**"
      ],
      "metadata": {
        "id": "kVvUwt7N2RKe"
      }
    },
    {
      "cell_type": "markdown",
      "source": [
        "This notebook referenced by this paper [Transmit Power Minimization for Double-RIS-Enabled ISAC System](https://ieeexplore.ieee.org/document/10681845)\n"
      ],
      "metadata": {
        "id": "ijneyxBu3v1l"
      }
    },
    {
      "cell_type": "code",
      "execution_count": 1,
      "metadata": {
        "id": "9S94SzWn1x9Y",
        "colab": {
          "base_uri": "https://localhost:8080/"
        },
        "outputId": "89f0ed36-1e6c-43ca-ad82-cf891bc2cfd5"
      },
      "outputs": [
        {
          "output_type": "stream",
          "name": "stdout",
          "text": [
            "Requirement already satisfied: cvxpy in /usr/local/lib/python3.11/dist-packages (1.6.5)\n",
            "Requirement already satisfied: osqp>=0.6.2 in /usr/local/lib/python3.11/dist-packages (from cvxpy) (1.0.4)\n",
            "Requirement already satisfied: clarabel>=0.5.0 in /usr/local/lib/python3.11/dist-packages (from cvxpy) (0.11.0)\n",
            "Requirement already satisfied: scs>=3.2.4.post1 in /usr/local/lib/python3.11/dist-packages (from cvxpy) (3.2.7.post2)\n",
            "Requirement already satisfied: numpy>=1.21.6 in /usr/local/lib/python3.11/dist-packages (from cvxpy) (2.0.2)\n",
            "Requirement already satisfied: scipy>=1.11.0 in /usr/local/lib/python3.11/dist-packages (from cvxpy) (1.15.3)\n",
            "Requirement already satisfied: cffi in /usr/local/lib/python3.11/dist-packages (from clarabel>=0.5.0->cvxpy) (1.17.1)\n",
            "Requirement already satisfied: jinja2 in /usr/local/lib/python3.11/dist-packages (from osqp>=0.6.2->cvxpy) (3.1.6)\n",
            "Requirement already satisfied: setuptools in /usr/local/lib/python3.11/dist-packages (from osqp>=0.6.2->cvxpy) (75.2.0)\n",
            "Requirement already satisfied: joblib in /usr/local/lib/python3.11/dist-packages (from osqp>=0.6.2->cvxpy) (1.5.1)\n",
            "Requirement already satisfied: pycparser in /usr/local/lib/python3.11/dist-packages (from cffi->clarabel>=0.5.0->cvxpy) (2.22)\n",
            "Requirement already satisfied: MarkupSafe>=2.0 in /usr/local/lib/python3.11/dist-packages (from jinja2->osqp>=0.6.2->cvxpy) (3.0.2)\n"
          ]
        }
      ],
      "source": [
        "!pip install cvxpy\n",
        "# !pip install jupyter_contrib_nbextensions\n",
        "# !jupyter contrib nbextension install --user\n",
        "# !jupyter nbextension enable varInspector/main"
      ]
    },
    {
      "cell_type": "markdown",
      "source": [
        "## Symbol List\n"
      ],
      "metadata": {
        "id": "61HcJ4614Q4-"
      }
    },
    {
      "cell_type": "code",
      "source": [
        "import numpy as np\n",
        "import cvxpy as cp"
      ],
      "metadata": {
        "id": "iG9SC1HM40K1"
      },
      "execution_count": 2,
      "outputs": []
    },
    {
      "cell_type": "markdown",
      "source": [
        "## Parameter Building *Up*"
      ],
      "metadata": {
        "id": "rfZu4X98po9o"
      }
    },
    {
      "cell_type": "markdown",
      "source": [
        "Position ANTENNA\n",
        "\n",
        "| Channel               | Notasi Channel | Posisi Awal → Akhir           | Jarak (`dist`) yang digunakan |\n",
        "| --------------------- | -------------- | ----------------------------- | ----------------------------- |\n",
        "| BS → RIS1             | `H1`           | BS (0, 0) → RIS1 (2, 2)       | ≈ 2.83 m                      |\n",
        "| BS → RIS2             | `H2`           | BS (0, 0) → RIS2 (48, 2)      | ≈ 48.04 m                     |\n",
        "| RIS1 → RIS2           | `G`            | RIS1 (2, 2) → RIS2 (48, 2)    | ≈ 46.00 m                     |\n",
        "| RIS1 → sensing target | —              | RIS1 (2, 2) → Target (10, -2) | ≈ 8.94 m                      |\n",
        "| BS → sensing target   | —              | BS (0, 0) → Target (10, -2)   | ≈ 10.20 m                     |\n",
        "| RIS2 → User (k)       | —              | RIS2 (48, 2) → User (50, 0)   | ≈ 2.83 m                      |\n",
        "| BS → User (k)         | —              | BS (0, 0) → User (50, 0)      | 50.00 m                       |\n"
      ],
      "metadata": {
        "id": "RsFdKR4Gi-tb"
      }
    },
    {
      "cell_type": "markdown",
      "source": [
        "Rincian Parameter Channel\n",
        "\n",
        "| Channel                 | Rician Factor (ε)          | TX   | RX   | Jumlah Antena       | Path Loss Exponent (τ) | Referensi Path Loss (PL₀ @ d₀ = 1m) |\n",
        "| ----------------------- | -------------------------- | ---- | ---- | ------------------- | ---------------------- | ----------------------------------- |\n",
        "| BS → RIS1 (`H1`)        | **3**                      | BS   | RIS1 | BS: M = 8, RIS1: N₁ | **2.2**                | **−30 dBm**                         |\n",
        "| BS → User (`h_{b,k}`)   | **1**                      | BS   | User | BS: M = 8, User: 1  | **2.5**                | **−30 dBm**                         |\n",
        "| RIS1 → User (`h_{1,k}`) | **3**                      | RIS1 | User | RIS1: N₁, User: 1   | **2.5**                | **−30 dBm**                         |\n",
        "| RIS2 → User (`h_{2,k}`) | **3**                      | RIS2 | User | RIS2: N₂, User: 1   | **2.2**                | **−30 dBm**                         |\n",
        "| BS → RIS2 (`H2`)        | *Kemungkinan 3 (implisit)* | BS   | RIS2 | BS: M = 8, RIS2: N₂ | **2.2**                | **−30 dBm**                         |\n",
        "| RIS1 → RIS2 (`G`)       | *Kemungkinan 3 (implisit)* | RIS1 | RIS2 | RIS1: N₁, RIS2: N₂  | **2.2**                | **−30 dBm**                         |\n",
        "\n"
      ],
      "metadata": {
        "id": "ijVWoCj9jusD"
      }
    },
    {
      "cell_type": "code",
      "source": [
        "import numpy as np\n",
        "import matplotlib.pyplot as plt\n",
        "\n",
        "def dbm_to_linear(dbm):\n",
        "    return 10 ** (dbm / 10)\n",
        "\n",
        "# Posisi entitas berdasarkan paper (dalam meter)\n",
        "positions = {\n",
        "    \"BS\": (0, 0),\n",
        "    \"RIS1\": (2, 2),\n",
        "    \"RIS2\": (48, 2),\n",
        "    \"Target\": (10, -2),\n",
        "    \"User\": (50, 0)\n",
        "}\n",
        "path_loss_exp={\n",
        "    \"H_1\": 2.2,\n",
        "    \"h_bk\": 2.5,\n",
        "    \"h_1k\": 2.5,\n",
        "    \"h_2k\": 2.2,\n",
        "    \"H_2\": 2.2,\n",
        "    'G':2.5\n",
        "}\n",
        "# mW -> dBm = 10*log(P)\n",
        "# -30dBm -> 10^-3mW -> 10^-6 W  convert to linear\n",
        "path_loss_ref={\n",
        "    \"H_1\": dbm_to_linear(-30),\n",
        "    \"h_bk\": dbm_to_linear(-30),\n",
        "    \"h_1k\": dbm_to_linear(-30),\n",
        "    \"h_2k\": dbm_to_linear(-30),\n",
        "    \"H_2\": dbm_to_linear(-30),\n",
        "    \"G\": dbm_to_linear(-30),\n",
        "}\n",
        "# (RX,TX)\n",
        "N1 = 10\n",
        "N2 = 10\n",
        "M = 8\n",
        "ch_size ={\n",
        "  \"H_1\": (N1,M),\n",
        "  \"h_bk\": (1,M),\n",
        "  \"h_1k\": (1,N1),\n",
        "  \"h_2k\": (1,N2),\n",
        "  \"H2\": (N2,M),\n",
        "  \"G\": (N2,N1)\n",
        "}\n",
        "rician_factor ={\n",
        "  \"H_1\": 3,\n",
        "  \"h_bk\": 1,\n",
        "  \"h_1k\": 3,\n",
        "  \"h_2k\": 3,\n",
        "  \"H_2\": 3,\n",
        "  \"G\": 3\n",
        "}\n",
        "\n",
        "\n",
        "# Fungsi hitung jarak dan sudut phi\n",
        "def get_distance_and_phi(src, dst):\n",
        "    dx = positions[dst][0] - positions[src][0]\n",
        "    dy = positions[dst][1] - positions[src][1]\n",
        "    dist = np.sqrt(dx**2 + dy**2)\n",
        "    phi_rad = np.arctan2(dy, dx)\n",
        "    phi_deg = np.degrees(phi_rad)\n",
        "    return dist, phi_rad, phi_deg\n",
        "def distance_channel_meter_func(src, dst):\n",
        "    dx = dst[0] - src[0]\n",
        "    dy = dst[1] - src[1]\n",
        "    dist = np.sqrt(dx**2 + dy**2)\n",
        "    return dist\n",
        "def angle_phi_rad(src, dst):\n",
        "    dx = dst[0] - src[0]\n",
        "    dy = dst[1] - src[1]\n",
        "    phi_rad = np.arctan2(dy, dx)\n",
        "    return phi_rad\n",
        "def angle_phi_deg(src, dst):\n",
        "    phi_deg = np.degrees(angle_phi_rad(src, dst))\n",
        "    return phi_deg\n",
        "\n",
        "distance_channel_meter ={\n",
        "  \"H_1\": distance_channel_meter_func(positions['BS'],positions['RIS1']),\n",
        "  \"h_bk\": distance_channel_meter_func(positions['BS'],positions['Target']),\n",
        "  \"h_1k\": distance_channel_meter_func(positions['RIS1'],positions['Target']),\n",
        "  \"h_2k\": distance_channel_meter_func(positions['RIS2'],positions['Target']),\n",
        "  \"H_2\": distance_channel_meter_func(positions['BS'],positions['RIS2']),\n",
        "  \"G\": distance_channel_meter_func(positions['RIS1'],positions['RIS2'])\n",
        "}\n",
        "angle_channel_rad ={\n",
        "  \"H_1\": angle_phi_rad(positions['BS'],positions['RIS1']),\n",
        "  \"h_bk\": angle_phi_rad(positions['BS'],positions['Target']),\n",
        "  \"h_1k\": angle_phi_rad(positions['RIS1'],positions['Target']),\n",
        "  \"h_2k\": angle_phi_rad(positions['RIS2'],positions['Target']),\n",
        "  \"H_2\": angle_phi_rad(positions['BS'],positions['RIS2']),\n",
        "  \"G\": angle_phi_rad(positions['RIS1'],positions['RIS2'])\n",
        "}\n",
        "\n",
        "# Daftar channel dan pasangan node\n",
        "channel_list = [\n",
        "    (\"BS\", \"RIS1\", \"BS → RIS1 (H1)\"),\n",
        "    (\"BS\", \"RIS2\", \"BS → RIS2 (H2)\"),\n",
        "    (\"BS\", \"Target\", \"BS → Target\"),\n",
        "    (\"BS\", \"User\", \"BS → User\"),\n",
        "    (\"RIS1\", \"RIS2\", \"RIS1 → RIS2 (G)\"),\n",
        "    (\"RIS1\", \"Target\", \"RIS1 → Target\"),\n",
        "    (\"RIS1\", \"User\", \"RIS1 → User\"),\n",
        "    (\"RIS2\", \"User\", \"RIS2 → User\"),\n",
        "    (\"RIS2\", \"Target\", \"RIS2 → Target\"),\n",
        "]\n",
        "\n",
        "# Cetak header tabel\n",
        "print(\"Channel\".ljust(25), \"Distance (m)\".ljust(15), \"φ (rad)\".ljust(12), \"φ (°)\")\n",
        "print(\"-\" * 65)\n",
        "\n",
        "# Cetak tiap baris data\n",
        "for src, dst, label in channel_list:\n",
        "    d, phi_r, phi_d = get_distance_and_phi(src, dst)\n",
        "    print(label.ljust(25),\n",
        "          f\"{d:>10.2f}\".ljust(15),\n",
        "          f\"{phi_r:+.4f}\".ljust(12),\n",
        "          f\"{phi_d:+.2f}\")\n",
        "\n",
        "# Fungsi menghitung sudut (dalam derajat) terhadap BS\n",
        "def angle_from_bs(pos_bs, pos_target):\n",
        "    dx = pos_target[0] - pos_bs[0]\n",
        "    dy = pos_target[1] - pos_bs[1]\n",
        "    angle_rad = np.arctan2(dy, dx)\n",
        "    angle_deg = np.degrees(angle_rad)\n",
        "    return angle_deg\n",
        "\n",
        "# Hitung sudut dari BS ke semua titik lain\n",
        "angles = {label: angle_from_bs(positions[\"BS\"], pos) for label, pos in positions.items() if label != \"BS\"}\n",
        "\n",
        "# Plot\n",
        "plt.figure(figsize=(10, 6))\n",
        "for label, (x, y) in positions.items():\n",
        "    plt.scatter(x, y, label=label)\n",
        "    if label != \"BS\":\n",
        "        angle = angles[label]\n",
        "        plt.text(x + 0.5, y + 0.5, f\"{label}\\n({angle:.1f}°)\", fontsize=9)\n",
        "    else:\n",
        "        plt.text(x + 0.5, y + 0.5, label, fontsize=9)\n",
        "\n",
        "# Tambahkan garis arah dari BS ke titik lainnya\n",
        "for label, (x, y) in positions.items():\n",
        "    if label != \"BS\":\n",
        "        plt.plot([positions[\"BS\"][0], x], [positions[\"BS\"][1], y], 'k--', linewidth=0.5)\n",
        "\n",
        "plt.xlabel('X Position (m)')\n",
        "plt.ylabel('Y Position (m)')\n",
        "plt.title('Double-RIS-Enabled ISAC System Layout with Angles from BS')\n",
        "plt.grid(True)\n",
        "plt.axis('equal')\n",
        "plt.legend()\n",
        "plt.tight_layout()\n",
        "plt.show()\n",
        "\n"
      ],
      "metadata": {
        "colab": {
          "base_uri": "https://localhost:8080/",
          "height": 808
        },
        "id": "T7sBhUV_mSXZ",
        "outputId": "445db386-1e5f-4b7d-8acb-2ecd210bdb5e"
      },
      "execution_count": 3,
      "outputs": [
        {
          "output_type": "stream",
          "name": "stdout",
          "text": [
            "Channel                   Distance (m)    φ (rad)      φ (°)\n",
            "-----------------------------------------------------------------\n",
            "BS → RIS1 (H1)                  2.83      +0.7854      +45.00\n",
            "BS → RIS2 (H2)                 48.04      +0.0416      +2.39\n",
            "BS → Target                    10.20      -0.1974      -11.31\n",
            "BS → User                      50.00      +0.0000      +0.00\n",
            "RIS1 → RIS2 (G)                46.00      +0.0000      +0.00\n",
            "RIS1 → Target                   8.94      -0.4636      -26.57\n",
            "RIS1 → User                    48.04      -0.0416      -2.39\n",
            "RIS2 → User                     2.83      -0.7854      -45.00\n",
            "RIS2 → Target                  38.21      -3.0367      -173.99\n"
          ]
        },
        {
          "output_type": "display_data",
          "data": {
            "text/plain": [
              "<Figure size 1000x600 with 1 Axes>"
            ],
            "image/png": "[encoded data removed]"
          },
          "metadata": {}
        }
      ]
    },
    {
      "cell_type": "markdown",
      "source": [
        "## Function : Initial Parameters\n"
      ],
      "metadata": {
        "id": "WAxYlfU64pp1"
      }
    },
    {
      "cell_type": "markdown",
      "source": [
        "Initialize the values of $ \\{ \\mathbf{w}_{c,k}, \\mathbf{w}_{r,m}, \\mathbf{v}_1, \\mathbf{v}_2 \\}$ to $\n",
        " \\{ \\mathbf{w}_{c,k}^0, \\mathbf{w}_{r,m}^0, \\mathbf{v}_1^0, \\mathbf{v}_2^0 \\}, $ respectively\n",
        "\n",
        " where\n",
        "\n",
        " $\\mathbf{v}_1 \\in \\mathbb{C}^{N_1 \\times 1}$ is the phase shift vector for RIS1, defined as:\n",
        "\n",
        "$$\n",
        "\\mathbf{v}_1 = [\\psi_1, \\ldots, \\psi_{N_1}]^H\n",
        "$$\n",
        "\n",
        "With the constraint:\n",
        "\n",
        "$$\n",
        "|\\mathbf{v}_1[j]| = 1, \\quad \\forall j = 1, \\ldots, N_1\n",
        "$$\n",
        "\n",
        "This means that each element of $\\mathbf{v}_1$ has unit modulus (magnitude 1), i.e., it only adjusts the phase of the reflected signal without changing its amplitude.\n",
        "\n",
        "Similarly, $\\mathbf{v}_2$ is the phase shift vector for RIS2 (if applicable), also with:\n",
        "\n",
        "$$\n",
        "|\\mathbf{v}_2[j]| = 1, \\quad \\forall j\n",
        "$$\n",
        "\n"
      ],
      "metadata": {
        "id": "m5VCN4xm5L39"
      }
    },
    {
      "cell_type": "code",
      "source": [
        "def initialize_parameters(K, M, N1, N2):\n",
        "  # K, num of user,\n",
        "  # M, num of transmit antenna\n",
        "  # N1 and N2, num of elements in RIS1 and RIS2\n",
        "  # bener\n",
        "    \"\"\" Initialize beamforming vectors and phase shifts \"\"\"\n",
        "    wc = [np.random.randn(M, 1) + 1j * np.random.randn(M, 1) for _ in range(K)] # K jumlah user\n",
        "    wr = [np.random.randn(M, 1) + 1j * np.random.randn(M, 1) for _ in range(M)]\n",
        "    v1 = np.exp(1j * 2 * np.pi * np.random.rand(N1, 1))\n",
        "    v2 = np.exp(1j * 2 * np.pi * np.random.rand(N2, 1))\n",
        "    return wc, wr, v1, v2"
      ],
      "metadata": {
        "id": "rvLo7uid4xgF"
      },
      "execution_count": 4,
      "outputs": []
    },
    {
      "cell_type": "markdown",
      "source": [
        "## Function Rician Channel\n",
        "\n"
      ],
      "metadata": {
        "id": "V4ncVVpIpatA"
      }
    },
    {
      "cell_type": "code",
      "source": [
        "def rician_channel(ch_size, rician_factor, dist, path_loss_ref, dist_ref, path_loss_exp, freq, phi):\n",
        "    \"\"\"\n",
        "    Generate a Rician MIMO channel matrix.\n",
        "\n",
        "    Parameters:\n",
        "    - ch_size: tuple (N_ar, N_at), number of RX and TX antennas\n",
        "    - rician_factor: K-factor (linear scale)\n",
        "    - dist: distance between TX and RX [m]\n",
        "    - path_loss_ref: reference path loss (linear)\n",
        "    - dist_ref: reference distance [m]\n",
        "    - path_loss_exp: path loss exponent\n",
        "    - freq: frequency [Hz]\n",
        "    - phi: angle of arrival [radian]\n",
        "\n",
        "    Returns:\n",
        "    - H: complex-valued MIMO channel matrix\n",
        "    \"\"\"\n",
        "\n",
        "    # Validate inputs\n",
        "    if not (isinstance(ch_size, (tuple, list)) and len(ch_size) == 2):\n",
        "        raise ValueError(\"ch_size must be a tuple/list of length 2\")\n",
        "\n",
        "    N_ar, N_at = ch_size\n",
        "    # if any(x <= 0 for x in [rician_factor, dist, path_loss_ref, dist_ref, path_loss_exp, freq]):\n",
        "    #     raise ValueError(\"All physical parameters must be positive scalars\")\n",
        "\n",
        "    # Path loss\n",
        "    L_d = path_loss_ref * (dist / dist_ref) ** (-path_loss_exp)\n",
        "\n",
        "    # Wave-related constants\n",
        "    c = 3e8  # speed of light [m/s]\n",
        "    wavelength = c / freq\n",
        "    k = 2 * np.pi / wavelength\n",
        "    d_a = wavelength / 2\n",
        "\n",
        "    # Steering vectors\n",
        "    row_idx = np.arange(N_ar).reshape(-1, 1)\n",
        "    col_idx = np.arange(N_at).reshape(-1, 1)\n",
        "    er = (1 / np.sqrt(N_ar)) * np.exp(1j * k * d_a * row_idx * np.sin(phi))\n",
        "    et = (1 / np.sqrt(N_at)) * np.exp(1j * k * d_a * col_idx * np.sin(phi))\n",
        "\n",
        "    # NLOS component\n",
        "    H_NLOS = np.random.randn(N_ar, N_at) + 1j * np.random.randn(N_ar, N_at)\n",
        "\n",
        "    # Rician channel\n",
        "    H = np.sqrt(L_d) * (\n",
        "        np.sqrt(rician_factor / (1 + rician_factor)) * er @ et.T +\n",
        "        np.sqrt(1 / (1 + rician_factor)) * H_NLOS\n",
        "    )\n",
        "\n",
        "    return H\n",
        "\n",
        "# # TEST Example\n",
        "# H = rician_channel(\n",
        "#     ch_size=(4, 4),\n",
        "#     rician_factor=10,\n",
        "#     dist=1,\n",
        "#     path_loss_ref=1,\n",
        "#     dist_ref=1,\n",
        "#     path_loss_exp=2,\n",
        "#     freq=2.4e9,\n",
        "#     phi=np.pi / 10\n",
        "# )\n",
        "\n",
        "# print(\"Channel matrix H:\\n\", H)\n",
        "\n"
      ],
      "metadata": {
        "id": "fTDl6kIkrF5N"
      },
      "execution_count": 5,
      "outputs": []
    },
    {
      "cell_type": "markdown",
      "source": [
        "##  Function : Total Transmit Power"
      ],
      "metadata": {
        "id": "f8p-LwFg7RPl"
      }
    },
    {
      "cell_type": "markdown",
      "source": [
        "Calculate the total transmit power $P_b^\\nu$:\n",
        "\n",
        "$$\n",
        "\\color{green}{P_b^\\nu} \\triangleq \\sum_{k \\in \\mathcal{K}} \\|\\mathbf{w}_{c,k}\\|^2 + \\sum_{m \\in \\mathcal{M}} \\|\\mathbf{w}_{r,m}\\|^2\n",
        "$$\n",
        "based on equation (2):\n",
        "$$\n",
        "\\color{green}{\\mathbb{E}\\{\\mathbf{x}^H \\mathbf{x}\\}} = \\sum_{k \\in \\mathcal{K}} \\|\\mathbf{w}_{c,k}\\|^2 + \\sum_{m \\in \\mathcal{M}} \\|\\mathbf{w}_{r,m}\\|^2.\n",
        "$$"
      ],
      "metadata": {
        "id": "jOyLIyQ38VjE"
      }
    },
    {
      "cell_type": "code",
      "source": [
        "def total_transmit_power(wc, wr):\n",
        "    \"\"\" Calculate the total transmit power \"\"\"\n",
        "    # l2norm wc\n",
        "    l2norm_wc = [np.linalg.norm(w) for w in wc]\n",
        "    l2norm_wr = [np.linalg.norm(w) for w in wr]\n",
        "    Pb_nu = sum(l2norm_wc) + sum(l2norm_wr)\n",
        "    return Pb_nu"
      ],
      "metadata": {
        "id": "KNUiTKUS7bVM"
      },
      "execution_count": 6,
      "outputs": []
    },
    {
      "cell_type": "markdown",
      "source": [
        "## Function : Update Beamformer $\\{\\mathbf{w}_{c,k}\\}^{\\nu+1}$ and $\\{\\mathbf{w}_{r,m}\\}^{\\nu+1}$ with given $\\mathbf{v}_1^\\nu$ and $\\mathbf{v}_2^\\nu$\n",
        "\n",
        "\\begin{aligned}\n",
        "\\min_{\\{\\mathbf{w}_{c,k}\\}, \\{\\mathbf{w}_{r,m}\\}} \\quad & \\sum_{k \\in \\mathcal{K}} \\|\\mathbf{w}_{c,k}\\|^2 + \\sum_{m \\in \\mathcal{M}} \\|\\mathbf{w}_{r,m}\\|^2 \\quad \\text{(17)}\\\\\n",
        "\\text{s.t.}\n",
        "\\quad & \\color{green}{\n",
        "  \\Upsilon_R \\sigma_R^2 \\leq \\sum_{k \\in \\mathcal{K}} F_A(\\mathbf{w}_{c,k}, \\tilde{\\mathbf{w}}_{c,k}) + \\sum_{m \\in \\mathcal{M}} F_A(\\mathbf{w}_{r,m}, \\tilde{\\mathbf{w}}_{r,m}) \\quad \\text{(15)} }\\\\\n",
        "&\n",
        "\\color{green}{\n",
        "(2^{\\Gamma_k- 1} ) \\left( \\sum_{m \\in \\mathcal{M}} \\mathbf{w}_{r,m}^H \\mathbf{B} \\mathbf{w}_{r,m} + \\sum_{i \\neq k, i \\in \\mathcal{K}} \\mathbf{w}_{c,i}^H \\mathbf{B} \\mathbf{w}_{c,i} + \\sigma_k^2 \\right) \\leq F_B(\\mathbf{w}_{c,k}, \\widetilde{\\mathbf{w}}_{c,k}) \\quad \\text{(16)}}\n",
        "\\end{aligned}\n",
        "\n",
        "Where equation (15) and (16) are result of first approximation of equation (12) and (13).\n",
        "\n",
        "\n",
        "$\n",
        "\\Upsilon_R \\sigma_R^2 \\leq \\sum_{k \\in \\mathcal{K}} \\mathbf{w}_{c,k}^H \\mathbf{A} \\mathbf{w}_{c,k} + \\sum_{m \\in \\mathcal{M}} \\mathbf{w}_{r,m}^H \\mathbf{A} \\mathbf{w}_{r,m} \\tag{12}\n",
        "$\n",
        "\n",
        "$\n",
        "(2^{\\Gamma_k- 1}) \\left( \\sum_{m \\in \\mathcal{M}} \\mathbf{w}_{r,m}^H \\mathbf{B} \\mathbf{w}_{r,m} + \\sum_{i \\neq k, i \\in \\mathcal{K}} \\mathbf{w}_{c,i}^H \\mathbf{B} \\mathbf{w}_{c,i} + \\sigma_k^2 \\right) \\leq \\mathbf{w}_{c,k}^H \\mathbf{B} \\mathbf{w}_{c,k} \\tag{13}\n",
        "$\n",
        "\n",
        "First-order Approximation technique solved by\n",
        "$\n",
        "\\color{green}{\n",
        "z^H Q z \\geq 2 \\Re\\left\\{ \\tilde{z}^H Q z \\right\\} - \\tilde{z}^H Q \\tilde{z} \\triangleq F_Q(z, \\tilde{z}) \\tag{14}\n",
        "}\n",
        "$\n"
      ],
      "metadata": {
        "id": "iZa091XB9LNk"
      }
    },
    {
      "cell_type": "markdown",
      "source": [
        "\n",
        "\n",
        "\n",
        "where $\n",
        " \\quad \\mathbf{A} \\triangleq |\\alpha|^2 \\mathbf{H}_R^H \\mathbf{H}_R \\succeq 0, \\quad \\mathbf{B} \\triangleq \\mathbf{h}_k \\mathbf{h}_k^H \\succeq 0.\n",
        "$\n",
        "\n",
        "$\n",
        "\\color{green}{\\mathbf{H}_R} = \\left( \\mathbf{a}(\\theta_b) + \\mathbf{H}_1^H \\operatorname{diag}(\\mathbf{v}_1) \\mathbf{a}(\\theta_r) \\right) \\left( \\mathbf{a}^H(\\theta_b) + \\mathbf{a}^H(\\theta_r) \\operatorname{diag}(\\mathbf{v}_1) \\mathbf{H}_1 \\right)\n",
        "\\tag{based on 3}\n",
        "$\n",
        "\n",
        "$\\color{green}{\\mathbf{a}(\\theta_r)} = \\left[1, e^{j2\\pi \\frac{d}{\\lambda} \\sin(\\theta_r)}, \\cdots, e^{j2\\pi \\frac{(M-1)d}{\\lambda} \\sin(\\theta_r)} \\right]^T$ and $\\color{green}{\\mathbf{a}(\\theta_b)} = \\left[1, e^{j2\\pi \\frac{d}{\\lambda} \\sin(\\theta_b)}, \\cdots, e^{j2\\pi \\frac{(M-1)d}{\\lambda} \\sin(\\theta_b)} \\right]^T$ is channel steering factor betweeen BS and the sensing target. $\\{\\theta_b,\\theta_r\\}$ stands for the angles of the target relative to the BS and RIS, and respectivelt, and $\\Delta$ is the interval between 2 adjecent antennas at the BS.\n",
        "\n",
        "\n"
      ],
      "metadata": {
        "id": "Ep8w-m3bbRwF"
      }
    },
    {
      "cell_type": "markdown",
      "source": [
        "### Function $H_R$ and $h_k$\n"
      ],
      "metadata": {
        "id": "NdOBm1avqh2g"
      }
    },
    {
      "cell_type": "code",
      "source": [
        "def steering_vector(theta, M, d=0.5, wavelength=1):\n",
        "    \"\"\" Generate steering vector a(theta) for ULA \"\"\"\n",
        "    k = 2 * np.pi / wavelength\n",
        "    m = np.arange(M)\n",
        "    return np.exp(1j * k * d * m * np.sin(theta))\n",
        "\n",
        "def compute_H_R(theta_b, theta_r, H1, v1, M, N1, d=0.5, freq=3*(10**9)):\n",
        "    \"\"\"\n",
        "    Compute the radar channel matrix H_R based on the double-RIS-enabled ISAC system.\n",
        "\n",
        "    Parameters:\n",
        "        theta_b: angle from BS to target (in radians)\n",
        "        theta_r: angle from RIS1 to target (in radians)\n",
        "        H1: channel matrix from BS to RIS1 (N1 x M)\n",
        "        v1: reflection coefficients of RIS1 (N1 x 1), unit modulus\n",
        "        M: number of antennas at BS\n",
        "        N1: number of elements at RIS1\n",
        "        d: antenna spacing (default 0.5λ)\n",
        "        wavelength: signal wavelength (default 1)\n",
        "\n",
        "    Returns:\n",
        "        H_R: effective radar channel matrix (M x M)\n",
        "    \"\"\"\n",
        "    c = 3e8  # speed of light [m/s]\n",
        "    wavelength = c / freq\n",
        "\n",
        "    # Generate steering vectors\n",
        "    a_theta_b = steering_vector(theta_b, M, d, wavelength).reshape((M, 1))  # (M x 1)\n",
        "    a_theta_r = steering_vector(theta_r, N1, d, wavelength).reshape((N1, 1))  # (N1 x 1)\n",
        "\n",
        "    # Make diagonal matrix from RIS1 phase vector\n",
        "    V1 = np.diag(v1.flatten())  # (N1 x N1)\n",
        "\n",
        "    # First term\n",
        "    term1 = a_theta_b + H1.conj().T @ V1 @ a_theta_r  # (M x 1)\n",
        "\n",
        "    # Second term (Hermitian transpose)\n",
        "    term2 = a_theta_b.conj().T + a_theta_r.conj().T @ V1.conj().T @ H1  # (1 x M)\n",
        "\n",
        "    # Final radar channel\n",
        "    H_R = term1 @ term2  # (M x M)\n",
        "    return H_R\n",
        "def compute_hk(h_bk, h1k, h2k, H1, H2, G, v1, v2):\n",
        "    \"\"\"\n",
        "    Compute cascaded equivalent channel h_k from BS to user k.\n",
        "\n",
        "    Parameters:\n",
        "    - h_bk: (M x 1) channel from BS to user k\n",
        "    - h1k: (N1 x 1) channel from RIS1 to user k\n",
        "    - h2k: (N2 x 1) channel from RIS2 to user k\n",
        "    - H1: (N1 x M) channel from BS to RIS1\n",
        "    - H2: (N2 x M) channel from BS to RIS2\n",
        "    - G: (N2 x N1) channel from RIS1 to RIS2\n",
        "    - v1: (N1 x 1) RIS1 phase shift vector (unit modulus)\n",
        "    - v2: (N2 x 1) RIS2 phase shift vector (unit modulus)\n",
        "\n",
        "    Returns:\n",
        "    - h_k: (M x 1) equivalent total channel\n",
        "    \"\"\"\n",
        "    V1 = np.diag(v1.flatten())\n",
        "    V2 = np.diag(v2.flatten())\n",
        "\n",
        "    # Direct + Single Reflection via RIS1 and RIS2 + Double Reflection\n",
        "    term_direct     = h_bk\n",
        "    term_ris1       = H1.conj().T @ V1.conj().T @ h1k\n",
        "    term_ris2       = H2.conj().T @ V2.conj().T @ h2k\n",
        "    term_double_ris = H1.conj().T @ V1.conj().T @ G.conj().T @ V2.conj().T @ h2k\n",
        "\n",
        "    h_k = term_direct + term_ris1 + term_ris2 + term_double_ris\n",
        "    return h_k"
      ],
      "metadata": {
        "id": "imtm0NJuqp2g"
      },
      "execution_count": 7,
      "outputs": []
    },
    {
      "cell_type": "markdown",
      "source": [
        "\n",
        "$\n",
        "\\color{Green}{\\mathbf{H}_1} = \\sqrt{\\frac{\\epsilon_1}{1 + \\epsilon_1}} \\mathbf{H}_1^{\\mathrm{LOS}} + \\sqrt{\\frac{1}{1 + \\epsilon_1}} \\mathbf{H}_1^{\\mathrm{NLOS}} \\tag{4}\n",
        "$\n",
        "\n",
        "$H_1$ is assumed to be Rician fading channgel matrix between the BS and RIS1. $H_1^{LOS}$ is Channel MIMO Line-of-Sight. Referenced by Tse and Viswanath: Fundamentals of Wireless Communication pages 352 Eq. 7.29. $H_1^{NLOS}$ represent Reyleight fading non-LOS Component, which has i.i.d circularly symmetric complex Gaussioan entries with zero-mean and unit variance\n",
        "\n",
        "$$\n",
        "\\mathbf{H^{LOS}} = a \\cdot \\sqrt{n_t n_r} \\cdot \\exp\\left( -j \\frac{2\\pi d}{\\lambda_c} \\right) \\cdot \\mathbf{e}_r(\\Omega_r) \\cdot \\mathbf{e}_t^*(\\Omega_t)\n",
        "$$\n",
        "where $a = \\sqrt{P_t \\cdot G_t \\cdot G_r} \\cdot \\left( \\frac{\\lambda}{4\\pi d} \\right)$ as Friis Free Space Transmission Equation. $n_t n_r$ is the power gain of the MIMO Channel, or simply $n_t$ is num of transmit antenna, $n_r$ is num of receive antenna. $\\lambda_c$ is length of cerrier wave in meter. And $d$ is distance between BS and RIS1\n",
        "\n",
        "Explain more on formula."
      ],
      "metadata": {
        "id": "MrOzjEKlbM8e"
      }
    },
    {
      "cell_type": "markdown",
      "source": [
        "### Function of Update Beamformer"
      ],
      "metadata": {
        "id": "ObdEnXpkqyw3"
      }
    },
    {
      "cell_type": "code",
      "source": [
        "def update_beamformers(wc, wr, v1, v2,Upsilon_R_dB = 10,sigma_R2_dBm=-80,sigma_k2_dBm = -80,Gamma_k=2):\n",
        "  Upsilon_R_dB = 10\n",
        "  sigma_R2_dBm=-80\n",
        "  sigma_k2_dBm = -80\n",
        "  Gamma_k=2\n",
        "  freq = 3e9\n",
        "  Upsilon_R = 10 ** (Upsilon_R_dB / 10)  # = 10.0 \\Upsilon_R -> Radar SNR Threshold\n",
        "  sigma_R2  = 10 ** (sigma_R2_dBm / 10) / 1000  # = 1e-11 W \\sigma_R2 -> Radar Noise Power\n",
        "\n",
        "  Gamma_k = 2  # bps/Hz\n",
        "  sinr_k_threshold = 2 ** Gamma_k - 1  # = 3.0 (linear SINR)\n",
        "  sigma_k2 = 10 ** (sigma_k2_dBm / 10) / 1000  # = 1e-11 W\n",
        "\n",
        "  # Inisialisasi variabel optimasi dan tebakan\n",
        "  K = len(wc)\n",
        "  M = len(wr)\n",
        "  w_c_tilde = wc\n",
        "  w_r_tilde = wr\n",
        "  w_c = [cp.Variable((M, 1), complex=True) for _ in range(K)]\n",
        "  w_r = [cp.Variable((M, 1), complex=True) for _ in range(M)]\n",
        "\n",
        "  constraint_total = []\n",
        "  # Building Radar SNR Constraint\n",
        "  H_1 = rician_channel(\n",
        "      ch_size=(N1, M), # ch_size: tuple (N_ar, N_at), number of RX and TX antennas\n",
        "      rician_factor=rician_factor[\"H_1\"], # rician_factor: K-factor (linear scale)\n",
        "      dist=distance_channel_meter[\"H_1\"], # dist: distance between TX and RX [m]\n",
        "      path_loss_ref=path_loss_ref[\"H_1\"], # path_loss_ref: reference path loss (linear)\n",
        "      dist_ref=1, # dist_ref: reference distance [m]\n",
        "      path_loss_exp=path_loss_exp[\"H_1\"], # path_loss_exp: path loss exponent\n",
        "      freq=freq, # freq: frequency [Hz]\n",
        "      phi=angle_channel_rad['H_1'] / 10 # phi: angle of arrival [radian]\n",
        "      )\n",
        "\n",
        "  # bs_target_dist, bs_target_phi_rad, bs_target_phi_deg =get_distance_and_phi(\"BS\",\"Target\")\n",
        "  # ris1_target_dist,ris1_target_phi_rad, ris1_target_phi_deg =get_distance_and_phi(\"RIS1\",\"Target\")\n",
        "  H_R = compute_H_R(\n",
        "      theta_b = angle_phi_rad(positions['BS'],positions[\"Target\"]),  # angle from BS to target (in radians)\n",
        "      theta_r = angle_phi_rad(positions['RIS1'],positions[\"Target\"]),  # angle from RIS1 to target (in radians)\n",
        "      H1=H_1,       # channel matrix from BS to RIS1 (N1 x M)\n",
        "      v1=v1,       # reflection coefficients of RIS1 (N1 x 1), unit modulus\n",
        "      M=M,        # number of antennas at BS\n",
        "      N1=N1,       # number of elements at RIS1\n",
        "      d=0.5,        # antenna spacing (default 0.5λ)\n",
        "      freq=2.5e-9      # signal wavelength (default 1)\n",
        "      )\n",
        "\n",
        "  # Buat matriks A = |alpha|^2 * H_R^H * H_R\n",
        "  alpha = 1 + 0j # Based on Paper |\\alpha|^2 = 1\n",
        "  A = (np.abs(alpha) ** 2) * (H_R.conj().T @ H_R)\n",
        "\n",
        "  #Radar SNR lower bound\n",
        "  radar_snr_constraint = (\n",
        "      Upsilon_R * sigma_R2 <= sum(\n",
        "          # F_Q(A, w_c[k], w_c_tilde[k]) for k in range(K)\n",
        "          2 * cp.real(w_c_tilde[k].conj().T @ A @ w_c[k]) - np.real(w_c_tilde[k].conj().T @ A @ w_c_tilde[k])for k in range(K)\n",
        "      ) + sum(\n",
        "          # F_Q(A, w_r[m], w_r_tilde[m]) for m in range(M)\n",
        "          2 * cp.real(w_r_tilde[m].conj().T @ A @ w_r[m]) - np.real(w_r_tilde[m].conj().T @ A @ w_r_tilde[m])for m in range(M)\n",
        "      )\n",
        "  )\n",
        "\n",
        "  ## Building COMM SINR Constraint\n",
        "  constraints_comm_sinr = []\n",
        "\n",
        "  # Interferensi dari radar dan user lain\n",
        "  for k in range(K):\n",
        "    # Parameter sesuai paper\n",
        "    dist_ref = 1\n",
        "    d_bk = 50       # BS → user (m)\n",
        "    d_1k = 52       # RIS1 → user (m)\n",
        "    d_2k = 2        # RIS2 → user (m)\n",
        "\n",
        "    # Rician factor dan path loss exponent sesuai tabel\n",
        "    h_bk = rician_channel(\n",
        "        ch_size=(1, M),\n",
        "        rician_factor=rician_factor['h_bk'],\n",
        "        dist=distance_channel_meter[\"h_bk\"],\n",
        "        path_loss_ref = path_loss_ref['h_bk'],\n",
        "        dist_ref=dist_ref,\n",
        "        path_loss_exp=path_loss_exp['h_bk'],\n",
        "        freq=freq,\n",
        "        phi=angle_channel_rad['h_bk']\n",
        "      )\n",
        "    h1k  = rician_channel(\n",
        "        ch_size=(1, N1),\n",
        "        rician_factor=rician_factor['h_1k'],\n",
        "        dist=distance_channel_meter['h_1k'],\n",
        "        path_loss_ref=path_loss_ref['h_1k'],\n",
        "        dist_ref = dist_ref,\n",
        "        path_loss_exp=path_loss_exp[\"h_1k\"],\n",
        "        freq=freq,\n",
        "        phi=angle_channel_rad['h_1k']\n",
        "      )\n",
        "    h2k  = rician_channel(\n",
        "        ch_size=(1, N2),\n",
        "        rician_factor=rician_factor['h_2k'],\n",
        "        dist=distance_channel_meter['h_2k'],\n",
        "        path_loss_ref=path_loss_ref['h_2k'],\n",
        "        dist_ref=dist_ref,\n",
        "        path_loss_exp=path_loss_exp['h_2k'],\n",
        "        freq=freq,\n",
        "        phi=angle_channel_rad['h_2k']\n",
        "        )\n",
        "\n",
        "    # Channel BS → RIS2\n",
        "    H2 = rician_channel(\n",
        "        ch_size=(N2, M),\n",
        "        rician_factor=rician_factor['H_2'],\n",
        "        dist=distance_channel_meter['H_2'],                   # jauh (paper)\n",
        "        path_loss_ref=path_loss_ref['H_2'],\n",
        "        dist_ref=dist_ref,\n",
        "        path_loss_exp=path_loss_exp['H_2'],\n",
        "        freq=freq,\n",
        "        phi=angle_channel_rad['H_2']           # arbitrary\n",
        "    )\n",
        "\n",
        "    # Channel RIS1 → RIS2\n",
        "    G = rician_channel(\n",
        "        ch_size=(N2, N1),\n",
        "        rician_factor=rician_factor['G'],\n",
        "        dist=distance_channel_meter['G'],                   # RIS1 ke RIS2\n",
        "        path_loss_ref=path_loss_ref['G'],\n",
        "        dist_ref=dist_ref,\n",
        "        path_loss_exp=path_loss_exp['G'],\n",
        "        freq=freq,\n",
        "        phi=angle_channel_rad['G']           # arbitrary\n",
        "    )\n",
        "\n",
        "    # Diagonalkan phase shift\n",
        "    V1 = np.diag(v1.flatten())\n",
        "    V2 = np.diag(v2.flatten())\n",
        "\n",
        "    # Total channel vector (M x 1)\n",
        "    hk = h_bk.T + h1k @ V1 @ H_1 + h2k @ V2 @ H2 + h2k @ V2 @ G @ V1 @ H_1\n",
        "    # hk = compute_hk(h_bk, h1k, h2k, H1, H2, G, v1, v2):\n",
        "\n",
        "    B = hk @ hk.conj().T\n",
        "    # interference = sum(cp.quad_form(w_r[m], B) for m in range(M)) + \\\n",
        "    #               sum(cp.quad_form(w_c[i], B) for i in range(K) if i != k)\n",
        "    interference = sum(cp.quad_form(w_r[m], B) for m in range(M))\n",
        "    for i in range(K):\n",
        "      if i != k:\n",
        "        interference += cp.quad_form(w_c[i], B)\n",
        "\n",
        "    lhs = 2**(Gamma_k - 1) * (interference + sigma_k2)\n",
        "    # rhs = F_Q(B, w_c[k], w_c_tilde[k])\n",
        "    rhs = 2 * cp.real(w_c_tilde[k].conj().T @ B @ w_c[k]) - np.real(w_c_tilde[k].conj().T @ B @ w_c_tilde[k])\n",
        "    # SINR constraint: left-hand side ≤ right-hand side\n",
        "    constraints_comm_sinr.append(lhs <= rhs)\n",
        "\n",
        "  ## Merge All Constraint\n",
        "  constraint_total.append(radar_snr_constraint)\n",
        "  constraint_total += constraints_comm_sinr\n",
        "\n",
        "  # Objective: minimize transmit power\n",
        "  objective = cp.Minimize(\n",
        "      sum(cp.sum_squares(cp.norm(w_c[k], 2)) for k in range(K)) +\n",
        "      sum(cp.sum_squares(cp.norm(w_r[m], 2)) for m in range(M))\n",
        "  )\n",
        "\n",
        "  # Solve\n",
        "  problem = cp.Problem(objective, constraint_total)\n",
        "  # problem.solve(solver=cp.SCS)\n",
        "  problem.solve(solver=cp.SCS)\n",
        "  # # Output hasil optimasi\n",
        "  # print(\"📡 Total transmit power:\", problem.value)\n",
        "  # print(\"\\n📶 Optimal Communication Beamformers (w_c):\")\n",
        "  # for k in range(K):\n",
        "  #     print(f\"w_c[{k}] = {w_c[k].value.flatten()}\")\n",
        "\n",
        "  # print(\"\\n🎯 Optimal Radar Beamformers (w_r):\")\n",
        "  # for m in range(M):\n",
        "  #     print(f\"w_r[{m}] = {w_r[m].value.flatten()}\")\n",
        "  w_c = [var.value for var in w_c]  # pastikan ini berisi array (M,1)\n",
        "  w_c_array = np.stack(w_c, axis=0)\n",
        "  w_r = [var.value for var in w_r]  # pastikan ini berisi array (M,1)\n",
        "  w_r_array = np.stack(w_r, axis=0)\n",
        "\n",
        "  return w_c_array, w_r_array\n",
        "K = 3  # Number of users\n",
        "M = 8  # Number of antennas at BS\n",
        "N1, N2 = 10, 10  # Number of elements in RIS1 and RIS2\n",
        "epsilon = 1e-2  # Convergence threshold 0.01\n",
        "# Testing Function Operation\n",
        "wc, wr, v1, v2 = initialize_parameters(K, M, N1, N2)\n",
        "Pb_nu = total_transmit_power(wc, wr)\n",
        "nu = 0 # nu in greek\n",
        "\n",
        "wc = [np.random.randn(M, 1) + 1j * np.random.randn(M, 1) for _ in range(K)] # K jumlah user\n",
        "wr = [np.random.randn(M, 1) + 1j * np.random.randn(M, 1) for _ in range(M)]\n",
        "v1 = np.exp(1j * 2 * np.pi * np.random.rand(N1, 1))\n",
        "v2 = np.exp(1j * 2 * np.pi * np.random.rand(N2, 1))\n",
        "wc_new,wr_new = update_beamformers(wc, wr, v1, v2,Upsilon_R_dB = 10,sigma_R2_dBm=-80,sigma_k2_dBm = -80,Gamma_k=2)"
      ],
      "metadata": {
        "id": "5r4tHwKHEfFI"
      },
      "execution_count": 8,
      "outputs": []
    },
    {
      "cell_type": "markdown",
      "source": [
        "## Function Optimization of Phase-Shift **v**1"
      ],
      "metadata": {
        "id": "HhGHsZ2Bq4M8"
      }
    },
    {
      "cell_type": "markdown",
      "source": [
        "On this step, we need transform subproblem (18) into (32) by transforming higher-order constraints(18b)."
      ],
      "metadata": {
        "id": "sm6WMpXIUnsp"
      }
    },
    {
      "cell_type": "markdown",
      "source": [
        "\\begin{align}\n",
        "&\\textbf{Find} \\quad \\mathbf{v}_1 \\tag{18a} \\\\\n",
        "&\\text{s.t.} \\quad \\gamma_R(\\mathbf{v}_1) \\geq \\Upsilon_R, \\tag{18b} \\\\\n",
        "&\\qquad\\;\\;\\; R_k(\\mathbf{v}_1) \\geq \\Gamma_k,\\quad \\forall k \\in \\mathcal{K}, \\tag{18c} \\\\\n",
        "&\\qquad\\;\\;\\; |\\mathbf{v}_1(j)| = 1,\\quad \\forall j = 1,\\dots,N_1. \\tag{18d}\n",
        "\\end{align}"
      ],
      "metadata": {
        "id": "5UNHDc11UlY3"
      }
    },
    {
      "cell_type": "markdown",
      "source": [
        "\\begin{align}\n",
        "&\\textbf{Find} \\quad \\mathbf{U}_1 \\tag{32a} \\\\\n",
        "&\\text{s.t.} \\quad \\text{(27), (30), (31)}, \\tag{32b} \\\\\n",
        "&\\qquad\\;\\; \\mathbf{U}_1 \\succeq 0,\\; \\text{rank}(\\mathbf{U}_1) = 1. \\tag{32c}\n",
        "\\end{align}\n"
      ],
      "metadata": {
        "id": "UywURriuWMdc"
      }
    },
    {
      "cell_type": "markdown",
      "source": [
        "Equation 27 is showed below"
      ],
      "metadata": {
        "id": "niHTPtxKWX92"
      }
    },
    {
      "cell_type": "markdown",
      "source": [
        "$\\mathbf{q}^{H} \\mathbf{C} \\mathbf{q} \\geq 2\\operatorname{Tr}\\left( \\left( \\prod \\bar{\\mathbf{f}} \\right) \\mathbf{U}_1 \\right) - \\tilde{\\mathbf{q}}_1^{T} \\mathbf{C}_1 \\tilde{\\mathbf{q}}_1. \\tag{27}$\n",
        "\n"
      ],
      "metadata": {
        "id": "ffdkCJXrWkkx"
      }
    },
    {
      "cell_type": "markdown",
      "source": [
        "To enable convex optimization, the non-convex constraint in Equation (21) is replaced using this approximation. The resulting convex constraint becomes:"
      ],
      "metadata": {
        "id": "eMqU4cePiMhD"
      }
    },
    {
      "cell_type": "markdown",
      "source": [
        "$\\Upsilon_R \\sigma_R^2 \\leq 2\\operatorname{Tr}\\left( \\left( \\prod \\bar{\\mathbf{f}} \\right) \\mathbf{U}_1 \\right) - \\tilde{\\mathbf{q}}_1^{T} \\mathbf{C}_1 \\tilde{\\mathbf{q}}_1 \\tag{modified 27}$"
      ],
      "metadata": {
        "id": "ee1uqmN9iWd2"
      }
    },
    {
      "cell_type": "markdown",
      "source": [
        "### Function $\\texttt{construct_U1_from_v1(v1)}$ : $$\\mathbf{U}_1(\\mathbf{v}_1)$$"
      ],
      "metadata": {
        "id": "-j-VjrQqgRcY"
      }
    },
    {
      "cell_type": "code",
      "source": [
        "v1 = np.exp(1j * 2 * np.pi * np.random.rand(3, 1))\n",
        "v1"
      ],
      "metadata": {
        "id": "C13PvMDljxlF",
        "outputId": "9be79cb9-14b6-42eb-db35-1021fab1651c",
        "colab": {
          "base_uri": "https://localhost:8080/"
        }
      },
      "execution_count": 46,
      "outputs": [
        {
          "output_type": "execute_result",
          "data": {
            "text/plain": [
              "array([[-0.73767354+0.67515757j],\n",
              "       [ 0.44810276-0.89398206j],\n",
              "       [-0.36732764-0.93009161j]])"
            ]
          },
          "metadata": {},
          "execution_count": 46
        }
      ]
    },
    {
      "cell_type": "code",
      "source": [
        "u1 = np.concatenate([v1, [[1]]], axis=0)\n",
        "print(u1)\n",
        "print(u1@u1.conj().T)"
      ],
      "metadata": {
        "id": "Mw6MKYZqkBf0",
        "outputId": "ba93fce2-6250-4848-f28f-d3153ec7cbb3",
        "colab": {
          "base_uri": "https://localhost:8080/"
        }
      },
      "execution_count": 47,
      "outputs": [
        {
          "output_type": "stream",
          "name": "stdout",
          "text": [
            "[[-0.73767354+0.67515757j]\n",
            " [ 0.44810276-0.89398206j]\n",
            " [-0.36732764-0.93009161j]\n",
            " [ 1.        +0.j        ]]\n",
            "[[ 1.        +0.j         -0.93413231-0.35692693j -0.35699051-0.93410801j\n",
            "  -0.73767354+0.67515757j]\n",
            " [-0.93413231+0.35692693j  1.        +0.j          0.66688468+0.74516094j\n",
            "   0.44810276-0.89398206j]\n",
            " [-0.35699051+0.93410801j  0.66688468-0.74516094j  1.        +0.j\n",
            "  -0.36732764-0.93009161j]\n",
            " [-0.73767354-0.67515757j  0.44810276+0.89398206j -0.36732764+0.93009161j\n",
            "   1.        +0.j        ]]\n"
          ]
        }
      ]
    },
    {
      "cell_type": "code",
      "source": [
        "def construct_U_1_from_v_1(v_1):\n",
        "    \"\"\"\n",
        "    Constructs U1 = u1 * u1^H from given v1.\n",
        "\n",
        "    Parameters:\n",
        "    - v1: np.ndarray, complex vector of RIS phase shifts, shape (N,)\n",
        "\n",
        "    Returns:\n",
        "    - U1: np.ndarray, complex Hermitian matrix of shape (N+1, N+1)\n",
        "    \"\"\"\n",
        "    # Extend v1 by appending 1 to form u1 = [v1; 1]\n",
        "    u_1 = np.concatenate([v1, [[1]]], axis=0)\n",
        "    u_1_H = u_1.conj().T\n",
        "\n",
        "\n",
        "\n",
        "    # Compute U1 = u1 * u1^H\n",
        "    U_1 = u_1 @ u_1_H\n",
        "\n",
        "    print(\"v_1  :\",end=\"\");print(v_1)\n",
        "    print(\"u_1  :\",end=\"\");print(u_1)\n",
        "    print(\"u_1_H:\",end=\"\");print(u_1_H)\n",
        "    print(\"U_1  :\",end=\"\");print(U_1)\n",
        "    return U_1\n",
        "\n",
        "v1 = np.exp(1j * 2 * np.pi * np.random.rand(3, 1))\n",
        "\n",
        "# Construct U1\n",
        "U1_generated = construct_U1_from_v_1(v1)\n",
        "\n",
        "\n",
        "# # Display U1 and q1 to user\n",
        "# tools.display_dataframe_to_user(name=\"Constructed Matrix U1\", dataframe=pd.DataFrame(U1_generated))\n",
        "# tools.display_dataframe_to_user(name=\"Real Vector q1 (from U1)\", dataframe=pd.DataFrame(q1_from_U1))\n",
        "\n",
        "print(\"v_1 : \"+str(v1))\n",
        "print(\"U1  : \"+str(U1_generated))\n"
      ],
      "metadata": {
        "colab": {
          "base_uri": "https://localhost:8080/"
        },
        "id": "fyOPoYos2SBg",
        "outputId": "2b8648b5-3cc5-4952-caf6-4770007a62d2"
      },
      "execution_count": 54,
      "outputs": [
        {
          "output_type": "stream",
          "name": "stdout",
          "text": [
            "v_1  :[[-0.33513244-0.94217103j]\n",
            " [-0.80082623+0.59889677j]\n",
            " [-0.35151542-0.93618209j]]\n",
            "u_1  :[[-0.33513244-0.94217103j]\n",
            " [-0.80082623+0.59889677j]\n",
            " [-0.35151542-0.93618209j]\n",
            " [ 1.        +0.j        ]]\n",
            "u_1_H:[[-0.33513244+0.94217103j -0.80082623-0.59889677j -0.35151542+0.93618209j\n",
            "   1.        -0.j        ]]\n",
            "U_1  :[[ 1.        +0.j         -0.29588034+0.95522501j  0.99984787+0.01744265j\n",
            "  -0.33513244-0.94217103j]\n",
            " [-0.29588034-0.95522501j  1.        +0.j         -0.27917367-0.96024063j\n",
            "  -0.80082623+0.59889677j]\n",
            " [ 0.99984787-0.01744265j -0.27917367+0.96024063j  1.        +0.j\n",
            "  -0.35151542-0.93618209j]\n",
            " [-0.33513244+0.94217103j -0.80082623-0.59889677j -0.35151542+0.93618209j\n",
            "   1.        +0.j        ]]\n",
            "v_1 : [[-0.33513244-0.94217103j]\n",
            " [-0.80082623+0.59889677j]\n",
            " [-0.35151542-0.93618209j]]\n",
            "U1  : [[ 1.        +0.j         -0.29588034+0.95522501j  0.99984787+0.01744265j\n",
            "  -0.33513244-0.94217103j]\n",
            " [-0.29588034-0.95522501j  1.        +0.j         -0.27917367-0.96024063j\n",
            "  -0.80082623+0.59889677j]\n",
            " [ 0.99984787-0.01744265j -0.27917367+0.96024063j  1.        +0.j\n",
            "  -0.35151542-0.93618209j]\n",
            " [-0.33513244+0.94217103j -0.80082623-0.59889677j -0.35151542+0.93618209j\n",
            "   1.        +0.j        ]]\n"
          ]
        }
      ]
    },
    {
      "cell_type": "markdown",
      "source": [
        "### Function $\\texttt{construct_q1}$ : $$\\mathbf{q}_1$$"
      ],
      "metadata": {
        "id": "EgSJPQmff_pS"
      }
    },
    {
      "cell_type": "code",
      "source": [
        "import numpy as np\n",
        "\n",
        "def construct_q1(U1):\n",
        "    \"\"\"\n",
        "    Constructs q and q1 from a given Hermitian matrix U1 (complex-valued).\n",
        "\n",
        "    Parameters:\n",
        "    - U1: np.ndarray, complex Hermitian matrix of size (N+1, N+1)\n",
        "\n",
        "    Returns:\n",
        "    - q: np.ndarray, complex vectorized form of U1\n",
        "    - q1: np.ndarray, real-valued concatenation of Re(q) and Im(q)\n",
        "    \"\"\"\n",
        "    # Vectorize the Hermitian matrix U1 (column-wise stacking)\n",
        "    q = U1.reshape(-1, order='F')  # 'F' means column-major (Fortran-style)\n",
        "\n",
        "    # Construct q1 by stacking real and imaginary parts\n",
        "    q1 = np.concatenate([np.real(q), np.imag(q)], axis=0)\n",
        "\n",
        "    return q, q1\n",
        "\n",
        "# Example usage\n",
        "N = 3  # For RIS with N=3 elements, U1 is (N+1)x(N+1)\n",
        "np.random.seed(0)\n",
        "U1_example = np.random.randn(N+1, N+1) + 1j * np.random.randn(N+1, N+1)\n",
        "U1_example = (U1_example + U1_example.conj().T) / 2  # Make it Hermitian\n",
        "\n",
        "q, q1 = construct_q1(U1_example)\n",
        "# import ace_tools as tools; tools.display_dataframe_to_user(name=\"Real Vector q1\", dataframe=pd.DataFrame(q1))\n",
        "q.shape, q1.shape\n"
      ],
      "metadata": {
        "colab": {
          "base_uri": "https://localhost:8080/"
        },
        "id": "PQ5P0Og22hx2",
        "outputId": "456f54bc-e22f-4ab7-cd7d-db6716294b3e"
      },
      "execution_count": 12,
      "outputs": [
        {
          "output_type": "execute_result",
          "data": {
            "text/plain": [
              "((16,), (32,))"
            ]
          },
          "metadata": {},
          "execution_count": 12
        }
      ]
    },
    {
      "cell_type": "code",
      "source": [
        "# Redefine construct_C1 since it wasn't defined earlier in the kernel\n",
        "def construct_C1(C):\n",
        "    \"\"\"\n",
        "    Construct the real-valued C1 matrix from complex-valued C.\n",
        "\n",
        "    Parameters:\n",
        "    - C: np.ndarray, complex Hermitian matrix (n x n)\n",
        "\n",
        "    Returns:\n",
        "    - C1: np.ndarray, real matrix (2n x 2n)\n",
        "    \"\"\"\n",
        "    C_r = np.real(C)\n",
        "    C_i = np.imag(C)\n",
        "\n",
        "    top = np.hstack((C_r, -C_i))\n",
        "    bottom = np.hstack((C_i, C_r))\n",
        "    C1 = np.vstack((top, bottom))\n",
        "\n",
        "    return C1\n",
        "\n",
        "# Now construct C1 from C_example\n",
        "C1_example = construct_C1(C_example)\n",
        "\n",
        "# Display C1\n",
        "# tools.display_dataframe_to_user(name=\"Real-Valued Matrix C1\", dataframe=pd.DataFrame(C1_example))\n",
        "\n",
        "C_example.shape, C1_example.shape"
      ],
      "metadata": {
        "colab": {
          "base_uri": "https://localhost:8080/"
        },
        "id": "O-pSyGaEvw0J",
        "outputId": "45bcc97c-dd44-4e7b-c443-edd8b03fd5b7"
      },
      "execution_count": 14,
      "outputs": [
        {
          "output_type": "execute_result",
          "data": {
            "text/plain": [
              "((16, 16), (32, 32))"
            ]
          },
          "metadata": {},
          "execution_count": 14
        }
      ]
    },
    {
      "cell_type": "code",
      "source": [
        "def construct_C(H_xt, H_bar_t):\n",
        "    \"\"\"\n",
        "    Construct the complex matrix C = H_xt^T ⊗ (H_bar_t H_bar_t^H)\n",
        "\n",
        "    Parameters:\n",
        "    - H_xt: np.ndarray, complex matrix (n x n), corresponds to H_{x,t}\n",
        "    - H_bar_t: np.ndarray, complex matrix (n x m), corresponds to \\bar{H}_t\n",
        "\n",
        "    Returns:\n",
        "    - C: np.ndarray, complex matrix\n",
        "    \"\"\"\n",
        "    # Compute H_bar_t H_bar_t^H\n",
        "    H_bar_H = H_bar_t @ H_bar_t.conj().T\n",
        "\n",
        "    # Compute Kronecker product\n",
        "    C = np.kron(H_xt.T, H_bar_H)\n",
        "    return C\n",
        "\n",
        "# Example dimensions for demonstration\n",
        "n = 4  # assuming H_xt and H_bar_t are square (for simplicity)\n",
        "np.random.seed(1)\n",
        "\n",
        "# Random example complex matrices for H_xt and H_bar_t\n",
        "H_xt_example = np.random.randn(n, n) + 1j * np.random.randn(n, n)\n",
        "H_bar_t_example = np.random.randn(n, n) + 1j * np.random.randn(n, n)\n",
        "\n",
        "# Construct C\n",
        "C_example = construct_C(H_xt_example, H_bar_t_example)\n",
        "\n",
        "# Then construct C1 from C\n",
        "C1_example = construct_C1(C_example)\n",
        "\n",
        "# # Display real-valued C1\n",
        "# import pandas as pd\n",
        "# tools.display_dataframe_to_user(name=\"Real-Valued Matrix C1\", dataframe=pd.DataFrame(C1_example))\n",
        "\n",
        "C_example.shape, C1_example.shape"
      ],
      "metadata": {
        "colab": {
          "base_uri": "https://localhost:8080/"
        },
        "id": "ISv1or5l3XFk",
        "outputId": "3d1be446-32a9-4e30-eefb-7a27327c7cbe"
      },
      "execution_count": 15,
      "outputs": [
        {
          "output_type": "execute_result",
          "data": {
            "text/plain": [
              "((16, 16), (32, 32))"
            ]
          },
          "metadata": {},
          "execution_count": 15
        }
      ]
    },
    {
      "cell_type": "markdown",
      "source": [
        "### Function $\\texttt{construct_C1_from_H1}$ : $$C_1(H_1,a(\\theta_r),a(\\theta_b),\\mathbf{w}_{c,k},\\mathbf{w}_{r,m},\\alpha=1)$$"
      ],
      "metadata": {
        "id": "1374DKjZLJBk"
      }
    },
    {
      "cell_type": "code",
      "source": [
        "def construct_C1_from_H1(H1, a_theta_r, a_theta_b, wc_list, wr_list, alpha=1.0):\n",
        "    \"\"\"\n",
        "    Construct matrix C1 used in radar SNR constraint from H1, steering vectors, and beamformers.\n",
        "\n",
        "    Parameters:\n",
        "    - H1: np.ndarray, BS-to-RIS1 channel matrix (N1 x M)\n",
        "    - a_theta_r: np.ndarray, steering vector from RIS1 to target\n",
        "    - a_theta_b: np.ndarray, steering vector from BS to target\n",
        "    - wc_list: list of np.ndarray, communication beamforming vectors\n",
        "    - wr_list: list of np.ndarray, radar beamforming vectors\n",
        "    - alpha: scalar, target reflection coefficient (default 1)\n",
        "\n",
        "    Returns:\n",
        "    - C1: real-valued matrix (2n x 2n), with n = (N1+1)^2\n",
        "    \"\"\"\n",
        "    # Stack wc and wr into one matrix\n",
        "    W_total = sum([w @ w.conj().T for w in wc_list + wr_list])\n",
        "\n",
        "    # Construct H̄_t\n",
        "    diag_ar = np.diag(a_theta_r.conj())\n",
        "    H_bar_t = np.vstack([diag_ar @ H1, a_theta_b.conj().T])  # (N1+1) x M\n",
        "\n",
        "    # Compute H_{x,t}\n",
        "    Hx_t = alpha**2 * H_bar_t @ W_total @ H_bar_t.conj().T\n",
        "\n",
        "    # Compute C = Hx_t^T ⊗ (H_bar_t H_bar_t^H)\n",
        "    H_bar_H = H_bar_t @ H_bar_t.conj().T\n",
        "    C = np.kron(Hx_t.T, H_bar_H)\n",
        "\n",
        "    # Now build C1\n",
        "    C1 = construct_C1(C)\n",
        "    return C1\n",
        "# Example dimensions\n",
        "M = 3\n",
        "N1 = 3\n",
        "np.random.seed(2)\n",
        "\n",
        "# Random channel and beamformers\n",
        "H1 = np.random.randn(N1, M) + 1j * np.random.randn(N1, M)\n",
        "a_theta_r = np.exp(1j * 2 * np.pi * np.arange(N1) * 0.5 * np.sin(np.pi / 4))\n",
        "a_theta_b = np.exp(1j * 2 * np.pi * np.arange(M) * 0.5 * np.sin(np.pi / 3))\n",
        "wc_list = [np.random.randn(M, 1) + 1j * np.random.randn(M, 1) for _ in range(2)]\n",
        "wr_list = [np.random.randn(M, 1) + 1j * np.random.randn(M, 1) for _ in range(1)]\n",
        "\n",
        "# Compute C1\n",
        "C1_from_H1 = construct_C1_from_H1(H1, a_theta_r, a_theta_b, wc_list, wr_list)\n",
        "\n",
        "# Display result\n",
        "# tools.display_dataframe_to_user(name=\"C1 Constructed from H1\", dataframe=pd.DataFrame(C1_from_H1))\n",
        "\n",
        "C1_from_H1.shape"
      ],
      "metadata": {
        "colab": {
          "base_uri": "https://localhost:8080/"
        },
        "id": "oGNWHJuX0Rzx",
        "outputId": "db4e7144-22aa-4e82-c673-ee373a4657ec"
      },
      "execution_count": 16,
      "outputs": [
        {
          "output_type": "execute_result",
          "data": {
            "text/plain": [
              "(32, 32)"
            ]
          },
          "metadata": {},
          "execution_count": 16
        }
      ]
    },
    {
      "cell_type": "markdown",
      "source": [
        "### Function $\\texttt{construct_f}$ :  $$\\mathbf{f}(\\tilde{q_1},C_1)$$"
      ],
      "metadata": {
        "id": "SsBBDWUoKSaT"
      }
    },
    {
      "cell_type": "code",
      "source": [
        "# Re-import necessary libraries after kernel reset\n",
        "import numpy as np\n",
        "import pandas as pd\n",
        "# import ace_tools as tools\n",
        "\n",
        "# Redefine function to construct f\n",
        "def construct_f(q1_tilde, C1):\n",
        "    \"\"\"\n",
        "    Construct vector f such that f^T = q1_tilde^T @ C1\n",
        "\n",
        "    Parameters:\n",
        "    - q1_tilde: np.ndarray, real-valued vector from previous iteration (shape: (2n,))\n",
        "    - C1: np.ndarray, real-valued matrix (shape: (2n, 2n))\n",
        "\n",
        "    Returns:\n",
        "    - f: np.ndarray, real-valued vector (shape: (2n,))\n",
        "    \"\"\"\n",
        "    f = q1_tilde.T @ C1\n",
        "    return f\n",
        "\n",
        "# Reconstruct example q1 and C1\n",
        "N1 = 3\n",
        "size = (N1 + 1) ** 2\n",
        "np.random.seed(42)\n",
        "q1_tilde_example = np.random.randn(2 * size)\n",
        "C1_example = np.random.randn(2 * size, 2 * size)\n",
        "\n",
        "# Construct f\n",
        "f_vector = construct_f(q1_tilde_example, C1_example)\n",
        "\n",
        "# Display result\n",
        "# tools.display_dataframe_to_user(name=\"Vector f\", dataframe=pd.DataFrame(f_vector))\n",
        "f_vector.shape\n",
        "f_vector\n"
      ],
      "metadata": {
        "colab": {
          "base_uri": "https://localhost:8080/"
        },
        "id": "0jbAXI-Q6Y8R",
        "outputId": "4f89ea7f-125f-4eea-da24-e075d24d39ee"
      },
      "execution_count": 17,
      "outputs": [
        {
          "output_type": "execute_result",
          "data": {
            "text/plain": [
              "array([  9.88759587,   0.50983197,  -1.73470404,  -2.71492935,\n",
              "        -3.25612818,   1.08573627,  -1.33816952,   8.14154934,\n",
              "         0.45188042,  -4.39077634,   1.89744713,  -3.11530594,\n",
              "        -8.08424255,   4.9616022 , -12.19296418,  -2.37701304,\n",
              "        -0.81536686,   1.83837397,  -0.54624647,   0.29876207,\n",
              "        -7.02927367,  -0.92629719,   6.12261092,  -0.0406992 ,\n",
              "        12.94650727,  -1.18073085,  -3.81523173,  -3.14501255,\n",
              "         8.14929964,   3.08542189, -16.52788149,   0.21233567])"
            ]
          },
          "metadata": {},
          "execution_count": 17
        }
      ]
    },
    {
      "cell_type": "markdown",
      "source": [
        "### Function $\\texttt{construct_f_bar_matrix}$ : $$\\prod \\bar{\\mathbf{f}}(\\mathbf{f})$$"
      ],
      "metadata": {
        "id": "sUuvHWAmIchq"
      }
    },
    {
      "cell_type": "code",
      "source": [
        "def construct_f_bar_matrix(f):\n",
        "    \"\"\"\n",
        "    Construct the complex Hermitian matrix from real-valued vector f:\n",
        "    f_bar = f[:n] + 1j * f[n:]\n",
        "    ∏f̄ is the reshaped Hermitian matrix of shape (sqrt(n), sqrt(n))\n",
        "\n",
        "    Parameters:\n",
        "    - f: np.ndarray, real-valued vector of length 2n\n",
        "\n",
        "    Returns:\n",
        "    - f_bar_matrix: np.ndarray, complex Hermitian matrix (sqrt(n) x sqrt(n))\n",
        "    \"\"\"\n",
        "    n2 = len(f)\n",
        "    n = n2 // 2\n",
        "    f_bar = f[:n] + 1j * f[n:]\n",
        "    dim = int(np.sqrt(n))\n",
        "    f_bar_matrix = f_bar.reshape((dim, dim), order='F')\n",
        "    return f_bar_matrix\n",
        "\n",
        "# Create f̄ matrix from the f_vector\n",
        "f_bar_matrix = construct_f_bar_matrix(f_vector)\n",
        "\n",
        "# Display the matrix\n",
        "# tools.display_dataframe_to_user(name=\"Matrix ∏f̄ (f_bar_matrix)\", dataframe=pd.DataFrame(f_bar_matrix))\n",
        "\n",
        "f_bar_matrix.shape\n"
      ],
      "metadata": {
        "id": "s6g8JGu7IhFa",
        "outputId": "18bbf125-045b-45e2-dfee-c24fa3d79c2e",
        "colab": {
          "base_uri": "https://localhost:8080/"
        }
      },
      "execution_count": 18,
      "outputs": [
        {
          "output_type": "execute_result",
          "data": {
            "text/plain": [
              "(4, 4)"
            ]
          },
          "metadata": {},
          "execution_count": 18
        }
      ]
    },
    {
      "cell_type": "markdown",
      "source": [
        "### Function $\\texttt{construct_Omega1}$: $$\\mathbf{\\Omega}_1 (h_{1,k}^H,h_{1,k}^H,h_{b,k}^H,\\mathbf{H}_1,\\mathbf{H}_2,\\mathbf{G},v2)$$"
      ],
      "metadata": {
        "id": "QZWLaaz6J4WN"
      }
    },
    {
      "cell_type": "code",
      "source": [
        "def construct_Omega1(h1k_H, h2k_H, hbk_H, H1, H2, G, v2):\n",
        "    \"\"\"\n",
        "    Constructs Omega1 matrix as defined in the paper.\n",
        "\n",
        "    Parameters:\n",
        "    - h1k_H: np.ndarray, shape (N1,), Hermitian of RIS1-user k channel\n",
        "    - h2k_H: np.ndarray, shape (N2,), Hermitian of RIS2-user k channel\n",
        "    - hbk_H: np.ndarray, shape (M,), Hermitian of BS-user k channel\n",
        "    - H1: np.ndarray, shape (N1, M), BS-to-RIS1 channel\n",
        "    - H2: np.ndarray, shape (N2, M), BS-to-RIS2 channel\n",
        "    - G: np.ndarray, shape (N2, N1), RIS1-to-RIS2 channel\n",
        "    - v2: np.ndarray, shape (N2,), RIS2 phase shift vector\n",
        "\n",
        "    Returns:\n",
        "    - Omega1: np.ndarray, complex matrix stacked vertically\n",
        "    \"\"\"\n",
        "    # Top row: RIS-related terms\n",
        "    diag_h1k = np.diag(h1k_H)\n",
        "    diag_h2k = np.diag(h2k_H)\n",
        "    diag_v2 = np.diag(v2)\n",
        "    top = diag_h1k @ H1 + diag_h2k @ diag_v2 @ G @ H1\n",
        "\n",
        "    # Bottom row: BS direct and RIS2 reflections\n",
        "    bottom = hbk_H + h2k_H @ diag_v2 @ H2\n",
        "\n",
        "    # Stack vertically\n",
        "    Omega1 = np.vstack([top, bottom.reshape(1, -1)])\n",
        "    return Omega1\n",
        "\n",
        "# Example with small dimensions\n",
        "M, N1, N2 = 4, 3, 3\n",
        "np.random.seed(3)\n",
        "\n",
        "h1k_H = np.random.randn(N1) + 1j * np.random.randn(N1)\n",
        "h2k_H = np.random.randn(N2) + 1j * np.random.randn(N2)\n",
        "hbk_H = np.random.randn(M) + 1j * np.random.randn(M)\n",
        "\n",
        "H1 = np.random.randn(N1, M) + 1j * np.random.randn(N1, M)\n",
        "H2 = np.random.randn(N2, M) + 1j * np.random.randn(N2, M)\n",
        "G = np.random.randn(N2, N1) + 1j * np.random.randn(N2, N1)\n",
        "v2 = np.exp(1j * 2 * np.pi * np.random.rand(N2))\n",
        "\n",
        "# Construct Omega1\n",
        "Omega1 = construct_Omega1(h1k_H, h2k_H, hbk_H, H1, H2, G, v2)\n",
        "\n",
        "# Display\n",
        "# tools.display_dataframe_to_user(name=\"Matrix Ω₁\", dataframe=pd.DataFrame(Omega1))\n",
        "\n",
        "print(Omega1.shape)\n",
        "print(Omega1)\n"
      ],
      "metadata": {
        "colab": {
          "base_uri": "https://localhost:8080/"
        },
        "id": "rgqikOuCKJC9",
        "outputId": "1878b8e5-3153-4855-d732-71c061b6435d"
      },
      "execution_count": 19,
      "outputs": [
        {
          "output_type": "stream",
          "name": "stdout",
          "text": [
            "(4, 4)\n",
            "[[-4.79119655+0.06566647j -3.19547802+0.36287461j  3.00392555-5.20747926j\n",
            "  -2.40300893-4.39232112j]\n",
            " [ 1.04557298-5.72027534j -2.56545222-1.63191379j  5.34063111-0.02102157j\n",
            "   6.54458223-1.2345498j ]\n",
            " [ 0.97462982-1.32125457j  0.19509846-1.64306228j  0.4787825 +0.62982503j\n",
            "   0.26571613+0.09142833j]\n",
            " [-0.85624117-1.54984588j -0.84753829-0.04615075j  0.98761512+3.66869853j\n",
            "  -2.4142394 -0.39673537j]]\n"
          ]
        }
      ]
    },
    {
      "cell_type": "code",
      "source": [
        "def construct_f_bar_matrix(f):\n",
        "    \"\"\"\n",
        "    Construct the complex Hermitian matrix from real-valued vector f:\n",
        "    f_bar = f[:n] + 1j * f[n:]\n",
        "    ∏f̄ is the reshaped Hermitian matrix of shape (sqrt(n), sqrt(n))\n",
        "\n",
        "    Parameters:\n",
        "    - f: np.ndarray, real-valued vector of length 2n\n",
        "\n",
        "    Returns:\n",
        "    - f_bar_matrix: np.ndarray, complex Hermitian matrix (sqrt(n) x sqrt(n))\n",
        "    \"\"\"\n",
        "    n2 = len(f)\n",
        "    n = n2 // 2\n",
        "    f_bar = f[:n] + 1j * f[n:]\n",
        "    dim = int(np.sqrt(n))\n",
        "    f_bar_matrix = f_bar.reshape((dim, dim), order='F')\n",
        "    return f_bar_matrix\n",
        "\n",
        "# Create f̄ matrix from the f_vector\n",
        "f_bar_matrix = construct_f_bar_matrix(f_vector)\n",
        "\n",
        "# Display the matrix\n",
        "# tools.display_dataframe_to_user(name=\"Matrix ∏f̄ (f_bar_matrix)\", dataframe=pd.DataFrame(f_bar_matrix))\n",
        "\n",
        "f_bar_matrix.shape\n",
        "f_bar_matrix\n"
      ],
      "metadata": {
        "colab": {
          "base_uri": "https://localhost:8080/"
        },
        "id": "OsH0ilQe65q2",
        "outputId": "e802be07-9e6d-4a64-9252-7db1551e9af1"
      },
      "execution_count": 20,
      "outputs": [
        {
          "output_type": "execute_result",
          "data": {
            "text/plain": [
              "array([[  9.88759587 -0.81536686j,  -3.25612818 -7.02927367j,\n",
              "          0.45188042+12.94650727j,  -8.08424255 +8.14929964j],\n",
              "       [  0.50983197 +1.83837397j,   1.08573627 -0.92629719j,\n",
              "         -4.39077634 -1.18073085j,   4.9616022  +3.08542189j],\n",
              "       [ -1.73470404 -0.54624647j,  -1.33816952 +6.12261092j,\n",
              "          1.89744713 -3.81523173j, -12.19296418-16.52788149j],\n",
              "       [ -2.71492935 +0.29876207j,   8.14154934 -0.0406992j ,\n",
              "         -3.11530594 -3.14501255j,  -2.37701304 +0.21233567j]])"
            ]
          },
          "metadata": {},
          "execution_count": 20
        }
      ]
    },
    {
      "cell_type": "markdown",
      "source": [
        "### Function $\\texttt{construct_E_r1}$:$$\\mathbf{E}_{r,1}(\\mathbf{\\Omega}_1,\\mathbf{w}_{r,m})$$\n",
        "\n",
        "\n",
        "Computes the matrix $\\mathbf{E}_{r,1}$ used in the downlink SINR constraint for user $k$, representing radar interference contribution.\n",
        "\n",
        "#### Mathematical Expression:\n",
        "$$\n",
        "\\mathbf{E}_{r,1} = \\boldsymbol{\\Omega}_1\n",
        "\\left( \\sum_{m \\in \\mathcal{M}} \\mathbf{w}_{r,m} \\mathbf{w}_{r,m}^H \\right)\n",
        "\\boldsymbol{\\Omega}_1^H\n",
        "$$\n",
        "\n",
        "#### Parameters:\n",
        "- $\\boldsymbol{\\Omega}_1 \\in \\mathbb{C}^{(N_1 + 1) \\times M}$  \n",
        "  Composite channel matrix representing the effective propagation path from BS, RIS1, and RIS2 to user $k$.\n",
        "  \n",
        "- $\\mathbf{w}_{r,m} \\in \\mathbb{C}^{M \\times 1}$  \n",
        "  Radar beamforming vector for the $m$-th radar stream.\n",
        "\n",
        "- $\\texttt{wr_list}$  \n",
        "  A list of radar beamformers $\\mathbf{w}_{r,m}$ for all $m \\in \\mathcal{M}$.\n",
        "\n",
        "#### Output:\n",
        "- $\\mathbf{E}_{r,1} \\in \\mathbb{C}^{(N_1 + 1) \\times (N_1 + 1)}$  \n",
        "  Hermitian matrix used in the SINR constraint for communication user $k$ to capture radar interference."
      ],
      "metadata": {
        "id": "G-4FBefUcJ5X"
      }
    },
    {
      "cell_type": "code",
      "source": [
        "# Re-import libraries due to kernel reset\n",
        "import numpy as np\n",
        "import pandas as pd\n",
        "# import ace_tools as tools\n",
        "\n",
        "# Redefine function to construct E_r,1\n",
        "def construct_E_r1(Omega1, wr_list):\n",
        "    W_r = sum([w @ w.conj().T for w in wr_list])\n",
        "    E_r1 = Omega1 @ W_r @ Omega1.conj().T\n",
        "    return E_r1\n",
        "\n",
        "# Recreate example dimensions and inputs\n",
        "M, N1 = 4, 3\n",
        "np.random.seed(3)\n",
        "\n",
        "# Random channel components\n",
        "h1k_H = np.random.randn(N1) + 1j * np.random.randn(N1)\n",
        "h2k_H = np.random.randn(N1) + 1j * np.random.randn(N1)\n",
        "hbk_H = np.random.randn(M) + 1j * np.random.randn(M)\n",
        "H1 = np.random.randn(N1, M) + 1j * np.random.randn(N1, M)\n",
        "H2 = np.random.randn(N1, M) + 1j * np.random.randn(N1, M)\n",
        "G = np.random.randn(N1, N1) + 1j * np.random.randn(N1, N1)\n",
        "v2 = np.exp(1j * 2 * np.pi * np.random.rand(N1))\n",
        "\n",
        "# Construct Omega1\n",
        "def construct_Omega1(h1k_H, h2k_H, hbk_H, H1, H2, G, v2):\n",
        "    diag_h1k = np.diag(h1k_H)\n",
        "    diag_h2k = np.diag(h2k_H)\n",
        "    diag_v2 = np.diag(v2)\n",
        "    top = diag_h1k @ H1 + diag_h2k @ diag_v2 @ G @ H1\n",
        "    bottom = hbk_H + h2k_H @ diag_v2 @ H2\n",
        "    return np.vstack([top, bottom.reshape(1, -1)])\n",
        "\n",
        "Omega1 = construct_Omega1(h1k_H, h2k_H, hbk_H, H1, H2, G, v2)\n",
        "\n",
        "# Radar beamformers\n",
        "wr_list_example = [np.random.randn(M, 1) + 1j * np.random.randn(M, 1) for _ in range(2)]\n",
        "\n",
        "# Construct E_r,1\n",
        "E_r1_matrix = construct_E_r1(Omega1, wr_list_example)\n",
        "\n",
        "# Display result\n",
        "# tools.display_dataframe_to_user(name=\"Matrix E_r,1\", dataframe=pd.DataFrame(E_r1_matrix))\n",
        "E_r1_matrix.shape\n",
        "\n",
        "E_r1_matrix\n"
      ],
      "metadata": {
        "colab": {
          "base_uri": "https://localhost:8080/"
        },
        "id": "m76NwVIZbihE",
        "outputId": "a7db62ec-b1f9-48db-895e-e18cbcd581ab"
      },
      "execution_count": 21,
      "outputs": [
        {
          "output_type": "execute_result",
          "data": {
            "text/plain": [
              "array([[613.18487329+2.84217094e-14j, 204.21997571-5.24670571e+02j,\n",
              "        -95.38741219-1.05709926e+02j, -68.40191099-2.15991191e+02j],\n",
              "       [204.21997571+5.24670571e+02j, 523.06868042+5.68434189e-14j,\n",
              "         57.09510563-1.17433820e+02j, 155.87465945-1.27198367e+02j],\n",
              "       [-95.38741219+1.05709926e+02j,  57.09510563+1.17433820e+02j,\n",
              "         33.53445501+1.11022302e-16j,  49.14767679+2.03481229e+01j],\n",
              "       [-68.40191099+2.15991191e+02j, 155.87465945+1.27198367e+02j,\n",
              "         49.14767679-2.03481229e+01j,  91.64746301-1.42108547e-14j]])"
            ]
          },
          "metadata": {},
          "execution_count": 21
        }
      ]
    },
    {
      "cell_type": "markdown",
      "source": [
        "### Function $\\texttt{construct_E_i1}$:  $$\\mathbf{E}_{i,1}(\\boldsymbol{\\Omega}_1,\\mathbf{w}_{c,i})$$\n",
        "\n",
        "Computes the interference matrix $\\mathbf{E}_{i,1}$ for user $k$, representing the multi-user interference from other communication users ($i \\ne k$) in the SINR constraint.\n",
        "\n",
        "#### Mathematical Expression:\n",
        "$$\n",
        "\\mathbf{E}_{i,1} = \\boldsymbol{\\Omega}_1\n",
        "\\left( \\sum_{\\substack{i \\ne k \\\\ i \\in \\mathcal{K}}}\n",
        "\\mathbf{w}_{c,i} \\mathbf{w}_{c,i}^H \\right)\n",
        "\\boldsymbol{\\Omega}_1^H\n",
        "$$\n",
        "\n",
        "#### Parameters:\n",
        "- $\\boldsymbol{\\Omega}_1 \\in \\mathbb{C}^{(N_1 + 1) \\times M}$  \n",
        "  Composite effective channel matrix for user $k$.\n",
        "\n",
        "- $\\mathbf{w}_{c,i} \\in \\mathbb{C}^{M \\times 1}$  \n",
        "  Communication beamforming vector for user $i$.\n",
        "\n",
        "- $\\texttt{wc\\_list}$  \n",
        "  Python list containing all $\\mathbf{w}_{c,i}$ vectors for users $i \\in \\mathcal{K}$.\n",
        "\n",
        "- $\\texttt{exclude\\_index}$  \n",
        "  Index of user $k$ to be excluded from the summation.\n",
        "\n",
        "#### Returns:\n",
        "- $\\mathbf{E}_{i,1} \\in \\mathbb{C}^{(N_1 + 1) \\times (N_1 + 1)}$  \n",
        "  Hermitian matrix representing the total interference received by user $k$ from other users.\n"
      ],
      "metadata": {
        "id": "kJzSB_n3e7xu"
      }
    },
    {
      "cell_type": "code",
      "source": [
        "def construct_E_i1(Omega1, wc_list, exclude_index=None):\n",
        "    \"\"\"\n",
        "    Constructs the matrix E_{i,1} used in the downlink SINR constraint\n",
        "    representing interference from other communication users (i ≠ k).\n",
        "\n",
        "    Parameters:\n",
        "    - Omega1: np.ndarray, complex matrix Ω₁ of shape ((N1+1), M)\n",
        "    - wc_list: list of np.ndarray, each beamforming vector w_{c,i} ∈ ℂ^{M×1}\n",
        "    - exclude_index: int or None, index of user k to be excluded from the summation\n",
        "\n",
        "    Returns:\n",
        "    - E_i1: np.ndarray, complex Hermitian matrix (N1+1) × (N1+1)\n",
        "    \"\"\"\n",
        "    # Sum all w_c,i w_c,i^H where i ≠ k\n",
        "    W_c = sum([w @ w.conj().T for idx, w in enumerate(wc_list) if idx != exclude_index])\n",
        "    E_i1 = Omega1 @ W_c @ Omega1.conj().T\n",
        "    return E_i1\n",
        "\n",
        "# Example values\n",
        "M = 4\n",
        "wc_list_example = [np.random.randn(M, 1) + 1j * np.random.randn(M, 1) for _ in range(3)]\n",
        "\n",
        "# Use previously defined Omega1\n",
        "E_i1_matrix = construct_E_i1(Omega1, wc_list_example, exclude_index=1)\n",
        "\n",
        "# Display result\n",
        "# tools.display_dataframe_to_user(name=\"Matrix E_{i,1}\", dataframe=pd.DataFrame(E_i1_matrix))\n",
        "print(E_i1_matrix.shape)\n",
        "print(E_i1_matrix)\n"
      ],
      "metadata": {
        "colab": {
          "base_uri": "https://localhost:8080/"
        },
        "id": "s011PyCTemKb",
        "outputId": "6e74ddd7-fa03-4fba-8a34-027130028f30"
      },
      "execution_count": 22,
      "outputs": [
        {
          "output_type": "stream",
          "name": "stdout",
          "text": [
            "(4, 4)\n",
            "[[140.9293793 +2.84217094e-14j -22.52684391-5.70027976e+01j\n",
            "  -17.75046698-3.14259522e+01j  37.46182839-9.61767628e+01j]\n",
            " [-22.52684391+5.70027976e+01j  64.26449116+6.21724894e-15j\n",
            "   10.41196127-9.38534705e+00j  23.7390766 +2.99664127e+01j]\n",
            " [-17.75046698+3.14259522e+01j  10.41196127+9.38534705e+00j\n",
            "   11.3345299 +8.88178420e-16j  18.08866385+1.87803106e+01j]\n",
            " [ 37.46182839+9.61767628e+01j  23.7390766 -2.99664127e+01j\n",
            "   18.08866385-1.87803106e+01j  77.83993621+7.10542736e-15j]]\n"
          ]
        }
      ]
    },
    {
      "cell_type": "markdown",
      "source": [
        "### Function $\\texttt{construct_E_k1}$: $$\\mathbf{E}_{k,1}(\\boldsymbol{\\Omega}_1,\\mathbf{w}_{c,k})$$\n",
        "\n",
        "Computes the signal power matrix $\\mathbf{E}_{k,1}$ for communication user $k$, used in the SINR constraint.\n",
        "\n",
        "#### Mathematical Expression:\n",
        "$$\n",
        "\\mathbf{E}_{k,1} = \\boldsymbol{\\Omega}_1 \\, \\mathbf{w}_{c,k} \\mathbf{w}_{c,k}^H \\, \\boldsymbol{\\Omega}_1^H\n",
        "$$\n",
        "\n",
        "#### Parameters:\n",
        "- $\\boldsymbol{\\Omega}_1 \\in \\mathbb{C}^{(N_1 + 1) \\times M}$  \n",
        "  Composite channel matrix for user $k$, including direct BS-user link and RIS reflections.\n",
        "\n",
        "- $\\mathbf{w}_{c,k} \\in \\mathbb{C}^{M \\times 1}$  \n",
        "  Beamforming vector assigned to communication user $k$.\n",
        "\n",
        "- $\\texttt{wc\\_k}$  \n",
        "  Python input corresponding to $\\mathbf{w}_{c,k}$.\n",
        "\n",
        "#### Returns:\n",
        "- $\\mathbf{E}_{k,1} \\in \\mathbb{C}^{(N_1 + 1) \\times (N_1 + 1)}$  \n",
        "  Hermitian matrix representing the desired signal power for user $k$."
      ],
      "metadata": {
        "id": "waS47H-egCRp"
      }
    },
    {
      "cell_type": "code",
      "source": [
        "def construct_E_k1(Omega1, wc_k):\n",
        "    \"\"\"\n",
        "    Constructs the matrix E_{k,1} for the desired signal power of user k.\n",
        "\n",
        "    Parameters:\n",
        "    - Omega1: np.ndarray, complex matrix Ω₁ of shape ((N1+1), M)\n",
        "    - wc_k: np.ndarray, beamforming vector for user k, shape (M, 1)\n",
        "\n",
        "    Returns:\n",
        "    - E_k1: np.ndarray, complex Hermitian matrix (N1+1) × (N1+1)\n",
        "    \"\"\"\n",
        "    E_k1 = Omega1 @ (wc_k @ wc_k.conj().T) @ Omega1.conj().T\n",
        "    return E_k1\n",
        "\n",
        "# Example beamforming vector for user k\n",
        "wc_k_example = wc_list_example[1]  # same index used as exclude_index earlier\n",
        "\n",
        "# Construct E_{k,1}\n",
        "E_k1_matrix = construct_E_k1(Omega1, wc_k_example)\n",
        "\n",
        "# Display\n",
        "# tools.display_dataframe_to_user(name=\"Matrix E_{k,1}\", dataframe=pd.DataFrame(E_k1_matrix))\n",
        "print(E_k1_matrix.shape)\n",
        "print(E_k1_matrix)\n"
      ],
      "metadata": {
        "colab": {
          "base_uri": "https://localhost:8080/"
        },
        "id": "usJO-C-Gf2hB",
        "outputId": "3dc19762-95cf-4dc9-f08d-994f5dd5ea48"
      },
      "execution_count": 23,
      "outputs": [
        {
          "output_type": "stream",
          "name": "stdout",
          "text": [
            "(4, 4)\n",
            "[[ 2.53098646e+01+3.10862447e-15j  8.27990549e+00+2.10837219e+01j\n",
            "   1.17573919e+01-1.81833780e+00j -2.68749467e+00-1.76350778e+01j]\n",
            " [ 8.27990549e+00-2.10837219e+01j  2.02719443e+01-4.44089210e-16j\n",
            "   2.33161125e+00-1.03890420e+01j -1.55696320e+01-3.53041742e+00j]\n",
            " [ 1.17573919e+01+1.81833780e+00j  2.33161125e+00+1.03890420e+01j\n",
            "   5.59238931e+00+7.77156117e-16j  1.85145395e-02-8.38524017e+00j]\n",
            " [-2.68749467e+00+1.76350778e+01j -1.55696320e+01+3.53041742e+00j\n",
            "   1.85145395e-02+8.38524017e+00j  1.25729079e+01+1.77635684e-15j]]\n"
          ]
        }
      ]
    },
    {
      "cell_type": "markdown",
      "source": [
        "### Function $\\texttt{solve_phase_shift_sdr}$ : $$\\textbf{Find}\\mathbf{v}_1(C_1,\\mathbf{f},\\mathbf{E}_{r,1},,\\mathbf{E}_{i,1},\\mathbf{E}_{k,1},\\sigma_k^2,\\Gamma_k,N_1)$$"
      ],
      "metadata": {
        "id": "UrW6Nh-mF5QK"
      }
    },
    {
      "cell_type": "code",
      "source": [
        "import cvxpy as cp\n",
        "\n",
        "def solve_phase_shift_sdr(C1, f_matrix, E_r1, E_i1, E_k1, sigma_k2, Gamma_k, N1):\n",
        "    \"\"\"\n",
        "    Solves the SDR-based optimization problem for U1 given the convexified constraints.\n",
        "\n",
        "    Parameters:\n",
        "    - C1: np.ndarray, real-valued matrix used in q1^T C1 q1 approximation (shape 2n x 2n)\n",
        "    - f_matrix: np.ndarray, Hermitian matrix from reshaped f_bar (shape (N1+1 x N1+1))\n",
        "    - E_r1, E_i1, E_k1: np.ndarray, Hermitian matrices (N1+1 x N1+1)\n",
        "    - sigma_k2: float, noise power at user k\n",
        "    - Gamma_k: float, SINR rate threshold\n",
        "    - N1: int, number of RIS1 elements\n",
        "\n",
        "    Returns:\n",
        "    - U1_opt: np.ndarray, optimal semidefinite matrix (N1+1 x N1+1)\n",
        "    \"\"\"\n",
        "    n = (N1 + 1)\n",
        "    U1 = cp.Variable((n, n), hermitian=True)\n",
        "\n",
        "    # Constraint (27): radar SNR lower bound\n",
        "    lhs_snrradar = 2 * cp.real(cp.trace(f_matrix @ U1))\n",
        "    rhs_snrradar = cp.Parameter(nonneg=True, value=1.0)  # placeholder for Υ_R * σ_R^2\n",
        "    snr_constraint = lhs_snrradar >= rhs_snrradar\n",
        "\n",
        "    # Constraint (30): downlink rate constraint (convexified)\n",
        "    lhs_sinr = (2**Gamma_k - 1) * (cp.trace((E_r1 + E_i1) @ U1) + sigma_k2)\n",
        "    rhs_sinr = cp.trace(E_k1 @ U1)\n",
        "    sinr_constraint = lhs_sinr <= rhs_sinr\n",
        "\n",
        "    # Constraint (31): relaxed unit-modulus: |U1(j,j)| <= 1\n",
        "    diag_constraints = [U1[j, j] <= 1 for j in range(N1)]\n",
        "\n",
        "    # PSD constraint\n",
        "    psd_constraint = [U1 >> 0]\n",
        "\n",
        "    constraints = [snr_constraint, sinr_constraint] + diag_constraints + psd_constraint\n",
        "\n",
        "    # Objective (dummy, since no explicit minimization in Phase Shift SDR)\n",
        "    objective = cp.Maximize(0)\n",
        "\n",
        "    prob = cp.Problem(objective, constraints)\n",
        "    prob.solve(solver=cp.SCS)\n",
        "\n",
        "    return U1.value if U1.value is not None else None\n"
      ],
      "metadata": {
        "id": "xF986pPREgpi"
      },
      "execution_count": 24,
      "outputs": []
    },
    {
      "cell_type": "code",
      "source": [
        "\n",
        "def solve_power_minimization(w_c_tilde, w_r_tilde, H_R, alpha, Upsilon_R, sigma_R2, B, Gamma_k, sigma_k2):\n",
        "    \"\"\"\n",
        "    Menyusun dan menyelesaikan problem optimasi daya transmit minimum\n",
        "    untuk ISAC dengan first-order approximation.\n",
        "\n",
        "    Parameters:\n",
        "    - w_c_tilde: list of np.ndarray, inisialisasi beamformer komunikasi\n",
        "    - w_r_tilde: list of np.ndarray, inisialisasi beamformer radar\n",
        "    - H_R: channel matrix radar (numpy array)\n",
        "    - alpha: refleksi target (kompleks)\n",
        "    - Upsilon_R: threshold radar SNR\n",
        "    - sigma_R2: noise radar\n",
        "    - B: channel matrix untuk komunikasi\n",
        "    - Gamma_k: threshold SINR user\n",
        "    - sigma_k2: noise komunikasi\n",
        "\n",
        "    Returns:\n",
        "    - problem.value: nilai daya total minimum\n",
        "    - w_c_opt: list of optimal communication beamformers\n",
        "    - w_r_opt: list of optimal radar beamformers\n",
        "    \"\"\"\n",
        "\n",
        "    import cvxpy as cp\n",
        "\n",
        "    K = len(w_c_tilde)\n",
        "    M = len(w_r_tilde)\n",
        "\n",
        "    # Buat variabel optimisasi\n",
        "    w_c = [cp.Variable((M, 1), complex=True) for _ in range(K)]\n",
        "    w_r = [cp.Variable((M, 1), complex=True) for _ in range(M)]\n",
        "\n",
        "    # Objective function\n",
        "    objective = cp.Minimize(\n",
        "        sum(cp.sum_squares(cp.norm(w_c[k], 2)) for k in range(K)) +\n",
        "        sum(cp.sum_squares(cp.norm(w_r[m], 2)) for m in range(M))\n",
        "    )\n",
        "\n",
        "    # Bangun constraint\n",
        "    constraints = []\n",
        "    constraints.append(radar_snr_constraint(w_c, w_r, w_c_tilde, w_r_tilde, H_R, alpha, Upsilon_R, sigma_R2))\n",
        "    constraints += comm_sinr_constraints(w_c, w_r, w_c_tilde, B, Gamma_k, sigma_k2)\n",
        "\n",
        "    # Solve problem\n",
        "    problem = cp.Problem(objective, constraints)\n",
        "    problem.solve()\n",
        "\n",
        "    # Ambil hasil\n",
        "    w_c_opt = [w.value for w in w_c]\n",
        "    w_r_opt = [w.value for w in w_r]\n",
        "\n",
        "    return problem.value, w_c_opt, w_r_opt"
      ],
      "metadata": {
        "id": "5UzTxTPmITt6"
      },
      "execution_count": 25,
      "outputs": []
    },
    {
      "cell_type": "code",
      "source": [
        "from IPython.display import clear_output\n",
        "\n",
        "def transform_subproblem(wc, wr, v1, v2):\n",
        "    \"\"\" Transform subproblem (18) into (32) \"\"\"\n",
        "    # Placeholder for transformation step\n",
        "    U1 = np.random.rand(len(v1), len(v1))\n",
        "    return U1\n",
        "\n",
        "def solve_sdr(U1):\n",
        "    \"\"\" Solve SDR for given matrix U1 \"\"\"\n",
        "    n = U1.shape[0]\n",
        "    u1 = cp.Variable((n, n), complex=True)\n",
        "    constraints = [u1 >> 0, cp.trace(u1) == 1]\n",
        "    prob = cp.Problem(cp.Minimize(cp.real(cp.trace(U1 @ u1))), constraints)\n",
        "    prob.solve()\n",
        "    return u1.value\n",
        "\n",
        "def gaussian_randomization(U1):\n",
        "    \"\"\" Obtain phase shifts v1 from U1 using Gaussian randomization \"\"\"\n",
        "    eig_vals, eig_vecs = np.linalg.eig(U1)\n",
        "    max_eig_vec = eig_vecs[:, np.argmax(eig_vals)]\n",
        "    v1 = np.exp(1j * np.angle(max_eig_vec))\n",
        "    return v1\n",
        "\n",
        "K = 3  # Number of users\n",
        "M = 8  # Number of antennas at BS\n",
        "N1, N2 = 10, 10  # Number of elements in RIS1 and RIS2\n",
        "epsilon = 1e-3  # Convergence threshold 0.01\n",
        "\n",
        "\n",
        "wc, wr, v1, v2 = initialize_parameters(K, M, N1, N2)\n",
        "Pb_nu = total_transmit_power(wc, wr)\n",
        "nu = 0 # nu in greek\n",
        "\n",
        "\n",
        "# Inisialisasi array untuk menyimpan data\n",
        "nu_list = []\n",
        "Pb_nu_plus1_list = []\n",
        "\n",
        "while True:\n",
        "    wc, wr = update_beamformers(wc, wr, v1, v2)\n",
        "    # U1 = transform_subproblem(wc, wr, v1, v2)\n",
        "    # U1_solved = solve_sdr(U1)\n",
        "    # v1 = gaussian_randomization(U1_solved)\n",
        "    Pb_nu_plus1 = total_transmit_power(wc, wr)\n",
        "\n",
        "    if abs(Pb_nu_plus1 - Pb_nu) < epsilon:\n",
        "        break\n",
        "\n",
        "\n",
        "\n",
        "    Pb_nu = Pb_nu_plus1\n",
        "    nu += 1\n",
        "\n",
        "    # Visualize Data\n",
        "    nu_list.append(nu)\n",
        "    Pb_nu_plus1_list.append(Pb_nu_plus1)  # Contoh data eksponensial menurun dengan noise\n",
        "\n",
        "    # Bersihkan output sebelumnya\n",
        "    clear_output(wait=True)\n",
        "\n",
        "    # Buat plot\n",
        "    plt.figure(figsize=(10, 5))\n",
        "    plt.plot(nu_list, Pb_nu_plus1_list, marker='o')\n",
        "    plt.title('Transmit Power per Iterasi')\n",
        "    plt.xlabel('Iterasi')\n",
        "    plt.ylabel('Transmit Power (arbitrary unit)')\n",
        "    plt.grid(True)\n",
        "    plt.tight_layout()\n",
        "    plt.show()\n",
        "\n",
        "    print(f\"Nu {nu}: Transmit Power = {Pb_nu_plus1}\")"
      ],
      "metadata": {
        "id": "XWovYG7f3hPF",
        "colab": {
          "base_uri": "https://localhost:8080/",
          "height": 525
        },
        "outputId": "b13f78ea-615a-4cac-dc9a-67fd885db69e"
      },
      "execution_count": 26,
      "outputs": [
        {
          "output_type": "display_data",
          "data": {
            "text/plain": [
              "<Figure size 1000x500 with 1 Axes>"
            ],
            "image/png": "[encoded data removed]"
          },
          "metadata": {}
        },
        {
          "output_type": "stream",
          "name": "stdout",
          "text": [
            "Nu 14: Transmit Power = 0.0010155288943949252\n"
          ]
        }
      ]
    },
    {
      "cell_type": "markdown",
      "source": [
        "## Generate Figure Transmit Power vs N"
      ],
      "metadata": {
        "id": "XGWymPYeHCG8"
      }
    },
    {
      "cell_type": "code",
      "source": [
        "from IPython.display import clear_output\n",
        "import time\n",
        "N_list = [10,20,30,40]\n",
        "convergence_power_list=[]\n",
        "\n",
        "convergence_power_temp_count = 10\n",
        "\n",
        "for N_dat in N_list:\n",
        "  K = 3  # Number of users\n",
        "  M = 8  # Number of antennas at BS\n",
        "  N1, N2 = N_dat, N_dat  # Number of elements in RIS1 and RIS2\n",
        "  epsilon = 1e-3  # Convergence threshold 0.01\n",
        "\n",
        "\n",
        "  wc, wr, v1, v2 = initialize_parameters(K, M, N1, N2)\n",
        "  Pb_nu = total_transmit_power(wc, wr)\n",
        "  nu = 0 # nu in greek\n",
        "\n",
        "\n",
        "  # Inisialisasi array untuk menyimpan data\n",
        "  nu_list = []\n",
        "  Pb_nu_plus1_list = []\n",
        "  while True:\n",
        "      wc, wr = update_beamformers(wc, wr, v1, v2)\n",
        "      # U1 = transform_subproblem(wc, wr, v1, v2)\n",
        "      # U1_solved = solve_sdr(U1)\n",
        "      # v1 = gaussian_randomization(U1_solved)\n",
        "      Pb_nu_plus1 = total_transmit_power(wc, wr)\n",
        "\n",
        "      if abs(Pb_nu_plus1 - Pb_nu) < epsilon:\n",
        "        convergence_power_list.append(Pb_nu_plus1)\n",
        "        break\n",
        "\n",
        "\n",
        "\n",
        "      Pb_nu = Pb_nu_plus1\n",
        "      nu += 1\n",
        "\n",
        "      # Visualize Data\n",
        "      nu_list.append(nu)\n",
        "      Pb_nu_plus1_list.append(Pb_nu_plus1)  # Contoh data eksponensial menurun dengan noise\n",
        "\n",
        "      # Bersihkan output sebelumnya\n",
        "      clear_output(wait=True)\n",
        "\n",
        "      # Buat plot\n",
        "      plt.figure(figsize=(10, 5))\n",
        "      plt.plot(nu_list, Pb_nu_plus1_list, marker='o')\n",
        "      plt.title('Transmit Power per Iterasi')\n",
        "      plt.xlabel('Iterasi')\n",
        "      plt.ylabel('Transmit Power (arbitrary unit)')\n",
        "      plt.grid(True)\n",
        "      plt.tight_layout()\n",
        "      plt.show()\n",
        "\n",
        "      print(f\"Nu {nu}: Transmit Power = {Pb_nu_plus1}\")\n",
        "\n",
        "# Bersihkan output sebelumnya\n",
        "clear_output(wait=True)\n",
        "# Buat plot\n",
        "plt.figure(figsize=(10, 5))\n",
        "plt.plot(N_list, convergence_power_list, marker='o')\n",
        "plt.title('Transmit Power per Iterasi')\n",
        "plt.xlabel('N')\n",
        "plt.ylabel('Transmit Power (arbitrary unit)')\n",
        "plt.grid(True)\n",
        "plt.tight_layout()\n",
        "plt.show()"
      ],
      "metadata": {
        "id": "YrG_Tl0XJZkP",
        "colab": {
          "base_uri": "https://localhost:8080/",
          "height": 507
        },
        "outputId": "174e7ea0-9b8f-4e2f-f73c-36462e92df6f"
      },
      "execution_count": 27,
      "outputs": [
        {
          "output_type": "display_data",
          "data": {
            "text/plain": [
              "<Figure size 1000x500 with 1 Axes>"
            ],
            "image/png": "[encoded data removed]"
          },
          "metadata": {}
        }
      ]
    },
    {
      "cell_type": "markdown",
      "source": [
        "With Loop Convergence Power"
      ],
      "metadata": {
        "id": "HlYfcXenJUYQ"
      }
    },
    {
      "cell_type": "code",
      "source": [
        "from IPython.display import clear_output\n",
        "N_list = [10,20,30,40]\n",
        "convergence_power_list=[]\n",
        "\n",
        "convergence_power_temp_count = 50\n",
        "\n",
        "for N_dat in N_list:\n",
        "  K = 3  # Number of users\n",
        "  M = 8  # Number of antennas at BS\n",
        "  N1, N2 = N_dat, N_dat  # Number of elements in RIS1 and RIS2\n",
        "  epsilon = 1e-3  # Convergence threshold 0.01\n",
        "\n",
        "\n",
        "  wc, wr, v1, v2 = initialize_parameters(K, M, N1, N2)\n",
        "  Pb_nu = total_transmit_power(wc, wr)\n",
        "  nu = 0 # nu in greek\n",
        "\n",
        "\n",
        "  # Inisialisasi array untuk menyimpan data\n",
        "  nu_list = []\n",
        "  Pb_nu_plus1_list = []\n",
        "\n",
        "  convergence_power_temp_list = []\n",
        "\n",
        "  for convergence_power_temp_index in range(convergence_power_temp_count):\n",
        "    while True:\n",
        "        wc, wr = update_beamformers(wc, wr, v1, v2)\n",
        "        # U1 = transform_subproblem(wc, wr, v1, v2)\n",
        "        # U1_solved = solve_sdr(U1)\n",
        "        # v1 = gaussian_randomization(U1_solved)\n",
        "        Pb_nu_plus1 = total_transmit_power(wc, wr)\n",
        "\n",
        "        if abs(Pb_nu_plus1 - Pb_nu) < epsilon:\n",
        "          print(f\"Index Temp {convergence_power_temp_index}: Transmit Power = {Pb_nu_plus1}\")\n",
        "          convergence_power_temp_list.append(Pb_nu_plus1)\n",
        "          break\n",
        "\n",
        "\n",
        "\n",
        "        Pb_nu = Pb_nu_plus1\n",
        "        nu += 1\n",
        "\n",
        "        # # Visualize Data\n",
        "        # nu_list.append(nu)\n",
        "        # Pb_nu_plus1_list.append(Pb_nu_plus1)  # Contoh data eksponensial menurun dengan noise\n",
        "\n",
        "        # # Bersihkan output sebelumnya\n",
        "        # clear_output(wait=True)\n",
        "\n",
        "        # # Buat plot\n",
        "        # plt.figure(figsize=(10, 5))\n",
        "        # plt.plot(nu_list, Pb_nu_plus1_list, marker='o')\n",
        "        # plt.title('Transmit Power per Iterasi')\n",
        "        # plt.xlabel('Iterasi')\n",
        "        # plt.ylabel('Transmit Power (arbitrary unit)')\n",
        "        # plt.grid(True)\n",
        "        # plt.tight_layout()\n",
        "        # plt.show()\n",
        "        # time.sleep(0.2)\n",
        "        # print(f\"Nu {nu}: Transmit Power = {Pb_nu_plus1}\")\n",
        "  convergence_power_list.append(np.mean(convergence_power_temp_list))\n",
        "\n",
        "# Bersihkan output sebelumnya\n",
        "clear_output(wait=True)\n",
        "# Buat plot\n",
        "plt.figure(figsize=(10, 5))\n",
        "plt.plot(N_list, convergence_power_list, marker='o')\n",
        "plt.title('Transmit Power per Iterasi')\n",
        "plt.xlabel('N')\n",
        "plt.ylabel('Transmit Power (arbitrary unit)')\n",
        "plt.grid(True)\n",
        "plt.tight_layout()\n",
        "plt.show()"
      ],
      "metadata": {
        "id": "EMzCNAFvGD_Z",
        "colab": {
          "base_uri": "https://localhost:8080/",
          "height": 507
        },
        "outputId": "6548e4d9-c6c0-4a24-eb35-fe12e0c07d54"
      },
      "execution_count": 28,
      "outputs": [
        {
          "output_type": "display_data",
          "data": {
            "text/plain": [
              "<Figure size 1000x500 with 1 Axes>"
            ],
            "image/png": "[encoded data removed]"
          },
          "metadata": {}
        }
      ]
    }
  ]
}