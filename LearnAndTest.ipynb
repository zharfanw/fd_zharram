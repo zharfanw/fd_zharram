{
 "cells": [
  {
   "cell_type": "code",
   "execution_count": 1,
   "id": "192ab8b9-8b4e-4165-b00d-9106419e3e4a",
   "metadata": {},
   "outputs": [
    {
     "name": "stdout",
     "output_type": "stream",
     "text": [
      "Defaulting to user installation because normal site-packages is not writeable\n",
      "Requirement already satisfied: cvxpy in c:\\users\\dell 7540\\appdata\\roaming\\python\\python311\\site-packages (1.6.3)\n",
      "Requirement already satisfied: osqp>=0.6.2 in c:\\users\\dell 7540\\appdata\\roaming\\python\\python311\\site-packages (from cvxpy) (0.6.7.post3)\n",
      "Requirement already satisfied: clarabel>=0.5.0 in c:\\users\\dell 7540\\appdata\\roaming\\python\\python311\\site-packages (from cvxpy) (0.10.0)\n",
      "Requirement already satisfied: scs>=3.2.4.post1 in c:\\users\\dell 7540\\appdata\\roaming\\python\\python311\\site-packages (from cvxpy) (3.2.7.post2)\n",
      "Requirement already satisfied: numpy>=1.21.6 in c:\\programdata\\anaconda3\\lib\\site-packages (from cvxpy) (1.26.4)\n",
      "Requirement already satisfied: scipy>=1.11.0 in c:\\programdata\\anaconda3\\lib\\site-packages (from cvxpy) (1.11.4)\n",
      "Requirement already satisfied: qdldl in c:\\users\\dell 7540\\appdata\\roaming\\python\\python311\\site-packages (from osqp>=0.6.2->cvxpy) (0.1.7.post5)\n"
     ]
    }
   ],
   "source": [
    "!pip install cvxpy"
   ]
  },
  {
   "cell_type": "code",
   "execution_count": 4,
   "id": "f543d502-d675-47b1-b68a-918c96f32d76",
   "metadata": {},
   "outputs": [
    {
     "name": "stdout",
     "output_type": "stream",
     "text": [
      "The optimal value is -9.582695713565016\n",
      "A solution x is\n",
      "[ 1.40302778  2.41946607  1.69147444 -0.26922648  1.30825253 -0.70836258\n",
      "  0.19314498  1.6415174   0.47700326  0.66581154]\n",
      "SOC constraint 0 dual variable solution\n",
      "[array([0.616643]), array([[ 0.35371564],\n",
      "       [-0.02327769],\n",
      "       [ 0.04254603],\n",
      "       [ 0.06244433],\n",
      "       [ 0.49888127]])]\n",
      "SOC constraint 1 dual variable solution\n",
      "[array([0.35281841]), array([[-0.1430102 ],\n",
      "       [ 0.16538684],\n",
      "       [-0.22027071],\n",
      "       [ 0.15439825],\n",
      "       [ 0.06571222]])]\n",
      "SOC constraint 2 dual variable solution\n",
      "[array([0.86509813]), array([[-0.11463631],\n",
      "       [-0.44928162],\n",
      "       [ 0.37808594],\n",
      "       [-0.61441428],\n",
      "       [-0.11377798]])]\n"
     ]
    }
   ],
   "source": [
    "import cvxpy as cp\n",
    "import numpy as np\n",
    "\n",
    "# Generate a random feasible SOCP.\n",
    "m = 3\n",
    "n = 10\n",
    "p = 5\n",
    "n_i = 5\n",
    "np.random.seed(2)\n",
    "f = np.random.randn(n)\n",
    "A = []\n",
    "b = []\n",
    "c = []\n",
    "d = []\n",
    "x0 = np.random.randn(n)\n",
    "for i in range(m):\n",
    "    A.append(np.random.randn(n_i, n))\n",
    "    b.append(np.random.randn(n_i))\n",
    "    c.append(np.random.randn(n))\n",
    "    d.append(np.linalg.norm(A[i] @ x0 + b, 2) - c[i].T @ x0)\n",
    "F = np.random.randn(p, n)\n",
    "g = F @ x0\n",
    "\n",
    "# Define and solve the CVXPY problem.\n",
    "x = cp.Variable(n)\n",
    "# We use cp.SOC(t, x) to create the SOC constraint ||x||_2 <= t.\n",
    "soc_constraints = [\n",
    "      cp.SOC(c[i].T @ x + d[i], A[i] @ x + b[i]) for i in range(m)\n",
    "]\n",
    "prob = cp.Problem(cp.Minimize(f.T@x),\n",
    "                  soc_constraints + [F @ x == g])\n",
    "prob.solve()\n",
    "\n",
    "# Print result.\n",
    "print(\"The optimal value is\", prob.value)\n",
    "print(\"A solution x is\")\n",
    "print(x.value)\n",
    "for i in range(m):\n",
    "    print(\"SOC constraint %i dual variable solution\" % i)\n",
    "    print(soc_constraints[i].dual_value)\n"
   ]
  },
  {
   "cell_type": "code",
   "execution_count": null,
   "id": "d504f891-cddd-4b2d-ae1d-4fb6cadd6b61",
   "metadata": {},
   "outputs": [],
   "source": []
  }
 ],
 "metadata": {
  "kernelspec": {
   "display_name": "base",
   "language": "python",
   "name": "python3"
  },
  "language_info": {
   "codemirror_mode": {
    "name": "ipython",
    "version": 3
   },
   "file_extension": ".py",
   "mimetype": "text/x-python",
   "name": "python",
   "nbconvert_exporter": "python",
   "pygments_lexer": "ipython3",
   "version": "3.11.7"
  }
 },
 "nbformat": 4,
 "nbformat_minor": 5
}
