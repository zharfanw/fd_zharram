{
 "cells": [
  {
   "cell_type": "markdown",
   "id": "9d43d98d",
   "metadata": {},
   "source": [
    "# Percobaan Rima"
   ]
  },
  {
   "cell_type": "code",
   "execution_count": 10,
   "id": "7798336b",
   "metadata": {},
   "outputs": [
    {
     "data": {
      "text/plain": [
       "'\\nThe main optimization problem is split into three subproblems: \\n1. optimizing the transmit beamforming, \\n2. optimizing the phase shifts of RIS1 using SDR, \\n2. optimizing the phase shifts of RIS2 using SOCP. \\nThe algorithm alternates between these three steps until convergence.\\n\\n\\nBentuk akhir program\\nprev_power = calculate_power(w_c, w_r)\\nfor iter in range(max_iter):\\n    # Langkah 2: Optimasi Beamforming\\n    # Langkah 3: Optimasi RIS1\\n    # Langkah 4: Optimasi RIS2\\n    # Langkah 5: Cek Konvergensi\\n    ...\\n'"
      ]
     },
     "execution_count": 10,
     "metadata": {},
     "output_type": "execute_result"
    }
   ],
   "source": [
    "'''\n",
    "The main optimization problem is split into three subproblems: \n",
    "1. optimizing the transmit beamforming, \n",
    "2. optimizing the phase shifts of RIS1 using SDR, \n",
    "2. optimizing the phase shifts of RIS2 using SOCP. \n",
    "The algorithm alternates between these three steps until convergence.\n",
    "\n",
    "\n",
    "Bentuk akhir program\n",
    "prev_power = calculate_power(w_c, w_r)\n",
    "for iter in range(max_iter):\n",
    "    # Langkah 2: Optimasi Beamforming\n",
    "    # Langkah 3: Optimasi RIS1\n",
    "    # Langkah 4: Optimasi RIS2\n",
    "    # Langkah 5: Cek Konvergensi\n",
    "    ...\n",
    "'''"
   ]
  },
  {
   "cell_type": "code",
   "execution_count": 1,
   "id": "351d5207",
   "metadata": {},
   "outputs": [],
   "source": [
    "#Library\n",
    "import numpy as np\n",
    "import cvxpy as cp"
   ]
  },
  {
   "cell_type": "code",
   "execution_count": 2,
   "id": "7c92ae59",
   "metadata": {},
   "outputs": [],
   "source": [
    "# Parameter sistem (Simulasi paper)\n",
    "M = 8  # Jumlah antena BS\n",
    "K = 3  # Jumlah pengguna\n",
    "N1 = 30  # Elemen RIS1\n",
    "N2 = 30  # Elemen RIS2\n",
    "T_R = 10  # Threshold SNR radar (dB)\n",
    "Gamma_k = 2  # Minimum rate pengguna (bps/Hz)\n",
    "epsilon = 1e-4   # Toleransi konvergensi\n",
    "\n",
    "#ngarang\n",
    "max_iter = 50  # Iterasi maksimum"
   ]
  },
  {
   "cell_type": "markdown",
   "id": "224ce9f6",
   "metadata": {},
   "source": [
    "## Langkah 1"
   ]
  },
  {
   "cell_type": "code",
   "execution_count": 3,
   "id": "5054c017",
   "metadata": {},
   "outputs": [],
   "source": [
    "# 1: Initialize the values of [w_c, w_r, v1,v2]\n",
    "# nyoba random aja\n",
    "\n",
    "'''beamforming'''\n",
    "w_c = [np.random.randn(M, 1) + 1j*np.random.randn(M, 1) for _ in range(K)]\n",
    "w_r = [np.random.randn(M, 1) + 1j*np.random.randn(M, 1) for _ in range(M)]\n",
    "'''phase shift'''\n",
    "v1 = np.exp(1j * 2 * np.pi * np.random.rand(N1))  # Unit modulus\n",
    "v2 = np.exp(1j * 2 * np.pi * np.random.rand(N2))  # Unit modulus"
   ]
  },
  {
   "cell_type": "markdown",
   "id": "c0ead5a9",
   "metadata": {},
   "source": [
    "## Langkah 2"
   ]
  },
  {
   "cell_type": "code",
   "execution_count": 4,
   "id": "7e030dc6",
   "metadata": {},
   "outputs": [],
   "source": [
    "#Definisi Variael CVXPY\n",
    "W_c = [cp.Variable((M, 1), complex=True) for _ in range(K)]\n",
    "W_r = [cp.Variable((M, 1), complex=True) for _ in range(M)]"
   ]
  },
  {
   "cell_type": "code",
   "execution_count": 5,
   "id": "8919949a",
   "metadata": {},
   "outputs": [],
   "source": [
    "#persamaan (2) Total transmit power\n",
    "objective = sum(cp.norm(w, 2)**2 for w in W_c) + sum(cp.norm(w, 2)**2 for w in W_r)"
   ]
  },
  {
   "cell_type": "code",
   "execution_count": 6,
   "id": "2ffc85c0",
   "metadata": {},
   "outputs": [],
   "source": [
    "# persamaan 3\n",
    "# Parameter noise (Bagian IV)\n",
    "sigma_R_dBm = -80       # Noise radar (dBm)\n",
    "sigma_k_dBm = -80       # Noise pengguna (dBm)\n",
    "\n",
    "# Konversi ke linear (Watt)\n",
    "'''Konversi dBm ke Watt diperlukan karena CVXPY bekerja dalam domain linear (bukan dB).\n",
    "P_Watt = 10^(PdBm/10)x10^-3\n",
    "'''\n",
    "sigma_R_sq = 10**(sigma_R_dBm / 10) / 1000  \n",
    "sigma_k_sq = 10**(sigma_k_dBm / 10) / 1000  \n",
    "\n",
    "# Constraint SNR radar (Persamaan 15)\n",
    "# define A dulu dong sesuai persamaan 12\n",
    "alpha = 1.0  # Sesuai nilai |α|^2 di makalah (contoh: 1)\n",
    "# Definisikan saluran H_R sesuai model (misal: matriks random)\n",
    "# Inisialisasi saluran H_R (contoh: matriks random)\n",
    "H_R = np.random.randn(M, M) + 1j * np.random.randn(M, M)\n",
    "A = alpha * H_R.conj().T @ H_R  # H_R^H * H_R\n",
    "\n",
    "constraints = []\n",
    "lhs = T_R * sigma_R_sq\n",
    "rhs = sum(cp.real(cp.trace(A @ (W_c[k] @ W_c[k].H))) for k in range(K)) + \\\n",
    "      sum(cp.real(cp.trace(A @ (W_r[m] @ W_r[m].H))) for m in range(M))\n",
    "constraints.append(rhs >= lhs)"
   ]
  },
  {
   "cell_type": "code",
   "execution_count": 7,
   "id": "4cbf6874",
   "metadata": {},
   "outputs": [
    {
     "ename": "DCPError",
     "evalue": "Problem does not follow DCP rules. Specifically:\nThe following constraints are not DCP:\n1.0000000000000002e-10 <= real(trace([[ 1.04170233e+01+0.j          5.30916921e-02-3.01907949j ...\n   1.19062018e-01+3.04674765j -8.79220414e+00-2.42532483j]\n [ 5.30916921e-02+3.01907949j  1.46595235e+01+0.j         ...\n   1.05420935e-02+9.28075543j  4.09279051e+00-3.58915546j]\n ...\n [ 1.19062018e-01-3.04674765j  1.05420935e-02-9.28075543j ...\n   2.54129531e+01+0.j         -2.18495096e+00-8.22758139j]\n [-8.79220414e+00+2.42532483j  4.09279051e+00+3.58915546j ...\n  -2.18495096e+00+8.22758139j  2.60600371e+01+0.j        ]] @ var1 @ conj(var1).T)) + real(trace([[ 1.04170233e+01+0.j          5.30916921e-02-3.01907949j ...\n   1.19062018e-01+3.04674765j -8.79220414e+00-2.42532483j]\n [ 5.30916921e-02+3.01907949j  1.46595235e+01+0.j         ...\n   1.05420935e-02+9.28075543j  4.09279051e+00-3.58915546j]\n ...\n [ 1.19062018e-01-3.04674765j  1.05420935e-02-9.28075543j ...\n   2.54129531e+01+0.j         -2.18495096e+00-8.22758139j]\n [-8.79220414e+00+2.42532483j  4.09279051e+00+3.58915546j ...\n  -2.18495096e+00+8.22758139j  2.60600371e+01+0.j        ]] @ var2 @ conj(var2).T)) + real(trace([[ 1.04170233e+01+0.j          5.30916921e-02-3.01907949j ...\n   1.19062018e-01+3.04674765j -8.79220414e+00-2.42532483j]\n [ 5.30916921e-02+3.01907949j  1.46595235e+01+0.j         ...\n   1.05420935e-02+9.28075543j  4.09279051e+00-3.58915546j]\n ...\n [ 1.19062018e-01-3.04674765j  1.05420935e-02-9.28075543j ...\n   2.54129531e+01+0.j         -2.18495096e+00-8.22758139j]\n [-8.79220414e+00+2.42532483j  4.09279051e+00+3.58915546j ...\n  -2.18495096e+00+8.22758139j  2.60600371e+01+0.j        ]] @ var3 @ conj(var3).T)) + real(trace([[ 1.04170233e+01+0.j          5.30916921e-02-3.01907949j ...\n   1.19062018e-01+3.04674765j -8.79220414e+00-2.42532483j]\n [ 5.30916921e-02+3.01907949j  1.46595235e+01+0.j         ...\n   1.05420935e-02+9.28075543j  4.09279051e+00-3.58915546j]\n ...\n [ 1.19062018e-01-3.04674765j  1.05420935e-02-9.28075543j ...\n   2.54129531e+01+0.j         -2.18495096e+00-8.22758139j]\n [-8.79220414e+00+2.42532483j  4.09279051e+00+3.58915546j ...\n  -2.18495096e+00+8.22758139j  2.60600371e+01+0.j        ]] @ var4 @ conj(var4).T)) + real(trace([[ 1.04170233e+01+0.j          5.30916921e-02-3.01907949j ...\n   1.19062018e-01+3.04674765j -8.79220414e+00-2.42532483j]\n [ 5.30916921e-02+3.01907949j  1.46595235e+01+0.j         ...\n   1.05420935e-02+9.28075543j  4.09279051e+00-3.58915546j]\n ...\n [ 1.19062018e-01-3.04674765j  1.05420935e-02-9.28075543j ...\n   2.54129531e+01+0.j         -2.18495096e+00-8.22758139j]\n [-8.79220414e+00+2.42532483j  4.09279051e+00+3.58915546j ...\n  -2.18495096e+00+8.22758139j  2.60600371e+01+0.j        ]] @ var5 @ conj(var5).T)) + real(trace([[ 1.04170233e+01+0.j          5.30916921e-02-3.01907949j ...\n   1.19062018e-01+3.04674765j -8.79220414e+00-2.42532483j]\n [ 5.30916921e-02+3.01907949j  1.46595235e+01+0.j         ...\n   1.05420935e-02+9.28075543j  4.09279051e+00-3.58915546j]\n ...\n [ 1.19062018e-01-3.04674765j  1.05420935e-02-9.28075543j ...\n   2.54129531e+01+0.j         -2.18495096e+00-8.22758139j]\n [-8.79220414e+00+2.42532483j  4.09279051e+00+3.58915546j ...\n  -2.18495096e+00+8.22758139j  2.60600371e+01+0.j        ]] @ var6 @ conj(var6).T)) + real(trace([[ 1.04170233e+01+0.j          5.30916921e-02-3.01907949j ...\n   1.19062018e-01+3.04674765j -8.79220414e+00-2.42532483j]\n [ 5.30916921e-02+3.01907949j  1.46595235e+01+0.j         ...\n   1.05420935e-02+9.28075543j  4.09279051e+00-3.58915546j]\n ...\n [ 1.19062018e-01-3.04674765j  1.05420935e-02-9.28075543j ...\n   2.54129531e+01+0.j         -2.18495096e+00-8.22758139j]\n [-8.79220414e+00+2.42532483j  4.09279051e+00+3.58915546j ...\n  -2.18495096e+00+8.22758139j  2.60600371e+01+0.j        ]] @ var7 @ conj(var7).T)) + real(trace([[ 1.04170233e+01+0.j          5.30916921e-02-3.01907949j ...\n   1.19062018e-01+3.04674765j -8.79220414e+00-2.42532483j]\n [ 5.30916921e-02+3.01907949j  1.46595235e+01+0.j         ...\n   1.05420935e-02+9.28075543j  4.09279051e+00-3.58915546j]\n ...\n [ 1.19062018e-01-3.04674765j  1.05420935e-02-9.28075543j ...\n   2.54129531e+01+0.j         -2.18495096e+00-8.22758139j]\n [-8.79220414e+00+2.42532483j  4.09279051e+00+3.58915546j ...\n  -2.18495096e+00+8.22758139j  2.60600371e+01+0.j        ]] @ var8 @ conj(var8).T)) + real(trace([[ 1.04170233e+01+0.j          5.30916921e-02-3.01907949j ...\n   1.19062018e-01+3.04674765j -8.79220414e+00-2.42532483j]\n [ 5.30916921e-02+3.01907949j  1.46595235e+01+0.j         ...\n   1.05420935e-02+9.28075543j  4.09279051e+00-3.58915546j]\n ...\n [ 1.19062018e-01-3.04674765j  1.05420935e-02-9.28075543j ...\n   2.54129531e+01+0.j         -2.18495096e+00-8.22758139j]\n [-8.79220414e+00+2.42532483j  4.09279051e+00+3.58915546j ...\n  -2.18495096e+00+8.22758139j  2.60600371e+01+0.j        ]] @ var9 @ conj(var9).T)) + real(trace([[ 1.04170233e+01+0.j          5.30916921e-02-3.01907949j ...\n   1.19062018e-01+3.04674765j -8.79220414e+00-2.42532483j]\n [ 5.30916921e-02+3.01907949j  1.46595235e+01+0.j         ...\n   1.05420935e-02+9.28075543j  4.09279051e+00-3.58915546j]\n ...\n [ 1.19062018e-01-3.04674765j  1.05420935e-02-9.28075543j ...\n   2.54129531e+01+0.j         -2.18495096e+00-8.22758139j]\n [-8.79220414e+00+2.42532483j  4.09279051e+00+3.58915546j ...\n  -2.18495096e+00+8.22758139j  2.60600371e+01+0.j        ]] @ var10 @ conj(var10).T)) + real(trace([[ 1.04170233e+01+0.j          5.30916921e-02-3.01907949j ...\n   1.19062018e-01+3.04674765j -8.79220414e+00-2.42532483j]\n [ 5.30916921e-02+3.01907949j  1.46595235e+01+0.j         ...\n   1.05420935e-02+9.28075543j  4.09279051e+00-3.58915546j]\n ...\n [ 1.19062018e-01-3.04674765j  1.05420935e-02-9.28075543j ...\n   2.54129531e+01+0.j         -2.18495096e+00-8.22758139j]\n [-8.79220414e+00+2.42532483j  4.09279051e+00+3.58915546j ...\n  -2.18495096e+00+8.22758139j  2.60600371e+01+0.j        ]] @ var11 @ conj(var11).T)) , because the following subexpressions are not:\n|--  var1 @ conj(var1).T\n|--  var2 @ conj(var2).T\n|--  var3 @ conj(var3).T\n|--  var4 @ conj(var4).T\n|--  var5 @ conj(var5).T\n|--  var6 @ conj(var6).T\n|--  var7 @ conj(var7).T\n|--  var8 @ conj(var8).T\n|--  var9 @ conj(var9).T\n|--  var10 @ conj(var10).T\n|--  var11 @ conj(var11).T",
     "output_type": "error",
     "traceback": [
      "\u001b[1;31m---------------------------------------------------------------------------\u001b[0m",
      "\u001b[1;31mDCPError\u001b[0m                                  Traceback (most recent call last)",
      "Cell \u001b[1;32mIn[7], line 3\u001b[0m\n\u001b[0;32m      1\u001b[0m \u001b[38;5;66;03m# Definisikan problem\u001b[39;00m\n\u001b[0;32m      2\u001b[0m problem \u001b[38;5;241m=\u001b[39m cp\u001b[38;5;241m.\u001b[39mProblem(cp\u001b[38;5;241m.\u001b[39mMinimize(\u001b[38;5;28msum\u001b[39m(cp\u001b[38;5;241m.\u001b[39mnorm(w, \u001b[38;5;241m2\u001b[39m)\u001b[38;5;241m*\u001b[39m\u001b[38;5;241m*\u001b[39m\u001b[38;5;241m2\u001b[39m \u001b[38;5;28;01mfor\u001b[39;00m w \u001b[38;5;129;01min\u001b[39;00m W_c) \u001b[38;5;241m+\u001b[39m \u001b[38;5;28msum\u001b[39m(cp\u001b[38;5;241m.\u001b[39mnorm(w, \u001b[38;5;241m2\u001b[39m)\u001b[38;5;241m*\u001b[39m\u001b[38;5;241m*\u001b[39m\u001b[38;5;241m2\u001b[39m \u001b[38;5;28;01mfor\u001b[39;00m w \u001b[38;5;129;01min\u001b[39;00m W_r)), constraints)\n\u001b[1;32m----> 3\u001b[0m problem\u001b[38;5;241m.\u001b[39msolve(solver\u001b[38;5;241m=\u001b[39mcp\u001b[38;5;241m.\u001b[39mECOS)\n",
      "File \u001b[1;32mC:\\ProgramData\\anaconda3\\Lib\\site-packages\\cvxpy\\problems\\problem.py:600\u001b[0m, in \u001b[0;36mProblem.solve\u001b[1;34m(self, *args, **kwargs)\u001b[0m\n\u001b[0;32m    597\u001b[0m         \u001b[38;5;28;01mraise\u001b[39;00m \u001b[38;5;167;01mValueError\u001b[39;00m(\n\u001b[0;32m    598\u001b[0m             \u001b[38;5;124m\"\u001b[39m\u001b[38;5;124mCannot specify both \u001b[39m\u001b[38;5;124m'\u001b[39m\u001b[38;5;124msolver\u001b[39m\u001b[38;5;124m'\u001b[39m\u001b[38;5;124m and \u001b[39m\u001b[38;5;124m'\u001b[39m\u001b[38;5;124msolver_path\u001b[39m\u001b[38;5;124m'\u001b[39m\u001b[38;5;124m. Please choose one.\u001b[39m\u001b[38;5;124m\"\u001b[39m)\n\u001b[0;32m    599\u001b[0m     \u001b[38;5;28;01mreturn\u001b[39;00m \u001b[38;5;28mself\u001b[39m\u001b[38;5;241m.\u001b[39m_solve_solver_path(solve_func,solver_path, args, kwargs)\n\u001b[1;32m--> 600\u001b[0m \u001b[38;5;28;01mreturn\u001b[39;00m solve_func(\u001b[38;5;28mself\u001b[39m, \u001b[38;5;241m*\u001b[39margs, \u001b[38;5;241m*\u001b[39m\u001b[38;5;241m*\u001b[39mkwargs)\n",
      "File \u001b[1;32mC:\\ProgramData\\anaconda3\\Lib\\site-packages\\cvxpy\\problems\\problem.py:1170\u001b[0m, in \u001b[0;36mProblem._solve\u001b[1;34m(self, solver, warm_start, verbose, gp, qcp, requires_grad, enforce_dpp, ignore_dpp, canon_backend, **kwargs)\u001b[0m\n\u001b[0;32m   1167\u001b[0m         \u001b[38;5;28mself\u001b[39m\u001b[38;5;241m.\u001b[39munpack(chain\u001b[38;5;241m.\u001b[39mretrieve(soln))\n\u001b[0;32m   1168\u001b[0m         \u001b[38;5;28;01mreturn\u001b[39;00m \u001b[38;5;28mself\u001b[39m\u001b[38;5;241m.\u001b[39mvalue\n\u001b[1;32m-> 1170\u001b[0m data, solving_chain, inverse_data \u001b[38;5;241m=\u001b[39m \u001b[38;5;28mself\u001b[39m\u001b[38;5;241m.\u001b[39mget_problem_data(\n\u001b[0;32m   1171\u001b[0m     solver, gp, enforce_dpp, ignore_dpp, verbose, canon_backend, kwargs\n\u001b[0;32m   1172\u001b[0m )\n\u001b[0;32m   1174\u001b[0m \u001b[38;5;28;01mif\u001b[39;00m verbose:\n\u001b[0;32m   1175\u001b[0m     \u001b[38;5;28mprint\u001b[39m(_NUM_SOLVER_STR)\n",
      "File \u001b[1;32mC:\\ProgramData\\anaconda3\\Lib\\site-packages\\cvxpy\\problems\\problem.py:743\u001b[0m, in \u001b[0;36mProblem.get_problem_data\u001b[1;34m(self, solver, gp, enforce_dpp, ignore_dpp, verbose, canon_backend, solver_opts)\u001b[0m\n\u001b[0;32m    741\u001b[0m \u001b[38;5;28;01mif\u001b[39;00m key \u001b[38;5;241m!=\u001b[39m \u001b[38;5;28mself\u001b[39m\u001b[38;5;241m.\u001b[39m_cache\u001b[38;5;241m.\u001b[39mkey:\n\u001b[0;32m    742\u001b[0m     \u001b[38;5;28mself\u001b[39m\u001b[38;5;241m.\u001b[39m_cache\u001b[38;5;241m.\u001b[39minvalidate()\n\u001b[1;32m--> 743\u001b[0m     solving_chain \u001b[38;5;241m=\u001b[39m \u001b[38;5;28mself\u001b[39m\u001b[38;5;241m.\u001b[39m_construct_chain(\n\u001b[0;32m    744\u001b[0m         solver\u001b[38;5;241m=\u001b[39msolver, gp\u001b[38;5;241m=\u001b[39mgp,\n\u001b[0;32m    745\u001b[0m         enforce_dpp\u001b[38;5;241m=\u001b[39menforce_dpp,\n\u001b[0;32m    746\u001b[0m         ignore_dpp\u001b[38;5;241m=\u001b[39mignore_dpp,\n\u001b[0;32m    747\u001b[0m         canon_backend\u001b[38;5;241m=\u001b[39mcanon_backend,\n\u001b[0;32m    748\u001b[0m         solver_opts\u001b[38;5;241m=\u001b[39msolver_opts)\n\u001b[0;32m    749\u001b[0m     \u001b[38;5;28mself\u001b[39m\u001b[38;5;241m.\u001b[39m_cache\u001b[38;5;241m.\u001b[39mkey \u001b[38;5;241m=\u001b[39m key\n\u001b[0;32m    750\u001b[0m     \u001b[38;5;28mself\u001b[39m\u001b[38;5;241m.\u001b[39m_cache\u001b[38;5;241m.\u001b[39msolving_chain \u001b[38;5;241m=\u001b[39m solving_chain\n",
      "File \u001b[1;32mC:\\ProgramData\\anaconda3\\Lib\\site-packages\\cvxpy\\problems\\problem.py:994\u001b[0m, in \u001b[0;36mProblem._construct_chain\u001b[1;34m(self, solver, gp, enforce_dpp, ignore_dpp, canon_backend, solver_opts)\u001b[0m\n\u001b[0;32m    992\u001b[0m candidate_solvers \u001b[38;5;241m=\u001b[39m \u001b[38;5;28mself\u001b[39m\u001b[38;5;241m.\u001b[39m_find_candidate_solvers(solver\u001b[38;5;241m=\u001b[39msolver, gp\u001b[38;5;241m=\u001b[39mgp)\n\u001b[0;32m    993\u001b[0m \u001b[38;5;28mself\u001b[39m\u001b[38;5;241m.\u001b[39m_sort_candidate_solvers(candidate_solvers)\n\u001b[1;32m--> 994\u001b[0m \u001b[38;5;28;01mreturn\u001b[39;00m construct_solving_chain(\u001b[38;5;28mself\u001b[39m, candidate_solvers, gp\u001b[38;5;241m=\u001b[39mgp,\n\u001b[0;32m    995\u001b[0m                                enforce_dpp\u001b[38;5;241m=\u001b[39menforce_dpp,\n\u001b[0;32m    996\u001b[0m                                ignore_dpp\u001b[38;5;241m=\u001b[39mignore_dpp,\n\u001b[0;32m    997\u001b[0m                                canon_backend\u001b[38;5;241m=\u001b[39mcanon_backend,\n\u001b[0;32m    998\u001b[0m                                solver_opts\u001b[38;5;241m=\u001b[39msolver_opts,\n\u001b[0;32m    999\u001b[0m                                specified_solver\u001b[38;5;241m=\u001b[39msolver)\n",
      "File \u001b[1;32mC:\\ProgramData\\anaconda3\\Lib\\site-packages\\cvxpy\\reductions\\solvers\\solving_chain.py:236\u001b[0m, in \u001b[0;36mconstruct_solving_chain\u001b[1;34m(problem, candidates, gp, enforce_dpp, ignore_dpp, canon_backend, solver_opts, specified_solver)\u001b[0m\n\u001b[0;32m    234\u001b[0m \u001b[38;5;28;01mif\u001b[39;00m \u001b[38;5;28mlen\u001b[39m(problem\u001b[38;5;241m.\u001b[39mvariables()) \u001b[38;5;241m==\u001b[39m \u001b[38;5;241m0\u001b[39m:\n\u001b[0;32m    235\u001b[0m     \u001b[38;5;28;01mreturn\u001b[39;00m SolvingChain(reductions\u001b[38;5;241m=\u001b[39m[ConstantSolver()])\n\u001b[1;32m--> 236\u001b[0m reductions \u001b[38;5;241m=\u001b[39m _reductions_for_problem_class(problem, candidates, gp, solver_opts)\n\u001b[0;32m    238\u001b[0m \u001b[38;5;66;03m# Process DPP status of the problem.\u001b[39;00m\n\u001b[0;32m    239\u001b[0m dpp_context \u001b[38;5;241m=\u001b[39m \u001b[38;5;124m'\u001b[39m\u001b[38;5;124mdcp\u001b[39m\u001b[38;5;124m'\u001b[39m \u001b[38;5;28;01mif\u001b[39;00m \u001b[38;5;129;01mnot\u001b[39;00m gp \u001b[38;5;28;01melse\u001b[39;00m \u001b[38;5;124m'\u001b[39m\u001b[38;5;124mdgp\u001b[39m\u001b[38;5;124m'\u001b[39m\n",
      "File \u001b[1;32mC:\\ProgramData\\anaconda3\\Lib\\site-packages\\cvxpy\\reductions\\solvers\\solving_chain.py:150\u001b[0m, in \u001b[0;36m_reductions_for_problem_class\u001b[1;34m(problem, candidates, gp, solver_opts)\u001b[0m\n\u001b[0;32m    147\u001b[0m     \u001b[38;5;28;01melif\u001b[39;00m problem\u001b[38;5;241m.\u001b[39mis_dqcp():\n\u001b[0;32m    148\u001b[0m         append \u001b[38;5;241m+\u001b[39m\u001b[38;5;241m=\u001b[39m (\u001b[38;5;124m\"\u001b[39m\u001b[38;5;130;01m\\n\u001b[39;00m\u001b[38;5;124mHowever, the problem does follow DQCP rules. \u001b[39m\u001b[38;5;124m\"\u001b[39m\n\u001b[0;32m    149\u001b[0m                    \u001b[38;5;124m\"\u001b[39m\u001b[38;5;124mConsider calling solve() with `qcp=True`.\u001b[39m\u001b[38;5;124m\"\u001b[39m)\n\u001b[1;32m--> 150\u001b[0m     \u001b[38;5;28;01mraise\u001b[39;00m DCPError(\n\u001b[0;32m    151\u001b[0m         \u001b[38;5;124m\"\u001b[39m\u001b[38;5;124mProblem does not follow DCP rules. Specifically:\u001b[39m\u001b[38;5;130;01m\\n\u001b[39;00m\u001b[38;5;124m\"\u001b[39m \u001b[38;5;241m+\u001b[39m append)\n\u001b[0;32m    152\u001b[0m \u001b[38;5;28;01melif\u001b[39;00m gp \u001b[38;5;129;01mand\u001b[39;00m \u001b[38;5;129;01mnot\u001b[39;00m problem\u001b[38;5;241m.\u001b[39mis_dgp():\n\u001b[0;32m    153\u001b[0m     append \u001b[38;5;241m=\u001b[39m build_non_disciplined_error_msg(problem, \u001b[38;5;124m'\u001b[39m\u001b[38;5;124mDGP\u001b[39m\u001b[38;5;124m'\u001b[39m)\n",
      "\u001b[1;31mDCPError\u001b[0m: Problem does not follow DCP rules. Specifically:\nThe following constraints are not DCP:\n1.0000000000000002e-10 <= real(trace([[ 1.04170233e+01+0.j          5.30916921e-02-3.01907949j ...\n   1.19062018e-01+3.04674765j -8.79220414e+00-2.42532483j]\n [ 5.30916921e-02+3.01907949j  1.46595235e+01+0.j         ...\n   1.05420935e-02+9.28075543j  4.09279051e+00-3.58915546j]\n ...\n [ 1.19062018e-01-3.04674765j  1.05420935e-02-9.28075543j ...\n   2.54129531e+01+0.j         -2.18495096e+00-8.22758139j]\n [-8.79220414e+00+2.42532483j  4.09279051e+00+3.58915546j ...\n  -2.18495096e+00+8.22758139j  2.60600371e+01+0.j        ]] @ var1 @ conj(var1).T)) + real(trace([[ 1.04170233e+01+0.j          5.30916921e-02-3.01907949j ...\n   1.19062018e-01+3.04674765j -8.79220414e+00-2.42532483j]\n [ 5.30916921e-02+3.01907949j  1.46595235e+01+0.j         ...\n   1.05420935e-02+9.28075543j  4.09279051e+00-3.58915546j]\n ...\n [ 1.19062018e-01-3.04674765j  1.05420935e-02-9.28075543j ...\n   2.54129531e+01+0.j         -2.18495096e+00-8.22758139j]\n [-8.79220414e+00+2.42532483j  4.09279051e+00+3.58915546j ...\n  -2.18495096e+00+8.22758139j  2.60600371e+01+0.j        ]] @ var2 @ conj(var2).T)) + real(trace([[ 1.04170233e+01+0.j          5.30916921e-02-3.01907949j ...\n   1.19062018e-01+3.04674765j -8.79220414e+00-2.42532483j]\n [ 5.30916921e-02+3.01907949j  1.46595235e+01+0.j         ...\n   1.05420935e-02+9.28075543j  4.09279051e+00-3.58915546j]\n ...\n [ 1.19062018e-01-3.04674765j  1.05420935e-02-9.28075543j ...\n   2.54129531e+01+0.j         -2.18495096e+00-8.22758139j]\n [-8.79220414e+00+2.42532483j  4.09279051e+00+3.58915546j ...\n  -2.18495096e+00+8.22758139j  2.60600371e+01+0.j        ]] @ var3 @ conj(var3).T)) + real(trace([[ 1.04170233e+01+0.j          5.30916921e-02-3.01907949j ...\n   1.19062018e-01+3.04674765j -8.79220414e+00-2.42532483j]\n [ 5.30916921e-02+3.01907949j  1.46595235e+01+0.j         ...\n   1.05420935e-02+9.28075543j  4.09279051e+00-3.58915546j]\n ...\n [ 1.19062018e-01-3.04674765j  1.05420935e-02-9.28075543j ...\n   2.54129531e+01+0.j         -2.18495096e+00-8.22758139j]\n [-8.79220414e+00+2.42532483j  4.09279051e+00+3.58915546j ...\n  -2.18495096e+00+8.22758139j  2.60600371e+01+0.j        ]] @ var4 @ conj(var4).T)) + real(trace([[ 1.04170233e+01+0.j          5.30916921e-02-3.01907949j ...\n   1.19062018e-01+3.04674765j -8.79220414e+00-2.42532483j]\n [ 5.30916921e-02+3.01907949j  1.46595235e+01+0.j         ...\n   1.05420935e-02+9.28075543j  4.09279051e+00-3.58915546j]\n ...\n [ 1.19062018e-01-3.04674765j  1.05420935e-02-9.28075543j ...\n   2.54129531e+01+0.j         -2.18495096e+00-8.22758139j]\n [-8.79220414e+00+2.42532483j  4.09279051e+00+3.58915546j ...\n  -2.18495096e+00+8.22758139j  2.60600371e+01+0.j        ]] @ var5 @ conj(var5).T)) + real(trace([[ 1.04170233e+01+0.j          5.30916921e-02-3.01907949j ...\n   1.19062018e-01+3.04674765j -8.79220414e+00-2.42532483j]\n [ 5.30916921e-02+3.01907949j  1.46595235e+01+0.j         ...\n   1.05420935e-02+9.28075543j  4.09279051e+00-3.58915546j]\n ...\n [ 1.19062018e-01-3.04674765j  1.05420935e-02-9.28075543j ...\n   2.54129531e+01+0.j         -2.18495096e+00-8.22758139j]\n [-8.79220414e+00+2.42532483j  4.09279051e+00+3.58915546j ...\n  -2.18495096e+00+8.22758139j  2.60600371e+01+0.j        ]] @ var6 @ conj(var6).T)) + real(trace([[ 1.04170233e+01+0.j          5.30916921e-02-3.01907949j ...\n   1.19062018e-01+3.04674765j -8.79220414e+00-2.42532483j]\n [ 5.30916921e-02+3.01907949j  1.46595235e+01+0.j         ...\n   1.05420935e-02+9.28075543j  4.09279051e+00-3.58915546j]\n ...\n [ 1.19062018e-01-3.04674765j  1.05420935e-02-9.28075543j ...\n   2.54129531e+01+0.j         -2.18495096e+00-8.22758139j]\n [-8.79220414e+00+2.42532483j  4.09279051e+00+3.58915546j ...\n  -2.18495096e+00+8.22758139j  2.60600371e+01+0.j        ]] @ var7 @ conj(var7).T)) + real(trace([[ 1.04170233e+01+0.j          5.30916921e-02-3.01907949j ...\n   1.19062018e-01+3.04674765j -8.79220414e+00-2.42532483j]\n [ 5.30916921e-02+3.01907949j  1.46595235e+01+0.j         ...\n   1.05420935e-02+9.28075543j  4.09279051e+00-3.58915546j]\n ...\n [ 1.19062018e-01-3.04674765j  1.05420935e-02-9.28075543j ...\n   2.54129531e+01+0.j         -2.18495096e+00-8.22758139j]\n [-8.79220414e+00+2.42532483j  4.09279051e+00+3.58915546j ...\n  -2.18495096e+00+8.22758139j  2.60600371e+01+0.j        ]] @ var8 @ conj(var8).T)) + real(trace([[ 1.04170233e+01+0.j          5.30916921e-02-3.01907949j ...\n   1.19062018e-01+3.04674765j -8.79220414e+00-2.42532483j]\n [ 5.30916921e-02+3.01907949j  1.46595235e+01+0.j         ...\n   1.05420935e-02+9.28075543j  4.09279051e+00-3.58915546j]\n ...\n [ 1.19062018e-01-3.04674765j  1.05420935e-02-9.28075543j ...\n   2.54129531e+01+0.j         -2.18495096e+00-8.22758139j]\n [-8.79220414e+00+2.42532483j  4.09279051e+00+3.58915546j ...\n  -2.18495096e+00+8.22758139j  2.60600371e+01+0.j        ]] @ var9 @ conj(var9).T)) + real(trace([[ 1.04170233e+01+0.j          5.30916921e-02-3.01907949j ...\n   1.19062018e-01+3.04674765j -8.79220414e+00-2.42532483j]\n [ 5.30916921e-02+3.01907949j  1.46595235e+01+0.j         ...\n   1.05420935e-02+9.28075543j  4.09279051e+00-3.58915546j]\n ...\n [ 1.19062018e-01-3.04674765j  1.05420935e-02-9.28075543j ...\n   2.54129531e+01+0.j         -2.18495096e+00-8.22758139j]\n [-8.79220414e+00+2.42532483j  4.09279051e+00+3.58915546j ...\n  -2.18495096e+00+8.22758139j  2.60600371e+01+0.j        ]] @ var10 @ conj(var10).T)) + real(trace([[ 1.04170233e+01+0.j          5.30916921e-02-3.01907949j ...\n   1.19062018e-01+3.04674765j -8.79220414e+00-2.42532483j]\n [ 5.30916921e-02+3.01907949j  1.46595235e+01+0.j         ...\n   1.05420935e-02+9.28075543j  4.09279051e+00-3.58915546j]\n ...\n [ 1.19062018e-01-3.04674765j  1.05420935e-02-9.28075543j ...\n   2.54129531e+01+0.j         -2.18495096e+00-8.22758139j]\n [-8.79220414e+00+2.42532483j  4.09279051e+00+3.58915546j ...\n  -2.18495096e+00+8.22758139j  2.60600371e+01+0.j        ]] @ var11 @ conj(var11).T)) , because the following subexpressions are not:\n|--  var1 @ conj(var1).T\n|--  var2 @ conj(var2).T\n|--  var3 @ conj(var3).T\n|--  var4 @ conj(var4).T\n|--  var5 @ conj(var5).T\n|--  var6 @ conj(var6).T\n|--  var7 @ conj(var7).T\n|--  var8 @ conj(var8).T\n|--  var9 @ conj(var9).T\n|--  var10 @ conj(var10).T\n|--  var11 @ conj(var11).T"
     ]
    }
   ],
   "source": [
    "# Definisikan problem\n",
    "problem = cp.Problem(cp.Minimize(sum(cp.norm(w, 2)**2 for w in W_c) + sum(cp.norm(w, 2)**2 for w in W_r)), constraints)\n",
    "problem.solve(solver=cp.ECOS)"
   ]
  },
  {
   "cell_type": "markdown",
   "id": "357bc5b4",
   "metadata": {},
   "source": [
    "#itu bisa sih tapi error dcp gjls kata deepseek gini tp belum coba\n",
    "\n",
    "'''\n",
    "### Pastikan A PSD dengan menambahkan regularisasi kecil jika perlu\n",
    "A = alpha * (H_R.conj().T @ H_R + 1e-6 * np.eye(M))\n",
    "\n",
    "from cvxpy import quad_form\n",
    "\n",
    "### Definisikan constraint radar SNR dengan quad_form\n",
    "rhs = sum(quad_form(W_c[k], A) for k in range(K)) + \\\n",
    "      sum(quad_form(W_r[m], A) for m in range(M))\n",
    "constraints.append(rhs >= lhs)\n",
    "\n",
    "\n",
    "import numpy as np\n",
    "import cvxpy as cp\n",
    "from cvxpy import quad_form\n",
    "\n",
    "### Parameter sistem\n",
    "M = 8\n",
    "K = 3\n",
    "N1 = 30\n",
    "N2 = 30\n",
    "T_R = 10                  # Radar SNR threshold (dB)\n",
    "Gamma_k = 2               # Minimum rate (bps/Hz)\n",
    "epsilon = 1e-4\n",
    "max_iter = 50\n",
    "\n",
    "### Parameter noise\n",
    "sigma_R_dBm = -80         \n",
    "sigma_k_dBm = -80         \n",
    "sigma_R_sq = 10**(sigma_R_dBm / 10) / 1000  \n",
    "sigma_k_sq = 10**(sigma_k_dBm / 10) / 1000  \n",
    "\n",
    "### Inisialisasi saluran H_R dan alpha\n",
    "H_R = np.random.randn(M, M) + 1j * np.random.randn(M, M)\n",
    "alpha = 1.0\n",
    "A = alpha * (H_R.conj().T @ H_R + 1e-6 * np.eye(M))  # Pastikan A PSD\n",
    "\n",
    "### Inisialisasi variabel beamforming\n",
    "W_c = [cp.Variable((M, 1), complex=True) for _ in range(K)]\n",
    "W_r = [cp.Variable((M, 1), complex=True) for _ in range(M)]\n",
    "\n",
    "### Constraint radar SNR\n",
    "constraints = []\n",
    "lhs = T_R * sigma_R_sq\n",
    "rhs = sum(quad_form(W_c[k], A) for k in range(K)) + \\\n",
    "      sum(quad_form(W_r[m], A) for m in range(M))\n",
    "constraints.append(rhs >= lhs)\n",
    "\n",
    "### Fungsi tujuan: Minimalkan total daya\n",
    "objective = sum(cp.norm(w, 2)**2 for w in W_c) + sum(cp.norm(w, 2)**2 for w in W_r)\n",
    "problem = cp.Problem(cp.Minimize(objective), constraints)\n",
    "\n",
    "### Solve dengan solver SCS\n",
    "problem.solve(solver=cp.SCS, verbose=True)\n",
    "\n",
    "print(\"Optimasi berhasil! Status:\", problem.status)\n",
    "\n",
    "'''"
   ]
  },
  {
   "cell_type": "markdown",
   "id": "7dcdc013",
   "metadata": {},
   "source": [
    "## Referensi Deepseek"
   ]
  },
  {
   "cell_type": "code",
   "execution_count": null,
   "id": "55fd6199",
   "metadata": {},
   "outputs": [],
   "source": [
    "import numpy as np\n",
    "import cvxpy as cp\n",
    "\n",
    "# Parameter sistem (contoh)\n",
    "M = 8  # Jumlah antena BS\n",
    "K = 3  # Jumlah pengguna\n",
    "N1 = 30  # Elemen RIS1\n",
    "N2 = 30  # Elemen RIS2\n",
    "T_R = 10  # Threshold SNR radar (dB)\n",
    "Gamma_k = 2  # Minimum rate pengguna (bps/Hz)\n",
    "epsilon = 1e-4  # Toleransi konvergensi\n",
    "max_iter = 50  # Iterasi maksimum\n",
    "\n",
    "# Inisialisasi variabel (contoh acak)\n",
    "w_c = [np.random.randn(M, 1) + 1j*np.random.randn(M, 1) for _ in range(K)]\n",
    "w_r = [np.random.randn(M, 1) + 1j*np.random.randn(M, 1) for _ in range(M)]\n",
    "v1 = np.exp(1j * 2 * np.pi * np.random.rand(N1))  # Unit modulus\n",
    "v2 = np.exp(1j * 2 * np.pi * np.random.rand(N2))  # Unit modulus\n",
    "\n",
    "# Simulasi saluran (diabaikan, perlu implementasi sesuai model makalah)\n",
    "H_R = np.random.randn(M, M) + 1j*np.random.randn(M, M)\n",
    "H_k = [np.random.randn(M, 1) + 1j*np.random.randn(M, 1) for _ in range(K)]\n",
    "\n",
    "# Fungsi untuk menghitung daya pancar\n",
    "def calculate_power(w_c, w_r):\n",
    "    return sum(np.linalg.norm(w, 2)**2 for w in w_c) + sum(np.linalg.norm(w, 2)**2 for w in w_r)\n",
    "\n",
    "# Algoritma utama\n",
    "prev_power = calculate_power(w_c, w_r)\n",
    "for iter in range(max_iter):\n",
    "    # Langkah 5: Optimasi beamforming (SOCP)\n",
    "    # Implementasi persamaan (17) menggunakan CVXPY\n",
    "    W_c = [cp.Variable((M, 1), complex=True) for _ in range(K)]\n",
    "    W_r = [cp.Variable((M, 1), complex=True) for _ in range(M)]\n",
    "    \n",
    "    constraints = []\n",
    "    # Tambahkan constraints dari persamaan (15) dan (16)\n",
    "    # ... (Implementasi rinci diperlukan sesuai model matematika)\n",
    "    \n",
    "    problem = cp.Problem(cp.Minimize(sum(cp.norm(w, 2)**2 for w in W_c) + sum(cp.norm(w, 2)**2 for w in W_r)),\n",
    "                     constraints)\n",
    "    problem.solve(solver=cp.ECOS)\n",
    "    \n",
    "    # Perbarui nilai beamforming\n",
    "    w_c = [W_c[k].value for k in range(K)]\n",
    "    w_r = [W_r[m].value for m in range(M)]\n",
    "    \n",
    "    # Langkah 6-8: Optimasi RIS1 (SDR dan Gaussian randomization)\n",
    "    # Implementasi persamaan (32)\n",
    "    U1 = cp.Variable((N1+1, N1+1), hermitian=True)\n",
    "    constraints = [\n",
    "        U1 >> 0,\n",
    "        # Tambahkan constraints dari persamaan (27), (30), (31)\n",
    "    ]\n",
    "    problem = cp.Problem(cp.Minimize(0), constraints)\n",
    "    problem.solve(solver=cp.SCS)\n",
    "    \n",
    "    # Gaussian randomization untuk ekstraksi v1\n",
    "    # ... (Implementasi prosedur randomisasi)\n",
    "    \n",
    "    # Langkah 9: Optimasi RIS2 (SOCP)\n",
    "    # Implementasi persamaan (38)\n",
    "    u2 = cp.Variable(N2+1, complex=True)\n",
    "    constraints = [\n",
    "        # Tambahkan constraints dari persamaan (36) dan (37)\n",
    "    ]\n",
    "    problem = cp.Problem(cp.Minimize(0), constraints)\n",
    "    problem.solve(solver=cp.ECOS)\n",
    "    \n",
    "    # Perbarui v2 dari u2\n",
    "    v2 = u2.value[:N2] / np.abs(u2.value[:N2])  # Proyeksi ke unit modulus\n",
    "    \n",
    "    # Periksa konvergensi\n",
    "    current_power = calculate_power(w_c, w_r)\n",
    "    if abs(current_power - prev_power) < epsilon:\n",
    "        break\n",
    "    prev_power = current_power\n",
    "\n",
    "print(f\"Konvergensi tercapai dalam {iter+1} iterasi. Daya akhir: {current_power:.4f}\")"
   ]
  }
 ],
 "metadata": {
  "kernelspec": {
   "display_name": "Python 3 (ipykernel)",
   "language": "python",
   "name": "python3"
  },
  "language_info": {
   "codemirror_mode": {
    "name": "ipython",
    "version": 3
   },
   "file_extension": ".py",
   "mimetype": "text/x-python",
   "name": "python",
   "nbconvert_exporter": "python",
   "pygments_lexer": "ipython3",
   "version": "3.11.5"
  }
 },
 "nbformat": 4,
 "nbformat_minor": 5
}
