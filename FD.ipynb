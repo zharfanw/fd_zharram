{
 "cells": [
  {
   "cell_type": "markdown",
   "id": "9d43d98d",
   "metadata": {},
   "source": [
    "# Percobaan Rima"
   ]
  },
  {
   "cell_type": "code",
   "execution_count": 2,
   "id": "7798336b",
   "metadata": {},
   "outputs": [
    {
     "data": {
      "text/plain": [
       "'\\nThe main optimization problem is split into three subproblems: \\n1. optimizing the transmit beamforming, \\n2. optimizing the phase shifts of RIS1 using SDR, \\n2. optimizing the phase shifts of RIS2 using SOCP. \\nThe algorithm alternates between these three steps until convergence.\\n\\n\\nBentuk akhir program\\nprev_power = calculate_power(w_c, w_r)\\nfor iter in range(max_iter):\\n    # Langkah 2: Optimasi Beamforming\\n    # Langkah 3: Optimasi RIS1\\n    # Langkah 4: Optimasi RIS2\\n    # Langkah 5: Cek Konvergensi\\n    ...\\n'"
      ]
     },
     "execution_count": 2,
     "metadata": {},
     "output_type": "execute_result"
    }
   ],
   "source": [
    "'''\n",
    "The main optimization problem is split into three subproblems: \n",
    "1. optimizing the transmit beamforming, \n",
    "2. optimizing the phase shifts of RIS1 using SDR, \n",
    "2. optimizing the phase shifts of RIS2 using SOCP. \n",
    "The algorithm alternates between these three steps until convergence.\n",
    "\n",
    "\n",
    "Bentuk akhir program\n",
    "prev_power = calculate_power(w_c, w_r)\n",
    "for iter in range(max_iter):\n",
    "    # Langkah 2: Optimasi Beamforming\n",
    "    # Langkah 3: Optimasi RIS1\n",
    "    # Langkah 4: Optimasi RIS2\n",
    "    # Langkah 5: Cek Konvergensi\n",
    "    ...\n",
    "'''"
   ]
  },
  {
   "cell_type": "code",
   "execution_count": 3,
   "id": "d08f89ed-24ff-4c00-8ede-9bb76926539b",
   "metadata": {},
   "outputs": [
    {
     "name": "stdout",
     "output_type": "stream",
     "text": [
      "Defaulting to user installation because normal site-packages is not writeable\n",
      "Requirement already satisfied: cvxpy in c:\\users\\dell 7540\\appdata\\roaming\\python\\python311\\site-packages (1.6.3)\n",
      "Requirement already satisfied: osqp>=0.6.2 in c:\\users\\dell 7540\\appdata\\roaming\\python\\python311\\site-packages (from cvxpy) (0.6.7.post3)\n",
      "Requirement already satisfied: clarabel>=0.5.0 in c:\\users\\dell 7540\\appdata\\roaming\\python\\python311\\site-packages (from cvxpy) (0.10.0)\n",
      "Requirement already satisfied: scs>=3.2.4.post1 in c:\\users\\dell 7540\\appdata\\roaming\\python\\python311\\site-packages (from cvxpy) (3.2.7.post2)\n",
      "Requirement already satisfied: numpy>=1.21.6 in c:\\programdata\\anaconda3\\lib\\site-packages (from cvxpy) (1.26.4)\n",
      "Requirement already satisfied: scipy>=1.11.0 in c:\\programdata\\anaconda3\\lib\\site-packages (from cvxpy) (1.11.4)\n",
      "Requirement already satisfied: qdldl in c:\\users\\dell 7540\\appdata\\roaming\\python\\python311\\site-packages (from osqp>=0.6.2->cvxpy) (0.1.7.post5)\n"
     ]
    }
   ],
   "source": [
    "!pip install cvxpy\n",
    "!pip "
   ]
  },
  {
   "cell_type": "code",
   "execution_count": 4,
   "id": "351d5207",
   "metadata": {},
   "outputs": [],
   "source": [
    "#Library\n",
    "import numpy as np\n",
    "import cvxpy as cp"
   ]
  },
  {
   "cell_type": "code",
   "execution_count": 5,
   "id": "7c92ae59",
   "metadata": {},
   "outputs": [],
   "source": [
    "# Parameter sistem (Simulasi paper)\n",
    "M = 8  # Jumlah antena BS\n",
    "K = 3  # Jumlah pengguna\n",
    "N1 = 30  # Elemen RIS1\n",
    "N2 = 30  # Elemen RIS2\n",
    "T_R = 10  # Threshold SNR radar (dB)\n",
    "Gamma_k = 2  # Minimum rate pengguna (bps/Hz)\n",
    "epsilon = 1e-4   # Toleransi konvergensi\n",
    "\n",
    "#ngarang\n",
    "max_iter = 50  # Iterasi maksimum"
   ]
  },
  {
   "cell_type": "markdown",
   "id": "224ce9f6",
   "metadata": {},
   "source": [
    "## Langkah 1"
   ]
  },
  {
   "cell_type": "code",
   "execution_count": 7,
   "id": "5054c017",
   "metadata": {},
   "outputs": [],
   "source": [
    "# 1: Initialize the values of [w_c, w_r, v1,v2]\n",
    "# nyoba random aja\n",
    "\n",
    "'''beamforming'''\n",
    "w_c = [np.random.randn(M, 1) + 1j*np.random.randn(M, 1) for _ in range(K)]\n",
    "w_r = [np.random.randn(M, 1) + 1j*np.random.randn(M, 1) for _ in range(M)]\n",
    "'''phase shift'''\n",
    "v1 = np.exp(1j * 2 * np.pi * np.random.rand(N1))  # Unit modulus\n",
    "v2 = np.exp(1j * 2 * np.pi * np.random.rand(N2))  # Unit modulus"
   ]
  },
  {
   "cell_type": "markdown",
   "id": "c0ead5a9",
   "metadata": {},
   "source": [
    "## Langkah 2"
   ]
  },
  {
   "cell_type": "code",
   "execution_count": 9,
   "id": "7e030dc6",
   "metadata": {},
   "outputs": [],
   "source": [
    "#Definisi Variael CVXPY\n",
    "W_c = [cp.Variable((M, 1), complex=True) for _ in range(K)]\n",
    "W_r = [cp.Variable((M, 1), complex=True) for _ in range(M)]"
   ]
  },
  {
   "cell_type": "code",
   "execution_count": 10,
   "id": "8919949a",
   "metadata": {},
   "outputs": [],
   "source": [
    "#persamaan (2) Total transmit power\n",
    "objective = sum(cp.norm(w, 2)**2 for w in W_c) + sum(cp.norm(w, 2)**2 for w in W_r)"
   ]
  },
  {
   "cell_type": "code",
   "execution_count": 11,
   "id": "2ffc85c0",
   "metadata": {},
   "outputs": [],
   "source": [
    "# persamaan 3\n",
    "# Parameter noise (Bagian IV)\n",
    "sigma_R_dBm = -80       # Noise radar (dBm)\n",
    "sigma_k_dBm = -80       # Noise pengguna (dBm)\n",
    "\n",
    "# Konversi ke linear (Watt)\n",
    "'''Konversi dBm ke Watt diperlukan karena CVXPY bekerja dalam domain linear (bukan dB).\n",
    "P_Watt = 10^(PdBm/10)x10^-3\n",
    "'''\n",
    "sigma_R_sq = 10**(sigma_R_dBm / 10) / 1000  \n",
    "sigma_k_sq = 10**(sigma_k_dBm / 10) / 1000  \n",
    "\n",
    "# Constraint SNR radar (Persamaan 15)\n",
    "# define A dulu dong sesuai persamaan 12\n",
    "alpha = 1.0  # Sesuai nilai |α|^2 di makalah (contoh: 1)\n",
    "# Definisikan saluran H_R sesuai model (misal: matriks random)\n",
    "# Inisialisasi saluran H_R (contoh: matriks random)\n",
    "H_R = np.random.randn(M, M) + 1j * np.random.randn(M, M)\n",
    "A = alpha * H_R.conj().T @ H_R  # H_R^H * H_R\n",
    "\n",
    "constraints = []\n",
    "lhs = T_R * sigma_R_sq\n",
    "rhs = sum(cp.real(cp.trace(A @ (W_c[k] @ W_c[k].H))) for k in range(K)) + \\\n",
    "      sum(cp.real(cp.trace(A @ (W_r[m] @ W_r[m].H))) for m in range(M))\n",
    "constraints.append(rhs >= lhs)"
   ]
  },
  {
   "cell_type": "code",
   "execution_count": 12,
   "id": "4cbf6874",
   "metadata": {},
   "outputs": [
    {
     "ename": "SolverError",
     "evalue": "The solver ECOS is not installed.",
     "output_type": "error",
     "traceback": [
      "\u001b[1;31m---------------------------------------------------------------------------\u001b[0m",
      "\u001b[1;31mSolverError\u001b[0m                               Traceback (most recent call last)",
      "Cell \u001b[1;32mIn[12], line 3\u001b[0m\n\u001b[0;32m      1\u001b[0m \u001b[38;5;66;03m# Definisikan problem\u001b[39;00m\n\u001b[0;32m      2\u001b[0m problem \u001b[38;5;241m=\u001b[39m cp\u001b[38;5;241m.\u001b[39mProblem(cp\u001b[38;5;241m.\u001b[39mMinimize(\u001b[38;5;28msum\u001b[39m(cp\u001b[38;5;241m.\u001b[39mnorm(w, \u001b[38;5;241m2\u001b[39m)\u001b[38;5;241m*\u001b[39m\u001b[38;5;241m*\u001b[39m\u001b[38;5;241m2\u001b[39m \u001b[38;5;28;01mfor\u001b[39;00m w \u001b[38;5;129;01min\u001b[39;00m W_c) \u001b[38;5;241m+\u001b[39m \u001b[38;5;28msum\u001b[39m(cp\u001b[38;5;241m.\u001b[39mnorm(w, \u001b[38;5;241m2\u001b[39m)\u001b[38;5;241m*\u001b[39m\u001b[38;5;241m*\u001b[39m\u001b[38;5;241m2\u001b[39m \u001b[38;5;28;01mfor\u001b[39;00m w \u001b[38;5;129;01min\u001b[39;00m W_r)), constraints)\n\u001b[1;32m----> 3\u001b[0m problem\u001b[38;5;241m.\u001b[39msolve(solver\u001b[38;5;241m=\u001b[39mcp\u001b[38;5;241m.\u001b[39mECOS)\n",
      "File \u001b[1;32m~\\AppData\\Roaming\\Python\\Python311\\site-packages\\cvxpy\\problems\\problem.py:600\u001b[0m, in \u001b[0;36mProblem.solve\u001b[1;34m(self, *args, **kwargs)\u001b[0m\n\u001b[0;32m    597\u001b[0m         \u001b[38;5;28;01mraise\u001b[39;00m \u001b[38;5;167;01mValueError\u001b[39;00m(\n\u001b[0;32m    598\u001b[0m             \u001b[38;5;124m\"\u001b[39m\u001b[38;5;124mCannot specify both \u001b[39m\u001b[38;5;124m'\u001b[39m\u001b[38;5;124msolver\u001b[39m\u001b[38;5;124m'\u001b[39m\u001b[38;5;124m and \u001b[39m\u001b[38;5;124m'\u001b[39m\u001b[38;5;124msolver_path\u001b[39m\u001b[38;5;124m'\u001b[39m\u001b[38;5;124m. Please choose one.\u001b[39m\u001b[38;5;124m\"\u001b[39m)\n\u001b[0;32m    599\u001b[0m     \u001b[38;5;28;01mreturn\u001b[39;00m \u001b[38;5;28mself\u001b[39m\u001b[38;5;241m.\u001b[39m_solve_solver_path(solve_func,solver_path, args, kwargs)\n\u001b[1;32m--> 600\u001b[0m \u001b[38;5;28;01mreturn\u001b[39;00m solve_func(\u001b[38;5;28mself\u001b[39m, \u001b[38;5;241m*\u001b[39margs, \u001b[38;5;241m*\u001b[39m\u001b[38;5;241m*\u001b[39mkwargs)\n",
      "File \u001b[1;32m~\\AppData\\Roaming\\Python\\Python311\\site-packages\\cvxpy\\problems\\problem.py:1170\u001b[0m, in \u001b[0;36mProblem._solve\u001b[1;34m(self, solver, warm_start, verbose, gp, qcp, requires_grad, enforce_dpp, ignore_dpp, canon_backend, **kwargs)\u001b[0m\n\u001b[0;32m   1167\u001b[0m         \u001b[38;5;28mself\u001b[39m\u001b[38;5;241m.\u001b[39munpack(chain\u001b[38;5;241m.\u001b[39mretrieve(soln))\n\u001b[0;32m   1168\u001b[0m         \u001b[38;5;28;01mreturn\u001b[39;00m \u001b[38;5;28mself\u001b[39m\u001b[38;5;241m.\u001b[39mvalue\n\u001b[1;32m-> 1170\u001b[0m data, solving_chain, inverse_data \u001b[38;5;241m=\u001b[39m \u001b[38;5;28mself\u001b[39m\u001b[38;5;241m.\u001b[39mget_problem_data(\n\u001b[0;32m   1171\u001b[0m     solver, gp, enforce_dpp, ignore_dpp, verbose, canon_backend, kwargs\n\u001b[0;32m   1172\u001b[0m )\n\u001b[0;32m   1174\u001b[0m \u001b[38;5;28;01mif\u001b[39;00m verbose:\n\u001b[0;32m   1175\u001b[0m     \u001b[38;5;28mprint\u001b[39m(_NUM_SOLVER_STR)\n",
      "File \u001b[1;32m~\\AppData\\Roaming\\Python\\Python311\\site-packages\\cvxpy\\problems\\problem.py:743\u001b[0m, in \u001b[0;36mProblem.get_problem_data\u001b[1;34m(self, solver, gp, enforce_dpp, ignore_dpp, verbose, canon_backend, solver_opts)\u001b[0m\n\u001b[0;32m    741\u001b[0m \u001b[38;5;28;01mif\u001b[39;00m key \u001b[38;5;241m!=\u001b[39m \u001b[38;5;28mself\u001b[39m\u001b[38;5;241m.\u001b[39m_cache\u001b[38;5;241m.\u001b[39mkey:\n\u001b[0;32m    742\u001b[0m     \u001b[38;5;28mself\u001b[39m\u001b[38;5;241m.\u001b[39m_cache\u001b[38;5;241m.\u001b[39minvalidate()\n\u001b[1;32m--> 743\u001b[0m     solving_chain \u001b[38;5;241m=\u001b[39m \u001b[38;5;28mself\u001b[39m\u001b[38;5;241m.\u001b[39m_construct_chain(\n\u001b[0;32m    744\u001b[0m         solver\u001b[38;5;241m=\u001b[39msolver, gp\u001b[38;5;241m=\u001b[39mgp,\n\u001b[0;32m    745\u001b[0m         enforce_dpp\u001b[38;5;241m=\u001b[39menforce_dpp,\n\u001b[0;32m    746\u001b[0m         ignore_dpp\u001b[38;5;241m=\u001b[39mignore_dpp,\n\u001b[0;32m    747\u001b[0m         canon_backend\u001b[38;5;241m=\u001b[39mcanon_backend,\n\u001b[0;32m    748\u001b[0m         solver_opts\u001b[38;5;241m=\u001b[39msolver_opts)\n\u001b[0;32m    749\u001b[0m     \u001b[38;5;28mself\u001b[39m\u001b[38;5;241m.\u001b[39m_cache\u001b[38;5;241m.\u001b[39mkey \u001b[38;5;241m=\u001b[39m key\n\u001b[0;32m    750\u001b[0m     \u001b[38;5;28mself\u001b[39m\u001b[38;5;241m.\u001b[39m_cache\u001b[38;5;241m.\u001b[39msolving_chain \u001b[38;5;241m=\u001b[39m solving_chain\n",
      "File \u001b[1;32m~\\AppData\\Roaming\\Python\\Python311\\site-packages\\cvxpy\\problems\\problem.py:992\u001b[0m, in \u001b[0;36mProblem._construct_chain\u001b[1;34m(self, solver, gp, enforce_dpp, ignore_dpp, canon_backend, solver_opts)\u001b[0m\n\u001b[0;32m    950\u001b[0m \u001b[38;5;28;01mdef\u001b[39;00m \u001b[38;5;21m_construct_chain\u001b[39m(\n\u001b[0;32m    951\u001b[0m         \u001b[38;5;28mself\u001b[39m,\n\u001b[0;32m    952\u001b[0m         solver: Optional[\u001b[38;5;28mstr\u001b[39m] \u001b[38;5;241m=\u001b[39m \u001b[38;5;28;01mNone\u001b[39;00m,\n\u001b[1;32m   (...)\u001b[0m\n\u001b[0;32m    957\u001b[0m         solver_opts: Optional[\u001b[38;5;28mdict\u001b[39m] \u001b[38;5;241m=\u001b[39m \u001b[38;5;28;01mNone\u001b[39;00m\n\u001b[0;32m    958\u001b[0m ) \u001b[38;5;241m-\u001b[39m\u001b[38;5;241m>\u001b[39m SolvingChain:\n\u001b[0;32m    959\u001b[0m \u001b[38;5;250m    \u001b[39m\u001b[38;5;124;03m\"\"\"\u001b[39;00m\n\u001b[0;32m    960\u001b[0m \u001b[38;5;124;03m    Construct the chains required to reformulate and solve the problem.\u001b[39;00m\n\u001b[0;32m    961\u001b[0m \n\u001b[1;32m   (...)\u001b[0m\n\u001b[0;32m    990\u001b[0m \u001b[38;5;124;03m    A solving chain\u001b[39;00m\n\u001b[0;32m    991\u001b[0m \u001b[38;5;124;03m    \"\"\"\u001b[39;00m\n\u001b[1;32m--> 992\u001b[0m     candidate_solvers \u001b[38;5;241m=\u001b[39m \u001b[38;5;28mself\u001b[39m\u001b[38;5;241m.\u001b[39m_find_candidate_solvers(solver\u001b[38;5;241m=\u001b[39msolver, gp\u001b[38;5;241m=\u001b[39mgp)\n\u001b[0;32m    993\u001b[0m     \u001b[38;5;28mself\u001b[39m\u001b[38;5;241m.\u001b[39m_sort_candidate_solvers(candidate_solvers)\n\u001b[0;32m    994\u001b[0m     \u001b[38;5;28;01mreturn\u001b[39;00m construct_solving_chain(\u001b[38;5;28mself\u001b[39m, candidate_solvers, gp\u001b[38;5;241m=\u001b[39mgp,\n\u001b[0;32m    995\u001b[0m                                    enforce_dpp\u001b[38;5;241m=\u001b[39menforce_dpp,\n\u001b[0;32m    996\u001b[0m                                    ignore_dpp\u001b[38;5;241m=\u001b[39mignore_dpp,\n\u001b[0;32m    997\u001b[0m                                    canon_backend\u001b[38;5;241m=\u001b[39mcanon_backend,\n\u001b[0;32m    998\u001b[0m                                    solver_opts\u001b[38;5;241m=\u001b[39msolver_opts,\n\u001b[0;32m    999\u001b[0m                                    specified_solver\u001b[38;5;241m=\u001b[39msolver)\n",
      "File \u001b[1;32m~\\AppData\\Roaming\\Python\\Python311\\site-packages\\cvxpy\\problems\\problem.py:855\u001b[0m, in \u001b[0;36mProblem._find_candidate_solvers\u001b[1;34m(self, solver, gp)\u001b[0m\n\u001b[0;32m    853\u001b[0m \u001b[38;5;28;01mif\u001b[39;00m solver \u001b[38;5;129;01mis\u001b[39;00m \u001b[38;5;129;01mnot\u001b[39;00m \u001b[38;5;28;01mNone\u001b[39;00m:\n\u001b[0;32m    854\u001b[0m     \u001b[38;5;28;01mif\u001b[39;00m solver \u001b[38;5;129;01mnot\u001b[39;00m \u001b[38;5;129;01min\u001b[39;00m slv_def\u001b[38;5;241m.\u001b[39mINSTALLED_SOLVERS:\n\u001b[1;32m--> 855\u001b[0m         \u001b[38;5;28;01mraise\u001b[39;00m error\u001b[38;5;241m.\u001b[39mSolverError(\u001b[38;5;124m\"\u001b[39m\u001b[38;5;124mThe solver \u001b[39m\u001b[38;5;132;01m%s\u001b[39;00m\u001b[38;5;124m is not installed.\u001b[39m\u001b[38;5;124m\"\u001b[39m \u001b[38;5;241m%\u001b[39m solver)\n\u001b[0;32m    856\u001b[0m     \u001b[38;5;28;01mif\u001b[39;00m solver \u001b[38;5;129;01min\u001b[39;00m slv_def\u001b[38;5;241m.\u001b[39mCONIC_SOLVERS:\n\u001b[0;32m    857\u001b[0m         candidates[\u001b[38;5;124m'\u001b[39m\u001b[38;5;124mconic_solvers\u001b[39m\u001b[38;5;124m'\u001b[39m] \u001b[38;5;241m+\u001b[39m\u001b[38;5;241m=\u001b[39m [solver]\n",
      "\u001b[1;31mSolverError\u001b[0m: The solver ECOS is not installed."
     ]
    }
   ],
   "source": [
    "# Definisikan problem\n",
    "problem = cp.Problem(cp.Minimize(sum(cp.norm(w, 2)**2 for w in W_c) + sum(cp.norm(w, 2)**2 for w in W_r)), constraints)\n",
    "problem.solve(solver=cp.ECOS)"
   ]
  },
  {
   "cell_type": "markdown",
   "id": "357bc5b4",
   "metadata": {},
   "source": [
    "#itu bisa sih tapi error dcp gjls kata deepseek gini tp belum coba\n",
    "\n",
    "'''\n",
    "### Pastikan A PSD dengan menambahkan regularisasi kecil jika perlu\n",
    "A = alpha * (H_R.conj().T @ H_R + 1e-6 * np.eye(M))\n",
    "\n",
    "from cvxpy import quad_form\n",
    "\n",
    "### Definisikan constraint radar SNR dengan quad_form\n",
    "rhs = sum(quad_form(W_c[k], A) for k in range(K)) + \\\n",
    "      sum(quad_form(W_r[m], A) for m in range(M))\n",
    "constraints.append(rhs >= lhs)\n",
    "\n",
    "\n",
    "import numpy as np\n",
    "import cvxpy as cp\n",
    "from cvxpy import quad_form\n",
    "\n",
    "### Parameter sistem\n",
    "M = 8\n",
    "K = 3\n",
    "N1 = 30\n",
    "N2 = 30\n",
    "T_R = 10                  # Radar SNR threshold (dB)\n",
    "Gamma_k = 2               # Minimum rate (bps/Hz)\n",
    "epsilon = 1e-4\n",
    "max_iter = 50\n",
    "\n",
    "### Parameter noise\n",
    "sigma_R_dBm = -80         \n",
    "sigma_k_dBm = -80         \n",
    "sigma_R_sq = 10**(sigma_R_dBm / 10) / 1000  \n",
    "sigma_k_sq = 10**(sigma_k_dBm / 10) / 1000  \n",
    "\n",
    "### Inisialisasi saluran H_R dan alpha\n",
    "H_R = np.random.randn(M, M) + 1j * np.random.randn(M, M)\n",
    "alpha = 1.0\n",
    "A = alpha * (H_R.conj().T @ H_R + 1e-6 * np.eye(M))  # Pastikan A PSD\n",
    "\n",
    "### Inisialisasi variabel beamforming\n",
    "W_c = [cp.Variable((M, 1), complex=True) for _ in range(K)]\n",
    "W_r = [cp.Variable((M, 1), complex=True) for _ in range(M)]\n",
    "\n",
    "### Constraint radar SNR\n",
    "constraints = []\n",
    "lhs = T_R * sigma_R_sq\n",
    "rhs = sum(quad_form(W_c[k], A) for k in range(K)) + \\\n",
    "      sum(quad_form(W_r[m], A) for m in range(M))\n",
    "constraints.append(rhs >= lhs)\n",
    "\n",
    "### Fungsi tujuan: Minimalkan total daya\n",
    "objective = sum(cp.norm(w, 2)**2 for w in W_c) + sum(cp.norm(w, 2)**2 for w in W_r)\n",
    "problem = cp.Problem(cp.Minimize(objective), constraints)\n",
    "\n",
    "### Solve dengan solver SCS\n",
    "problem.solve(solver=cp.SCS, verbose=True)\n",
    "\n",
    "print(\"Optimasi berhasil! Status:\", problem.status)\n",
    "\n",
    "'''"
   ]
  },
  {
   "cell_type": "markdown",
   "id": "7dcdc013",
   "metadata": {},
   "source": [
    "## Referensi Deepseek"
   ]
  },
  {
   "cell_type": "code",
   "execution_count": null,
   "id": "55fd6199",
   "metadata": {},
   "outputs": [],
   "source": [
    "import numpy as np\n",
    "import cvxpy as cp\n",
    "\n",
    "# Parameter sistem (contoh)\n",
    "M = 8  # Jumlah antena BS\n",
    "K = 3  # Jumlah pengguna\n",
    "N1 = 30  # Elemen RIS1\n",
    "N2 = 30  # Elemen RIS2\n",
    "T_R = 10  # Threshold SNR radar (dB)\n",
    "Gamma_k = 2  # Minimum rate pengguna (bps/Hz)\n",
    "epsilon = 1e-4  # Toleransi konvergensi\n",
    "max_iter = 50  # Iterasi maksimum\n",
    "\n",
    "# Inisialisasi variabel (contoh acak)\n",
    "w_c = [np.random.randn(M, 1) + 1j*np.random.randn(M, 1) for _ in range(K)]\n",
    "w_r = [np.random.randn(M, 1) + 1j*np.random.randn(M, 1) for _ in range(M)]\n",
    "v1 = np.exp(1j * 2 * np.pi * np.random.rand(N1))  # Unit modulus\n",
    "v2 = np.exp(1j * 2 * np.pi * np.random.rand(N2))  # Unit modulus\n",
    "\n",
    "# Simulasi saluran (diabaikan, perlu implementasi sesuai model makalah)\n",
    "H_R = np.random.randn(M, M) + 1j*np.random.randn(M, M)\n",
    "H_k = [np.random.randn(M, 1) + 1j*np.random.randn(M, 1) for _ in range(K)]\n",
    "\n",
    "# Fungsi untuk menghitung daya pancar\n",
    "def calculate_power(w_c, w_r):\n",
    "    return sum(np.linalg.norm(w, 2)**2 for w in w_c) + sum(np.linalg.norm(w, 2)**2 for w in w_r)\n",
    "\n",
    "# Algoritma utama\n",
    "prev_power = calculate_power(w_c, w_r)\n",
    "for iter in range(max_iter):\n",
    "    # Langkah 5: Optimasi beamforming (SOCP)\n",
    "    # Implementasi persamaan (17) menggunakan CVXPY\n",
    "    W_c = [cp.Variable((M, 1), complex=True) for _ in range(K)]\n",
    "    W_r = [cp.Variable((M, 1), complex=True) for _ in range(M)]\n",
    "    \n",
    "    constraints = []\n",
    "    # Tambahkan constraints dari persamaan (15) dan (16)\n",
    "    # ... (Implementasi rinci diperlukan sesuai model matematika)\n",
    "    \n",
    "    problem = cp.Problem(cp.Minimize(sum(cp.norm(w, 2)**2 for w in W_c) + sum(cp.norm(w, 2)**2 for w in W_r)),\n",
    "                     constraints)\n",
    "    problem.solve(solver=cp.ECOS)\n",
    "    \n",
    "    # Perbarui nilai beamforming\n",
    "    w_c = [W_c[k].value for k in range(K)]\n",
    "    w_r = [W_r[m].value for m in range(M)]\n",
    "    \n",
    "    # Langkah 6-8: Optimasi RIS1 (SDR dan Gaussian randomization)\n",
    "    # Implementasi persamaan (32)\n",
    "    U1 = cp.Variable((N1+1, N1+1), hermitian=True)\n",
    "    constraints = [\n",
    "        U1 >> 0,\n",
    "        # Tambahkan constraints dari persamaan (27), (30), (31)\n",
    "    ]\n",
    "    problem = cp.Problem(cp.Minimize(0), constraints)\n",
    "    problem.solve(solver=cp.SCS)\n",
    "    \n",
    "    # Gaussian randomization untuk ekstraksi v1\n",
    "    # ... (Implementasi prosedur randomisasi)\n",
    "    \n",
    "    # Langkah 9: Optimasi RIS2 (SOCP)\n",
    "    # Implementasi persamaan (38)\n",
    "    u2 = cp.Variable(N2+1, complex=True)\n",
    "    constraints = [\n",
    "        # Tambahkan constraints dari persamaan (36) dan (37)\n",
    "    ]\n",
    "    problem = cp.Problem(cp.Minimize(0), constraints)\n",
    "    problem.solve(solver=cp.ECOS)\n",
    "    \n",
    "    # Perbarui v2 dari u2\n",
    "    v2 = u2.value[:N2] / np.abs(u2.value[:N2])  # Proyeksi ke unit modulus\n",
    "    \n",
    "    # Periksa konvergensi\n",
    "    current_power = calculate_power(w_c, w_r)\n",
    "    if abs(current_power - prev_power) < epsilon:\n",
    "        break\n",
    "    prev_power = current_power\n",
    "\n",
    "print(f\"Konvergensi tercapai dalam {iter+1} iterasi. Daya akhir: {current_power:.4f}\")"
   ]
  }
 ],
 "metadata": {
  "kernelspec": {
   "display_name": "Python 3 (ipykernel)",
   "language": "python",
   "name": "python3"
  },
  "language_info": {
   "codemirror_mode": {
    "name": "ipython",
    "version": 3
   },
   "file_extension": ".py",
   "mimetype": "text/x-python",
   "name": "python",
   "nbconvert_exporter": "python",
   "pygments_lexer": "ipython3",
   "version": "3.11.7"
  }
 },
 "nbformat": 4,
 "nbformat_minor": 5
}
